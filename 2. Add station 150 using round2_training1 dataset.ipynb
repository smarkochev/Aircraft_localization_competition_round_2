{
 "cells": [
  {
   "cell_type": "code",
   "execution_count": 1,
   "metadata": {},
   "outputs": [],
   "source": [
    "%load_ext autoreload\n",
    "%autoreload 2"
   ]
  },
  {
   "cell_type": "code",
   "execution_count": 2,
   "metadata": {},
   "outputs": [],
   "source": [
    "from IPython.core.pylabtools import figsize\n",
    "import matplotlib.pyplot as plt\n",
    "\n",
    "import pandas as pd\n",
    "import numpy as np\n",
    "\n",
    "from src.stations import Stations\n",
    "from src.track import Track, TrackCollection\n",
    "\n",
    "%matplotlib inline"
   ]
  },
  {
   "cell_type": "markdown",
   "metadata": {},
   "source": [
    "## Grounds to include station 150 separately"
   ]
  },
  {
   "cell_type": "code",
   "execution_count": 3,
   "metadata": {},
   "outputs": [],
   "source": [
    "# I carried out several attempts to synchronize stations and found that \n",
    "# there are two ways how one can reach stations around station 150:\n",
    "# - include station 150 initially together with other good stations;\n",
    "# - add station 150 separately.\n",
    "\n",
    "# The second approach is preferred as in the round2_competition dataset\n",
    "# there is only pair (131, 150) available. One pair is not enough to find\n",
    "# location of station 150 and also I didn't include station 131 in the best\n",
    "# 35 good stations.\n",
    "\n",
    "### How to add station 150:\n",
    "\n",
    "# Only round2_training1 dataset contains a pair (14, 150) with\n",
    "# station 14 which is a really good station. So, I decided to use default location\n",
    "# for station 150, just to find its shift using known shift value for station 14."
   ]
  },
  {
   "cell_type": "code",
   "execution_count": 3,
   "metadata": {},
   "outputs": [
    {
     "name": "stderr",
     "output_type": "stream",
     "text": [
      "100%|██████████| 2888/2888 [06:57<00:00,  6.91it/s] \n"
     ]
    }
   ],
   "source": [
    "df = pd.read_csv('data/round2_training1.csv')\n",
    "tracks = TrackCollection(df)"
   ]
  },
  {
   "cell_type": "code",
   "execution_count": 4,
   "metadata": {},
   "outputs": [],
   "source": [
    "# Information about sensors\n",
    "\n",
    "sensors = pd.read_csv('data/round2_sensors.csv')"
   ]
  },
  {
   "cell_type": "code",
   "execution_count": 5,
   "metadata": {},
   "outputs": [
    {
     "data": {
      "text/plain": [
       "Stations: 14, 150"
      ]
     },
     "execution_count": 5,
     "metadata": {},
     "output_type": "execute_result"
    }
   ],
   "source": [
    "import json\n",
    "\n",
    "# Download stations parameters calculated previously\n",
    "with open('stations_params.json', 'r') as f:\n",
    "    st_params = json.load(f)\n",
    "\n",
    "# A0 and B values from optimization of 35 good stations\n",
    "A0_B = [pow(10, y) for y in [-3.43667365e+00, -4.06472353e+00]]\n",
    "\n",
    "# New stations object\n",
    "st = Stations([14, 150])\n",
    "st.A0 = A0_B[0]\n",
    "st.B = A0_B[1]\n",
    "\n",
    "st.update_location(14, st_params['14']['location'])\n",
    "st.st_params = st_params\n",
    "\n",
    "st"
   ]
  },
  {
   "cell_type": "markdown",
   "metadata": {},
   "source": [
    "## Optimization"
   ]
  },
  {
   "cell_type": "code",
   "execution_count": 6,
   "metadata": {},
   "outputs": [
    {
     "name": "stderr",
     "output_type": "stream",
     "text": [
      "100%|██████████| 2888/2888 [00:00<00:00, 6721.56it/s]\n",
      "100%|██████████| 1/1 [00:00<00:00, 919.80it/s]\n",
      "100%|██████████| 2/2 [00:00<00:00, 1376.76it/s]\n"
     ]
    }
   ],
   "source": [
    "from src.solvers import GoodStationsSolver\n",
    "\n",
    "gss = GoodStationsSolver()\n",
    "gss.prepare_data(tracks, st, threshold=1500*1e-9, N=10000)"
   ]
  },
  {
   "cell_type": "code",
   "execution_count": 7,
   "metadata": {},
   "outputs": [
    {
     "name": "stdout",
     "output_type": "stream",
     "text": [
      "282\n"
     ]
    }
   ],
   "source": [
    "# Check the number of points available\n",
    "\n",
    "print(len(gss.points['t1']))"
   ]
  },
  {
   "cell_type": "code",
   "execution_count": 8,
   "metadata": {},
   "outputs": [
    {
     "name": "stdout",
     "output_type": "stream",
     "text": [
      "(array([-7.40125063, -7.03697761]), 13.56834792159379)\n"
     ]
    }
   ],
   "source": [
    "# Make optimization\n",
    "gss.optimize(st, A0_B[0], A0_B[1], [np.log10(st_params['14']['shift'])]*2, optimize_locations_flag=False)"
   ]
  },
  {
   "cell_type": "code",
   "execution_count": 12,
   "metadata": {},
   "outputs": [
    {
     "name": "stdout",
     "output_type": "stream",
     "text": [
      "1.112710475686094e-07\n"
     ]
    }
   ],
   "source": [
    "# Get shift value for station 150\n",
    "shift_150 = st_params['14']['shift'] - pow(10, gss.result[0][0]) + pow(10, gss.result[0][1])\n",
    "\n",
    "print(shift_150)"
   ]
  },
  {
   "cell_type": "code",
   "execution_count": 13,
   "metadata": {},
   "outputs": [],
   "source": [
    "# Add synchronization\n",
    "st_params['150'] = {'shift': shift_150,\n",
    "                    'location': list(sensors.loc[sensors.serial==150, ['latitude', 'longitude', 'height']].values[0])}\n",
    "\n",
    "st.st_params = st_params\n",
    "\n",
    "## Save parameters\n",
    "with open('stations_params.json', 'w') as f:\n",
    "    json.dump(st_params, f)"
   ]
  },
  {
   "cell_type": "code",
   "execution_count": 14,
   "metadata": {},
   "outputs": [
    {
     "name": "stdout",
     "output_type": "stream",
     "text": [
      "Approx Median error [m]: 11.468296179373283\n"
     ]
    },
    {
     "data": {
      "image/png": "[encoded data removed]",
      "text/plain": [
       "<Figure size 1080x360 with 1 Axes>"
      ]
     },
     "metadata": {
      "needs_background": "light"
     },
     "output_type": "display_data"
    }
   ],
   "source": [
    "### Check stations synchronization\n",
    "figsize(15, 5)\n",
    "_ = tracks.get_aircraft_times(st, (14, 150), verbose=True)"
   ]
  },
  {
   "cell_type": "code",
   "execution_count": null,
   "metadata": {},
   "outputs": [],
   "source": []
  }
 ],
 "metadata": {
  "kernelspec": {
   "display_name": "Python 3",
   "language": "python",
   "name": "python3"
  },
  "language_info": {
   "codemirror_mode": {
    "name": "ipython",
    "version": 3
   },
   "file_extension": ".py",
   "mimetype": "text/x-python",
   "name": "python",
   "nbconvert_exporter": "python",
   "pygments_lexer": "ipython3",
   "version": "3.9.0"
  }
 },
 "nbformat": 4,
 "nbformat_minor": 4
}
