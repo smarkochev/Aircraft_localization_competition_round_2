{
 "cells": [
  {
   "cell_type": "code",
   "execution_count": 1,
   "metadata": {},
   "outputs": [],
   "source": [
    "%load_ext autoreload\n",
    "%autoreload 2"
   ]
  },
  {
   "cell_type": "code",
   "execution_count": 2,
   "metadata": {},
   "outputs": [],
   "source": [
    "import os\n",
    "LIB_PATH = 'build/' + os.listdir('build')[0] + '/src/optimize.o'"
   ]
  },
  {
   "cell_type": "code",
   "execution_count": 3,
   "metadata": {},
   "outputs": [
    {
     "name": "stdout",
     "output_type": "stream",
     "text": [
      ".   filters.py\t.ipynb_checkpoints  __pycache__  stations.py\r\n",
      "..  geo.py\toptimize.pyx\t    solvers.py\t track.py\r\n"
     ]
    }
   ],
   "source": [
    "!rm src/optimize.o src/optimize.c\n",
    "!rm -r build\n",
    "!ls -a src"
   ]
  },
  {
   "cell_type": "code",
   "execution_count": 4,
   "metadata": {},
   "outputs": [
    {
     "name": "stdout",
     "output_type": "stream",
     "text": [
      "Compiling src/optimize.pyx because it changed.\n",
      "[1/1] Cythonizing src/optimize.pyx\n",
      "/home/sergei/Programms/anaconda3/envs/gt/lib/python3.9/site-packages/Cython/Compiler/Main.py:369: FutureWarning: Cython directive 'language_level' not set, using 2 for now (Py2). This will change in a later release! File: /home/sergei/Documents/Projects/Aircraft round 2/src/optimize.pyx\n",
      "  tree = Parsing.p_module(s, pxd, full_module_name)\n",
      "warning: src/optimize.pyx:49:21: Non-trivial type declarators in shared declaration (e.g. mix of pointers and values). Each pointer declaration should be on its own line.\n",
      "warning: src/optimize.pyx:49:31: Non-trivial type declarators in shared declaration (e.g. mix of pointers and values). Each pointer declaration should be on its own line.\n",
      "running build_ext\n",
      "building 'optimize' extension\n",
      "creating build\n",
      "creating build/temp.linux-x86_64-3.9\n",
      "creating build/temp.linux-x86_64-3.9/src\n",
      "gcc -pthread -B /home/sergei/Programms/anaconda3/envs/gt/compiler_compat -Wl,--sysroot=/ -Wno-unused-result -Wsign-compare -DNDEBUG -fwrapv -O2 -Wall -fPIC -O2 -isystem /home/sergei/Programms/anaconda3/envs/gt/include -fPIC -O2 -isystem /home/sergei/Programms/anaconda3/envs/gt/include -fPIC -I/home/sergei/Programms/anaconda3/envs/gt/lib/python3.9/site-packages/numpy/core/include -I/home/sergei/Programms/anaconda3/envs/gt/include/python3.9 -c src/optimize.c -o build/temp.linux-x86_64-3.9/src/optimize.o -fopenmp\n",
      "In file included from \u001b[01m\u001b[K/home/sergei/Programms/anaconda3/envs/gt/lib/python3.9/site-packages/numpy/core/include/numpy/ndarraytypes.h:1822:0\u001b[m\u001b[K,\n",
      "                 from \u001b[01m\u001b[K/home/sergei/Programms/anaconda3/envs/gt/lib/python3.9/site-packages/numpy/core/include/numpy/ndarrayobject.h:12\u001b[m\u001b[K,\n",
      "                 from \u001b[01m\u001b[K/home/sergei/Programms/anaconda3/envs/gt/lib/python3.9/site-packages/numpy/core/include/numpy/arrayobject.h:4\u001b[m\u001b[K,\n",
      "                 from \u001b[01m\u001b[Ksrc/optimize.c:629\u001b[m\u001b[K:\n",
      "\u001b[01m\u001b[K/home/sergei/Programms/anaconda3/envs/gt/lib/python3.9/site-packages/numpy/core/include/numpy/npy_1_7_deprecated_api.h:17:2:\u001b[m\u001b[K \u001b[01;35m\u001b[Kwarning: \u001b[m\u001b[K#warning \"Using deprecated NumPy API, disable it with \" \"#define NPY_NO_DEPRECATED_API NPY_1_7_API_VERSION\" [\u001b[01;35m\u001b[K-Wcpp\u001b[m\u001b[K]\n",
      " #\u001b[01;35m\u001b[Kwarning\u001b[m\u001b[K \"Using deprecated NumPy API, disable it with \" \\\n",
      "  \u001b[01;35m\u001b[K^~~~~~~\u001b[m\u001b[K\n",
      "\u001b[01m\u001b[Ksrc/optimize.c:\u001b[m\u001b[K In function ‘\u001b[01m\u001b[K__Pyx_InitGlobals\u001b[m\u001b[K’:\n",
      "\u001b[01m\u001b[Ksrc/optimize.c:21778:1:\u001b[m\u001b[K \u001b[01;35m\u001b[Kwarning: \u001b[m\u001b[K‘\u001b[01m\u001b[KPyEval_InitThreads\u001b[m\u001b[K’ is deprecated [\u001b[01;35m\u001b[K-Wdeprecated-declarations\u001b[m\u001b[K]\n",
      " \u001b[01;35m\u001b[KPyEval_InitThreads\u001b[m\u001b[K();\n",
      " \u001b[01;35m\u001b[K^~~~~~~~~~~~~~~~~~\u001b[m\u001b[K\n",
      "In file included from \u001b[01m\u001b[K/home/sergei/Programms/anaconda3/envs/gt/include/python3.9/Python.h:145:0\u001b[m\u001b[K,\n",
      "                 from \u001b[01m\u001b[Ksrc/optimize.c:23\u001b[m\u001b[K:\n",
      "\u001b[01m\u001b[K/home/sergei/Programms/anaconda3/envs/gt/include/python3.9/ceval.h:130:37:\u001b[m\u001b[K \u001b[01;36m\u001b[Knote: \u001b[m\u001b[Kdeclared here\n",
      " Py_DEPRECATED(3.9) PyAPI_FUNC(void) \u001b[01;36m\u001b[KPyEval_InitThreads\u001b[m\u001b[K(void);\n",
      "                                     \u001b[01;36m\u001b[K^~~~~~~~~~~~~~~~~~\u001b[m\u001b[K\n",
      "At top level:\n",
      "\u001b[01m\u001b[Ksrc/optimize.c:2690:18:\u001b[m\u001b[K \u001b[01;35m\u001b[Kwarning: \u001b[m\u001b[K‘\u001b[01m\u001b[K__pyx_f_8optimize_dist3d_c\u001b[m\u001b[K’ defined but not used [\u001b[01;35m\u001b[K-Wunused-function\u001b[m\u001b[K]\n",
      " static PyObject *\u001b[01;35m\u001b[K__pyx_f_8optimize_dist3d_c\u001b[m\u001b[K(double __pyx_v_latitude1, double __pyx_v_longitude1, double __pyx_v_height1, double __pyx_v_latitude2, double __pyx_v_longitude2, double __pyx_v_height2) {\n",
      "                  \u001b[01;35m\u001b[K^~~~~~~~~~~~~~~~~~~~~~~~~~\u001b[m\u001b[K\n",
      "gcc -pthread -B /home/sergei/Programms/anaconda3/envs/gt/compiler_compat -Wl,--sysroot=/ -shared -Wl,-rpath,/home/sergei/Programms/anaconda3/envs/gt/lib -Wl,-rpath-link,/home/sergei/Programms/anaconda3/envs/gt/lib -L/home/sergei/Programms/anaconda3/envs/gt/lib -Wl,-rpath,/home/sergei/Programms/anaconda3/envs/gt/lib -Wl,-rpath-link,/home/sergei/Programms/anaconda3/envs/gt/lib -L/home/sergei/Programms/anaconda3/envs/gt/lib build/temp.linux-x86_64-3.9/src/optimize.o -o /home/sergei/Documents/Projects/Aircraft round 2/optimize.cpython-39-x86_64-linux-gnu.so -fopenmp\n",
      ".   filters.py\t.ipynb_checkpoints  optimize.o\t  __pycache__  stations.py\n",
      "..  geo.py\toptimize.c\t    optimize.pyx  solvers.py   track.py\n"
     ]
    }
   ],
   "source": [
    "# Compiling cython code\n",
    "!python setup.py build_ext --inplace\n",
    "\n",
    "# Copy library to src folder\n",
    "!cp $LIB_PATH src\n",
    "\n",
    "# Check src folder\n",
    "!ls -a src"
   ]
  },
  {
   "cell_type": "code",
   "execution_count": 2,
   "metadata": {},
   "outputs": [],
   "source": [
    "from IPython.core.pylabtools import figsize\n",
    "import matplotlib.pyplot as plt\n",
    "\n",
    "import pandas as pd\n",
    "import numpy as np\n",
    "\n",
    "import itertools\n",
    "import warnings\n",
    "warnings.filterwarnings('ignore')\n",
    "\n",
    "from src.geo import *\n",
    "from src.stations import Stations\n",
    "from src.filters import median_filter\n",
    "from src.track import Track, TrackCollection\n",
    "from src.solvers import *\n",
    "\n",
    "from optimize import *\n",
    "\n",
    "from tqdm import tqdm\n",
    "from collections import defaultdict\n",
    "import json\n",
    "import os\n",
    "\n",
    "from sklearn.linear_model import RANSACRegressor\n",
    "\n",
    "\n",
    "%matplotlib inline"
   ]
  },
  {
   "cell_type": "code",
   "execution_count": 3,
   "metadata": {},
   "outputs": [],
   "source": [
    "\n",
    "\n",
    "## All data\n",
    "df = (pd.read_csv('round2/round2_competition.csv')\n",
    "      .assign(test = lambda x: x.latitude.apply(lambda y: int(np.isnan(y))))\n",
    "      #.loc[lambda x: x.test==0]\n",
    "      .reset_index(drop=True)\n",
    "     )"
   ]
  },
  {
   "cell_type": "code",
   "execution_count": 145,
   "metadata": {},
   "outputs": [
    {
     "name": "stdout",
     "output_type": "stream",
     "text": [
      "Number of synchronized stations= 240\n"
     ]
    }
   ],
   "source": [
    "with open('stations_params.json', 'r') as f:\n",
    "    st_params = json.load(f)\n",
    "    \n",
    "A0_B = [pow(10, y) for y in [-3.43667365e+00, -4.06472353e+00]]\n",
    "    \n",
    "st = Stations([int(s) for s in st_params])\n",
    "st.A0 = A0_B[0]\n",
    "st.B = A0_B[1]\n",
    "print('Number of synchronized stations=', len(st.inventory))\n",
    "\n",
    "for s in st_params:\n",
    "    st.update_location(int(s), st_params[s]['location'])\n",
    "    \n",
    "st.st_params = st_params\n",
    "\n",
    "#tr = Track(df[df.aircraft==df.aircraft.unique()[0]], st)\n",
    "#tr.correct_time(st)"
   ]
  },
  {
   "cell_type": "code",
   "execution_count": null,
   "metadata": {},
   "outputs": [],
   "source": []
  },
  {
   "cell_type": "code",
   "execution_count": 6,
   "metadata": {},
   "outputs": [],
   "source": [
    "del df"
   ]
  },
  {
   "cell_type": "code",
   "execution_count": 5,
   "metadata": {},
   "outputs": [
    {
     "name": "stderr",
     "output_type": "stream",
     "text": [
      "100%|██████████| 2629/2629 [08:32<00:00,  5.13it/s]\n"
     ]
    }
   ],
   "source": [
    "from src.track import Track\n",
    "tracks = TrackCollection(df[df.test==0], st)"
   ]
  },
  {
   "cell_type": "code",
   "execution_count": 3,
   "metadata": {},
   "outputs": [
    {
     "name": "stdout",
     "output_type": "stream",
     "text": [
      "Sensors shape (716, 6)\n",
      "Number of synchronized stations= 201\n"
     ]
    }
   ],
   "source": [
    "A0_B = [pow(10, y) for y in [-3.43667365e+00, -4.06472353e+00]]\n",
    "        \n",
    "shifts = [pow(10, y) for y in [-7.11434081e+00, -7.22819731e+00,\n",
    "       -8.83870731e+00, -7.06997492e+00, -7.08268100e+00, -7.00938609e+00,\n",
    "       -1.01729574e+01, -9.77355387e+00, -7.11141541e+00, -6.76659381e+00,\n",
    "       -7.22278746e+00, -6.92709914e+00, -7.03996985e+00, -7.75427061e+00,\n",
    "       -9.11757476e+00, -6.89056754e+00, -9.46801783e+00, -7.21695015e+00,\n",
    "       -7.33769829e+00, -6.91792998e+00, -7.36301447e+00, -8.56531160e+00,\n",
    "       -6.75218732e+00, -3.91861080e+00, -3.91835193e+00, -3.91807496e+00,\n",
    "       -3.91839432e+00, -3.91839479e+00, -6.81686631e+00, -6.82750234e+00,\n",
    "       -6.72162050e+00, -7.12386142e+00, -7.05804971e+00, -6.96517205e+00,\n",
    "       -8.76157876e+00]]\n",
    "        \n",
    "locations = [4.74003907e+01,  8.63053167e+00,  4.30683845e+02,\n",
    "        4.72482948e+01,  8.52974042e+00,  6.25144672e+02,  4.70704381e+01,\n",
    "        7.62059643e+00,  5.60811656e+02,  4.75381564e+01,  7.55951888e+00,\n",
    "        3.52785754e+02,  4.94248656e+01,  7.75277186e+00,  2.92222132e+02,\n",
    "        4.60500229e+01,  1.44691210e+01,  3.46882083e+02,  5.09371903e+01,\n",
    "        7.35395305e+00,  2.62305822e+02,  3.86893683e+01, -9.35489820e+00,\n",
    "        7.37338821e+01,  4.65138771e+01,  1.51881293e+01,  1.57734454e+03,\n",
    "        4.75119828e+01,  1.02801412e+01,  7.54540937e+02,  4.83658601e+01,\n",
    "        1.14784277e+01,  4.92925814e+02,  4.70361216e+01,  8.32399853e+00,\n",
    "        4.79550824e+02,  4.81787456e+01,  1.22354460e+01,  5.29391996e+02,\n",
    "        5.27809770e+01, -1.20441490e+00,  4.27620402e+01,  5.18724544e+01,\n",
    "       -5.06989464e-01,  1.81262795e+02,  5.14865736e+01,  7.59784956e+00,\n",
    "        1.46600666e+02,  4.95296172e+01,  1.09061941e+01,  3.06901503e+02,\n",
    "        4.88913513e+01,  9.17767383e+00,  3.03714814e+02,  5.12458814e+01,\n",
    "       -7.68625186e-01,  1.08587905e+02,  4.86569294e+01,  8.72482551e+00,\n",
    "        3.60914642e+02,  5.18331813e+01,  4.14276178e+00,  1.09823167e+01,\n",
    "        5.12427012e+01,  6.68497250e+00,  4.39053786e+01,  3.71713545e+01,\n",
    "       -7.52168839e+00,  6.65337662e+01,  4.92876342e+01,  7.60384112e+00,\n",
    "        4.10653429e+02,  4.94716113e+01,  7.69651939e+00,  2.67632204e+02,\n",
    "        4.67624871e+01,  7.60048572e+00,  5.90875517e+02,  4.73778257e+01,\n",
    "        8.55247058e+00,  5.03952969e+02,  5.02060722e+01,  6.97846214e+00,\n",
    "        4.34708535e+02,  3.92316619e+01, -9.30812764e+00,  6.39646694e+01,\n",
    "        4.01651070e+01, -8.19932381e+00,  1.80718597e+02,  3.89892473e+01,\n",
    "       -7.15020320e+00,  2.41443914e+02,  4.87109833e+01,  9.26528906e+00,\n",
    "        3.55448500e+02,  4.70362217e+01,  8.32402692e+00,  4.61417533e+02,\n",
    "        4.99882346e+01,  8.59180901e+00,  1.34775358e+02,  5.13416634e+01,\n",
    "        5.89330577e+00,  3.13178694e+01]\n",
    "\n",
    "# Information about sensors\n",
    "\n",
    "sensors = pd.read_csv('round2/round2_sensors.csv')\n",
    "print('Sensors shape', sensors.shape)\n",
    "\n",
    "good_sensors = sensors[sensors.good==True].serial.values\n",
    "\n",
    "first_set = list(set(good_sensors).difference([175, 532, 319, 201, 131, 150, 132, 142, 135, 187]))\n",
    "first_set = sorted(first_set)\n",
    "\n",
    "from src.stations import Stations\n",
    "from sklearn.linear_model import LinearRegression\n",
    "import json\n",
    "\n",
    "from functools import partial\n",
    "\n",
    "def func(t, station):\n",
    "    with open('stations_params.json', 'r') as f:\n",
    "        st_params = json.load(f)\n",
    "                \n",
    "        s = str(station)\n",
    "        a = st_params[s]['lr'][0]\n",
    "        b = st_params[s]['lr'][1]\n",
    "        spl = (np.array(st_params[s]['spl_knots']), np.array(st_params[s]['spl_coefs']), 3)\n",
    "\n",
    "        return (t - b - splev((t - b)/(1 + a), spl)) / (1 + a)\n",
    "    \n",
    "\n",
    "with open('stations_params.json', 'r') as f:  \n",
    "    st_params = json.load(f)\n",
    "    \n",
    "st = Stations(first_set)\n",
    "st.A0 = A0_B[0]\n",
    "st.B = A0_B[1]\n",
    "\n",
    "# time correction for good stations\n",
    "for i, s in enumerate(st.inventory):\n",
    "    st.update_location(s, locations[3*i:3*i+3])\n",
    "    #st.set_time_correction(s, shift=shifts[i])\n",
    "    \n",
    "# time correction for new stations\n",
    "for s in st_params:\n",
    "    sint = int(s)\n",
    "            \n",
    "    st.add_station(sint)\n",
    "    st.update_location(sint, st_params[s]['location'])\n",
    "    #st.set_time_correction(sint, func=partial(func, station=sint))\n",
    "     \n",
    "for i, s in enumerate(first_set):\n",
    "    st_params[str(s)] = {'shift': shifts[i]}\n",
    "    \n",
    "st.st_params = st_params\n",
    "print('Number of synchronized stations=', len(st.inventory))"
   ]
  },
  {
   "cell_type": "code",
   "execution_count": null,
   "metadata": {},
   "outputs": [],
   "source": []
  },
  {
   "cell_type": "code",
   "execution_count": 54,
   "metadata": {},
   "outputs": [
    {
     "data": {
      "text/plain": [
       "41"
      ]
     },
     "execution_count": 54,
     "metadata": {},
     "output_type": "execute_result"
    }
   ],
   "source": [
    "gc.collect()"
   ]
  },
  {
   "cell_type": "code",
   "execution_count": 178,
   "metadata": {},
   "outputs": [
    {
     "data": {
      "text/plain": [
       "Collection of 2625 tracks"
      ]
     },
     "execution_count": 178,
     "metadata": {},
     "output_type": "execute_result"
    }
   ],
   "source": [
    "from sklearn.linear_model import LinearRegression\n",
    "from sklearn.neighbors import NearestNeighbors\n",
    "\n",
    "tr = tracks[0]\n",
    "tel = tr._telemetry.copy()\n",
    "tracks._tracks = tracks._tracks[1:]\n",
    "tracks"
   ]
  },
  {
   "cell_type": "code",
   "execution_count": 179,
   "metadata": {
    "scrolled": true
   },
   "outputs": [
    {
     "name": "stdout",
     "output_type": "stream",
     "text": [
      "Combination (143, 481, 590), 756 records\n",
      "Combination (143, 590, 607), 640 records\n",
      "Combination (143, 481, 590), 639 records\n",
      "Cannot update locations, break\n"
     ]
    }
   ],
   "source": [
    "## all combinations\n",
    "s3 = [s for s in tr.stations_comb() if len(s) == 3]\n",
    "# indexes of records\n",
    "ind_tel = np.where(np.array([len(y) for y in tel.stations])<3)[0]\n",
    "# output\n",
    "result = np.zeros([tel.shape[0], 3])\n",
    "result[ind_tel, 2] = -1\n",
    "del ind_tel\n",
    "# index storage\n",
    "ind = np.where(result[:, 2] == 0)[0]\n",
    "\n",
    "N = len(ind)-1\n",
    "comb = None\n",
    "\n",
    "while len(ind) > 0:\n",
    "    ind = np.where(result[:, 2] == 0)[0]\n",
    "    \n",
    "    if len(ind) == N:\n",
    "        print('Cannot update locations, break')\n",
    "        break\n",
    "        \n",
    "    N = len(ind)\n",
    "\n",
    "    # number of records per combination\n",
    "    nums = [len(set(tr._stations[s]).intersection(ind)) for s in s3]\n",
    "    # select combination with max records\n",
    "    \n",
    "    if comb is None:\n",
    "        comb = s3[np.argmax(np.array(nums))]\n",
    "    else:\n",
    "        if comb == s3[np.argmax(np.array(nums))]:\n",
    "            comb = s3[(np.argsort(np.array(nums))[::-1])[1]]\n",
    "        else:\n",
    "            comb = s3[np.argmax(np.array(nums))]\n",
    "            \n",
    "    comb_ind = tr._stations[comb]\n",
    "\n",
    "    # delta times in records\n",
    "    rest_ind = np.array([i for i, j in enumerate(comb_ind) if j in ind])\n",
    "    x = tr.time(comb).values[rest_ind]\n",
    "    x[:, 1] = x[:, 1] - x[:, 0]\n",
    "    x[:, 2] = x[:, 2] - x[:, 0]\n",
    "    x = x[:, 1:]\n",
    "    \n",
    "    print(f'Combination {comb}, {x.shape[0]} records')\n",
    "    \n",
    "    # get telemetry from train for this combination\n",
    "    r = tracks.aggregate(comb, return_telemetry=True, return_time=True)\n",
    "    latlon = r[1][['latitude', 'longitude']].values\n",
    "    dt = r[1][r[1].columns[-3:]].values\n",
    "    \n",
    "    if latlon.shape[0] < 100:\n",
    "        print('Too small samples, break')\n",
    "        break\n",
    "\n",
    "    neigh = NearestNeighbors(n_neighbors=30)\n",
    "\n",
    "    # prepare delta times to fit\n",
    "    dt[:, 1] = dt[:, 1] - dt[:, 0]\n",
    "    dt[:, 2] = dt[:, 2] - dt[:, 0]\n",
    "    dt = dt[:, 1:]\n",
    "    neigh.fit(dt)\n",
    "\n",
    "    # loop over records\n",
    "    for i in range(x.shape[0]):\n",
    "        # closest points\n",
    "        _, j = neigh.kneighbors(x[i, :].reshape(1, 2))\n",
    "        j = j.flatten()\n",
    "        \n",
    "        # fit linear regressions\n",
    "        lr_lat = LinearRegression().fit(dt[j, :], latlon[j, 0])\n",
    "        lr_lon = LinearRegression().fit(dt[j, :], latlon[j, 1])\n",
    "\n",
    "        lat_pred = lr_lat.predict(dt[j, :])\n",
    "        lon_pred = lr_lon.predict(dt[j, :])\n",
    "\n",
    "        # estimate error for 5 closest points\n",
    "        err = np.mean([haversine_distance(lat1, lon1, lat2, lon2) for lat1, lon1, lat2, lon2 in zip(latlon[j[:5], 0],\n",
    "                                                                                                latlon[j[:5], 1],\n",
    "                                                                                                lat_pred[:5],\n",
    "                                                                                                lon_pred[:5])])\n",
    "\n",
    "        if err < 500:\n",
    "            result[comb_ind[rest_ind[i]], 0] = lr_lat.predict(x[i, :].reshape(1, 2))\n",
    "            result[comb_ind[rest_ind[i]], 1] = lr_lon.predict(x[i, :].reshape(1, 2))\n",
    "            result[comb_ind[rest_ind[i]], 2] = err"
   ]
  },
  {
   "cell_type": "code",
   "execution_count": null,
   "metadata": {},
   "outputs": [],
   "source": []
  },
  {
   "cell_type": "code",
   "execution_count": 181,
   "metadata": {},
   "outputs": [
    {
     "name": "stdout",
     "output_type": "stream",
     "text": [
      "139\n"
     ]
    },
    {
     "data": {
      "text/plain": [
       "<matplotlib.colorbar.Colorbar at 0x7f0f59bbb820>"
      ]
     },
     "execution_count": 181,
     "metadata": {},
     "output_type": "execute_result"
    },
    {
     "data": {
      "image/png": "[encoded data removed]",
      "text/plain": [
       "<Figure size 432x288 with 2 Axes>"
      ]
     },
     "metadata": {
      "needs_background": "light"
     },
     "output_type": "display_data"
    }
   ],
   "source": [
    "q = np.where((result[:, 2]>0)&(result[:, 2]<1000))[0]\n",
    "print(q.shape[0])\n",
    "\n",
    "plt.plot(tel.longitude, tel.latitude, '.', ms=2)\n",
    "plt.scatter(result[q, 1], result[q, 0], c=result[q, 2])\n",
    "plt.colorbar()"
   ]
  },
  {
   "cell_type": "code",
   "execution_count": 174,
   "metadata": {},
   "outputs": [
    {
     "name": "stdout",
     "output_type": "stream",
     "text": [
      "filter trajectory to keep the longest sequence of points complying with the speed limits\n",
      "initial number of points 259\n",
      "longest sequence 215\n"
     ]
    }
   ],
   "source": [
    "res = filter_speedlimit(result[q, 0],\n",
    "                        result[q, 1],\n",
    "                        tel.timeAtServer.values[q],\n",
    "                          0, 300, verbose)\n",
    "ind3 = q[np.where(res == True)[0]]"
   ]
  },
  {
   "cell_type": "code",
   "execution_count": null,
   "metadata": {},
   "outputs": [],
   "source": []
  },
  {
   "cell_type": "code",
   "execution_count": null,
   "metadata": {},
   "outputs": [],
   "source": []
  },
  {
   "cell_type": "code",
   "execution_count": null,
   "metadata": {},
   "outputs": [],
   "source": []
  },
  {
   "cell_type": "code",
   "execution_count": null,
   "metadata": {},
   "outputs": [],
   "source": []
  },
  {
   "cell_type": "code",
   "execution_count": 36,
   "metadata": {},
   "outputs": [],
   "source": []
  },
  {
   "cell_type": "code",
   "execution_count": null,
   "metadata": {},
   "outputs": [],
   "source": []
  },
  {
   "cell_type": "code",
   "execution_count": null,
   "metadata": {},
   "outputs": [],
   "source": []
  },
  {
   "cell_type": "code",
   "execution_count": 58,
   "metadata": {},
   "outputs": [],
   "source": []
  },
  {
   "cell_type": "code",
   "execution_count": null,
   "metadata": {},
   "outputs": [],
   "source": []
  },
  {
   "cell_type": "code",
   "execution_count": null,
   "metadata": {},
   "outputs": [],
   "source": []
  },
  {
   "cell_type": "code",
   "execution_count": 65,
   "metadata": {},
   "outputs": [
    {
     "data": {
      "text/plain": [
       "0.5624016482023345"
      ]
     },
     "execution_count": 65,
     "metadata": {},
     "output_type": "execute_result"
    }
   ],
   "source": [
    "#figsize(15, 5)\n",
    "#sns.countplot(df[df.test==1].num0)\n",
    "df[(df.test==1)&(df.num0>2)].shape[0] / df[df.test==1].shape[0]"
   ]
  },
  {
   "cell_type": "code",
   "execution_count": 66,
   "metadata": {},
   "outputs": [
    {
     "data": {
      "text/plain": [
       "0.5729224789299198"
      ]
     },
     "execution_count": 66,
     "metadata": {},
     "output_type": "execute_result"
    }
   ],
   "source": [
    "df[(df.test==0)&(df.num0>2)].shape[0] / df[df.test==0].shape[0]\n",
    "#sns.countplot(df[df.test==0].num0)"
   ]
  },
  {
   "cell_type": "code",
   "execution_count": null,
   "metadata": {},
   "outputs": [],
   "source": []
  },
  {
   "cell_type": "code",
   "execution_count": null,
   "metadata": {},
   "outputs": [],
   "source": []
  },
  {
   "cell_type": "code",
   "execution_count": 6,
   "metadata": {},
   "outputs": [],
   "source": [
    "\n",
    "sensors = pd.read_csv('round2/round2_sensors.csv')"
   ]
  },
  {
   "cell_type": "code",
   "execution_count": 13,
   "metadata": {},
   "outputs": [],
   "source": [
    "test = pd.read_csv('test_data.csv')"
   ]
  },
  {
   "cell_type": "code",
   "execution_count": 29,
   "metadata": {
    "scrolled": true
   },
   "outputs": [
    {
     "name": "stderr",
     "output_type": "stream",
     "text": [
      "  4%|▍         | 1/24 [00:19<07:32, 19.65s/it]"
     ]
    },
    {
     "name": "stdout",
     "output_type": "stream",
     "text": [
      "357 49.040684655438646 0.005730473415785586\n"
     ]
    },
    {
     "name": "stderr",
     "output_type": "stream",
     "text": [
      "\r",
      "  8%|▊         | 2/24 [00:45<08:27, 23.09s/it]"
     ]
    },
    {
     "name": "stdout",
     "output_type": "stream",
     "text": [
      "346 47.87650777794053 0.001080684812902466\n"
     ]
    },
    {
     "name": "stderr",
     "output_type": "stream",
     "text": [
      "\r",
      " 12%|█▎        | 3/24 [01:08<08:11, 23.39s/it]"
     ]
    },
    {
     "name": "stdout",
     "output_type": "stream",
     "text": [
      "265 47.81214981356807 0.004273760846346786\n"
     ]
    },
    {
     "name": "stderr",
     "output_type": "stream",
     "text": [
      "\r",
      " 17%|█▋        | 4/24 [01:27<07:09, 21.48s/it]"
     ]
    },
    {
     "name": "stdout",
     "output_type": "stream",
     "text": [
      "619 46.9267970907398 0.0004976837954155933\n"
     ]
    },
    {
     "name": "stderr",
     "output_type": "stream",
     "text": [
      "\r",
      " 21%|██        | 5/24 [01:45<06:27, 20.39s/it]"
     ]
    },
    {
     "name": "stdout",
     "output_type": "stream",
     "text": [
      "535 44.62896209502523 0.0015167506145999932\n"
     ]
    },
    {
     "name": "stderr",
     "output_type": "stream",
     "text": [
      "\r",
      " 25%|██▌       | 6/24 [02:04<05:55, 19.74s/it]"
     ]
    },
    {
     "name": "stdout",
     "output_type": "stream",
     "text": [
      "33 43.98159091956312 0.00033020924838689236\n"
     ]
    },
    {
     "name": "stderr",
     "output_type": "stream",
     "text": [
      "\r",
      " 29%|██▉       | 7/24 [02:23<05:31, 19.47s/it]"
     ]
    },
    {
     "name": "stdout",
     "output_type": "stream",
     "text": [
      "574 40.893552309245734 0.002341483761288732\n"
     ]
    },
    {
     "name": "stderr",
     "output_type": "stream",
     "text": [
      "\r",
      " 33%|███▎      | 8/24 [02:42<05:10, 19.41s/it]"
     ]
    },
    {
     "name": "stdout",
     "output_type": "stream",
     "text": [
      "367 40.492414618918545 0.004006749540234944\n"
     ]
    },
    {
     "name": "stderr",
     "output_type": "stream",
     "text": [
      "\r",
      " 38%|███▊      | 9/24 [03:02<04:55, 19.72s/it]"
     ]
    },
    {
     "name": "stdout",
     "output_type": "stream",
     "text": [
      "669 40.17258656203733 0.004041508408486161\n"
     ]
    },
    {
     "name": "stderr",
     "output_type": "stream",
     "text": [
      "\r",
      " 42%|████▏     | 10/24 [03:22<04:35, 19.67s/it]"
     ]
    },
    {
     "name": "stdout",
     "output_type": "stream",
     "text": [
      "35 40.07717459711465 0.0005134832809843282\n"
     ]
    },
    {
     "name": "stderr",
     "output_type": "stream",
     "text": [
      " 42%|████▏     | 10/24 [03:23<04:44, 20.34s/it]\n"
     ]
    },
    {
     "ename": "KeyboardInterrupt",
     "evalue": "",
     "output_type": "error",
     "traceback": [
      "\u001b[0;31m---------------------------------------------------------------------------\u001b[0m",
      "\u001b[0;31mKeyboardInterrupt\u001b[0m                         Traceback (most recent call last)",
      "\u001b[0;32m<ipython-input-29-8f922dc4f661>\u001b[0m in \u001b[0;36m<module>\u001b[0;34m\u001b[0m\n\u001b[1;32m     12\u001b[0m \u001b[0;32mfor\u001b[0m \u001b[0mi\u001b[0m \u001b[0;32min\u001b[0m \u001b[0mtqdm\u001b[0m\u001b[0;34m(\u001b[0m\u001b[0mnp\u001b[0m\u001b[0;34m.\u001b[0m\u001b[0margsort\u001b[0m\u001b[0;34m(\u001b[0m\u001b[0mnp\u001b[0m\u001b[0;34m.\u001b[0m\u001b[0marray\u001b[0m\u001b[0;34m(\u001b[0m\u001b[0merr\u001b[0m\u001b[0;34m)\u001b[0m\u001b[0;34m)\u001b[0m\u001b[0;34m[\u001b[0m\u001b[0;34m:\u001b[0m\u001b[0;34m:\u001b[0m\u001b[0;34m-\u001b[0m\u001b[0;36m1\u001b[0m\u001b[0;34m]\u001b[0m\u001b[0;34m)\u001b[0m\u001b[0;34m:\u001b[0m\u001b[0;34m\u001b[0m\u001b[0;34m\u001b[0m\u001b[0m\n\u001b[1;32m     13\u001b[0m     \u001b[0mall_stations\u001b[0m \u001b[0;34m=\u001b[0m \u001b[0mlist\u001b[0m\u001b[0;34m(\u001b[0m\u001b[0mset\u001b[0m\u001b[0;34m(\u001b[0m\u001b[0mst\u001b[0m\u001b[0;34m.\u001b[0m\u001b[0minventory\u001b[0m\u001b[0;34m)\u001b[0m\u001b[0;34m.\u001b[0m\u001b[0mdifference\u001b[0m\u001b[0;34m(\u001b[0m\u001b[0;34m[\u001b[0m\u001b[0msts\u001b[0m\u001b[0;34m[\u001b[0m\u001b[0mi\u001b[0m\u001b[0;34m]\u001b[0m\u001b[0;34m]\u001b[0m\u001b[0;34m)\u001b[0m\u001b[0;34m)\u001b[0m\u001b[0;34m\u001b[0m\u001b[0;34m\u001b[0m\u001b[0m\n\u001b[0;32m---> 14\u001b[0;31m     \u001b[0mtest\u001b[0m \u001b[0;34m=\u001b[0m \u001b[0mtest\u001b[0m\u001b[0;34m.\u001b[0m\u001b[0massign\u001b[0m\u001b[0;34m(\u001b[0m\u001b[0mnum0\u001b[0m \u001b[0;34m=\u001b[0m \u001b[0;32mlambda\u001b[0m \u001b[0mx\u001b[0m\u001b[0;34m:\u001b[0m \u001b[0;34m[\u001b[0m\u001b[0mlen\u001b[0m\u001b[0;34m(\u001b[0m\u001b[0;34m[\u001b[0m\u001b[0mw\u001b[0m\u001b[0;34m[\u001b[0m\u001b[0;36m0\u001b[0m\u001b[0;34m]\u001b[0m \u001b[0;32mfor\u001b[0m \u001b[0mw\u001b[0m \u001b[0;32min\u001b[0m \u001b[0meval\u001b[0m\u001b[0;34m(\u001b[0m\u001b[0mmeas\u001b[0m\u001b[0;34m)\u001b[0m \u001b[0;32mif\u001b[0m \u001b[0mw\u001b[0m\u001b[0;34m[\u001b[0m\u001b[0;36m0\u001b[0m\u001b[0;34m]\u001b[0m \u001b[0;32min\u001b[0m \u001b[0mall_stations\u001b[0m\u001b[0;34m]\u001b[0m\u001b[0;34m)\u001b[0m \u001b[0;32mfor\u001b[0m \u001b[0mmeas\u001b[0m \u001b[0;32min\u001b[0m \u001b[0mx\u001b[0m\u001b[0;34m.\u001b[0m\u001b[0mmeasurements\u001b[0m\u001b[0;34m]\u001b[0m\u001b[0;34m)\u001b[0m\u001b[0;34m\u001b[0m\u001b[0;34m\u001b[0m\u001b[0m\n\u001b[0m\u001b[1;32m     15\u001b[0m     \u001b[0mc\u001b[0m \u001b[0;34m=\u001b[0m \u001b[0mcover0\u001b[0m \u001b[0;34m-\u001b[0m \u001b[0;34m(\u001b[0m\u001b[0mtest\u001b[0m\u001b[0;34m[\u001b[0m\u001b[0mtest\u001b[0m\u001b[0;34m.\u001b[0m\u001b[0mnum0\u001b[0m\u001b[0;34m>=\u001b[0m\u001b[0;36m3\u001b[0m\u001b[0;34m]\u001b[0m\u001b[0;34m.\u001b[0m\u001b[0mshape\u001b[0m\u001b[0;34m[\u001b[0m\u001b[0;36m0\u001b[0m\u001b[0;34m]\u001b[0m \u001b[0;34m/\u001b[0m \u001b[0mtest\u001b[0m\u001b[0;34m.\u001b[0m\u001b[0mshape\u001b[0m\u001b[0;34m[\u001b[0m\u001b[0;36m0\u001b[0m\u001b[0;34m]\u001b[0m\u001b[0;34m)\u001b[0m\u001b[0;34m\u001b[0m\u001b[0;34m\u001b[0m\u001b[0m\n\u001b[1;32m     16\u001b[0m     \u001b[0mcover\u001b[0m\u001b[0;34m[\u001b[0m\u001b[0mi\u001b[0m\u001b[0;34m]\u001b[0m \u001b[0;34m=\u001b[0m \u001b[0mc\u001b[0m\u001b[0;34m\u001b[0m\u001b[0;34m\u001b[0m\u001b[0m\n",
      "\u001b[0;32m~/Programms/anaconda3/envs/gt/lib/python3.9/site-packages/pandas/core/frame.py\u001b[0m in \u001b[0;36massign\u001b[0;34m(self, **kwargs)\u001b[0m\n\u001b[1;32m   3825\u001b[0m \u001b[0;34m\u001b[0m\u001b[0m\n\u001b[1;32m   3826\u001b[0m         \u001b[0;32mfor\u001b[0m \u001b[0mk\u001b[0m\u001b[0;34m,\u001b[0m \u001b[0mv\u001b[0m \u001b[0;32min\u001b[0m \u001b[0mkwargs\u001b[0m\u001b[0;34m.\u001b[0m\u001b[0mitems\u001b[0m\u001b[0;34m(\u001b[0m\u001b[0;34m)\u001b[0m\u001b[0;34m:\u001b[0m\u001b[0;34m\u001b[0m\u001b[0;34m\u001b[0m\u001b[0m\n\u001b[0;32m-> 3827\u001b[0;31m             \u001b[0mdata\u001b[0m\u001b[0;34m[\u001b[0m\u001b[0mk\u001b[0m\u001b[0;34m]\u001b[0m \u001b[0;34m=\u001b[0m \u001b[0mcom\u001b[0m\u001b[0;34m.\u001b[0m\u001b[0mapply_if_callable\u001b[0m\u001b[0;34m(\u001b[0m\u001b[0mv\u001b[0m\u001b[0;34m,\u001b[0m \u001b[0mdata\u001b[0m\u001b[0;34m)\u001b[0m\u001b[0;34m\u001b[0m\u001b[0;34m\u001b[0m\u001b[0m\n\u001b[0m\u001b[1;32m   3828\u001b[0m         \u001b[0;32mreturn\u001b[0m \u001b[0mdata\u001b[0m\u001b[0;34m\u001b[0m\u001b[0;34m\u001b[0m\u001b[0m\n\u001b[1;32m   3829\u001b[0m \u001b[0;34m\u001b[0m\u001b[0m\n",
      "\u001b[0;32m~/Programms/anaconda3/envs/gt/lib/python3.9/site-packages/pandas/core/common.py\u001b[0m in \u001b[0;36mapply_if_callable\u001b[0;34m(maybe_callable, obj, **kwargs)\u001b[0m\n\u001b[1;32m    327\u001b[0m     \"\"\"\n\u001b[1;32m    328\u001b[0m     \u001b[0;32mif\u001b[0m \u001b[0mcallable\u001b[0m\u001b[0;34m(\u001b[0m\u001b[0mmaybe_callable\u001b[0m\u001b[0;34m)\u001b[0m\u001b[0;34m:\u001b[0m\u001b[0;34m\u001b[0m\u001b[0;34m\u001b[0m\u001b[0m\n\u001b[0;32m--> 329\u001b[0;31m         \u001b[0;32mreturn\u001b[0m \u001b[0mmaybe_callable\u001b[0m\u001b[0;34m(\u001b[0m\u001b[0mobj\u001b[0m\u001b[0;34m,\u001b[0m \u001b[0;34m**\u001b[0m\u001b[0mkwargs\u001b[0m\u001b[0;34m)\u001b[0m\u001b[0;34m\u001b[0m\u001b[0;34m\u001b[0m\u001b[0m\n\u001b[0m\u001b[1;32m    330\u001b[0m \u001b[0;34m\u001b[0m\u001b[0m\n\u001b[1;32m    331\u001b[0m     \u001b[0;32mreturn\u001b[0m \u001b[0mmaybe_callable\u001b[0m\u001b[0;34m\u001b[0m\u001b[0;34m\u001b[0m\u001b[0m\n",
      "\u001b[0;32m<ipython-input-29-8f922dc4f661>\u001b[0m in \u001b[0;36m<lambda>\u001b[0;34m(x)\u001b[0m\n\u001b[1;32m     12\u001b[0m \u001b[0;32mfor\u001b[0m \u001b[0mi\u001b[0m \u001b[0;32min\u001b[0m \u001b[0mtqdm\u001b[0m\u001b[0;34m(\u001b[0m\u001b[0mnp\u001b[0m\u001b[0;34m.\u001b[0m\u001b[0margsort\u001b[0m\u001b[0;34m(\u001b[0m\u001b[0mnp\u001b[0m\u001b[0;34m.\u001b[0m\u001b[0marray\u001b[0m\u001b[0;34m(\u001b[0m\u001b[0merr\u001b[0m\u001b[0;34m)\u001b[0m\u001b[0;34m)\u001b[0m\u001b[0;34m[\u001b[0m\u001b[0;34m:\u001b[0m\u001b[0;34m:\u001b[0m\u001b[0;34m-\u001b[0m\u001b[0;36m1\u001b[0m\u001b[0;34m]\u001b[0m\u001b[0;34m)\u001b[0m\u001b[0;34m:\u001b[0m\u001b[0;34m\u001b[0m\u001b[0;34m\u001b[0m\u001b[0m\n\u001b[1;32m     13\u001b[0m     \u001b[0mall_stations\u001b[0m \u001b[0;34m=\u001b[0m \u001b[0mlist\u001b[0m\u001b[0;34m(\u001b[0m\u001b[0mset\u001b[0m\u001b[0;34m(\u001b[0m\u001b[0mst\u001b[0m\u001b[0;34m.\u001b[0m\u001b[0minventory\u001b[0m\u001b[0;34m)\u001b[0m\u001b[0;34m.\u001b[0m\u001b[0mdifference\u001b[0m\u001b[0;34m(\u001b[0m\u001b[0;34m[\u001b[0m\u001b[0msts\u001b[0m\u001b[0;34m[\u001b[0m\u001b[0mi\u001b[0m\u001b[0;34m]\u001b[0m\u001b[0;34m]\u001b[0m\u001b[0;34m)\u001b[0m\u001b[0;34m)\u001b[0m\u001b[0;34m\u001b[0m\u001b[0;34m\u001b[0m\u001b[0m\n\u001b[0;32m---> 14\u001b[0;31m     \u001b[0mtest\u001b[0m \u001b[0;34m=\u001b[0m \u001b[0mtest\u001b[0m\u001b[0;34m.\u001b[0m\u001b[0massign\u001b[0m\u001b[0;34m(\u001b[0m\u001b[0mnum0\u001b[0m \u001b[0;34m=\u001b[0m \u001b[0;32mlambda\u001b[0m \u001b[0mx\u001b[0m\u001b[0;34m:\u001b[0m \u001b[0;34m[\u001b[0m\u001b[0mlen\u001b[0m\u001b[0;34m(\u001b[0m\u001b[0;34m[\u001b[0m\u001b[0mw\u001b[0m\u001b[0;34m[\u001b[0m\u001b[0;36m0\u001b[0m\u001b[0;34m]\u001b[0m \u001b[0;32mfor\u001b[0m \u001b[0mw\u001b[0m \u001b[0;32min\u001b[0m \u001b[0meval\u001b[0m\u001b[0;34m(\u001b[0m\u001b[0mmeas\u001b[0m\u001b[0;34m)\u001b[0m \u001b[0;32mif\u001b[0m \u001b[0mw\u001b[0m\u001b[0;34m[\u001b[0m\u001b[0;36m0\u001b[0m\u001b[0;34m]\u001b[0m \u001b[0;32min\u001b[0m \u001b[0mall_stations\u001b[0m\u001b[0;34m]\u001b[0m\u001b[0;34m)\u001b[0m \u001b[0;32mfor\u001b[0m \u001b[0mmeas\u001b[0m \u001b[0;32min\u001b[0m \u001b[0mx\u001b[0m\u001b[0;34m.\u001b[0m\u001b[0mmeasurements\u001b[0m\u001b[0;34m]\u001b[0m\u001b[0;34m)\u001b[0m\u001b[0;34m\u001b[0m\u001b[0;34m\u001b[0m\u001b[0m\n\u001b[0m\u001b[1;32m     15\u001b[0m     \u001b[0mc\u001b[0m \u001b[0;34m=\u001b[0m \u001b[0mcover0\u001b[0m \u001b[0;34m-\u001b[0m \u001b[0;34m(\u001b[0m\u001b[0mtest\u001b[0m\u001b[0;34m[\u001b[0m\u001b[0mtest\u001b[0m\u001b[0;34m.\u001b[0m\u001b[0mnum0\u001b[0m\u001b[0;34m>=\u001b[0m\u001b[0;36m3\u001b[0m\u001b[0;34m]\u001b[0m\u001b[0;34m.\u001b[0m\u001b[0mshape\u001b[0m\u001b[0;34m[\u001b[0m\u001b[0;36m0\u001b[0m\u001b[0;34m]\u001b[0m \u001b[0;34m/\u001b[0m \u001b[0mtest\u001b[0m\u001b[0;34m.\u001b[0m\u001b[0mshape\u001b[0m\u001b[0;34m[\u001b[0m\u001b[0;36m0\u001b[0m\u001b[0;34m]\u001b[0m\u001b[0;34m)\u001b[0m\u001b[0;34m\u001b[0m\u001b[0;34m\u001b[0m\u001b[0m\n\u001b[1;32m     16\u001b[0m     \u001b[0mcover\u001b[0m\u001b[0;34m[\u001b[0m\u001b[0mi\u001b[0m\u001b[0;34m]\u001b[0m \u001b[0;34m=\u001b[0m \u001b[0mc\u001b[0m\u001b[0;34m\u001b[0m\u001b[0;34m\u001b[0m\u001b[0m\n",
      "\u001b[0;32m<ipython-input-29-8f922dc4f661>\u001b[0m in \u001b[0;36m<listcomp>\u001b[0;34m(.0)\u001b[0m\n\u001b[1;32m     12\u001b[0m \u001b[0;32mfor\u001b[0m \u001b[0mi\u001b[0m \u001b[0;32min\u001b[0m \u001b[0mtqdm\u001b[0m\u001b[0;34m(\u001b[0m\u001b[0mnp\u001b[0m\u001b[0;34m.\u001b[0m\u001b[0margsort\u001b[0m\u001b[0;34m(\u001b[0m\u001b[0mnp\u001b[0m\u001b[0;34m.\u001b[0m\u001b[0marray\u001b[0m\u001b[0;34m(\u001b[0m\u001b[0merr\u001b[0m\u001b[0;34m)\u001b[0m\u001b[0;34m)\u001b[0m\u001b[0;34m[\u001b[0m\u001b[0;34m:\u001b[0m\u001b[0;34m:\u001b[0m\u001b[0;34m-\u001b[0m\u001b[0;36m1\u001b[0m\u001b[0;34m]\u001b[0m\u001b[0;34m)\u001b[0m\u001b[0;34m:\u001b[0m\u001b[0;34m\u001b[0m\u001b[0;34m\u001b[0m\u001b[0m\n\u001b[1;32m     13\u001b[0m     \u001b[0mall_stations\u001b[0m \u001b[0;34m=\u001b[0m \u001b[0mlist\u001b[0m\u001b[0;34m(\u001b[0m\u001b[0mset\u001b[0m\u001b[0;34m(\u001b[0m\u001b[0mst\u001b[0m\u001b[0;34m.\u001b[0m\u001b[0minventory\u001b[0m\u001b[0;34m)\u001b[0m\u001b[0;34m.\u001b[0m\u001b[0mdifference\u001b[0m\u001b[0;34m(\u001b[0m\u001b[0;34m[\u001b[0m\u001b[0msts\u001b[0m\u001b[0;34m[\u001b[0m\u001b[0mi\u001b[0m\u001b[0;34m]\u001b[0m\u001b[0;34m]\u001b[0m\u001b[0;34m)\u001b[0m\u001b[0;34m)\u001b[0m\u001b[0;34m\u001b[0m\u001b[0;34m\u001b[0m\u001b[0m\n\u001b[0;32m---> 14\u001b[0;31m     \u001b[0mtest\u001b[0m \u001b[0;34m=\u001b[0m \u001b[0mtest\u001b[0m\u001b[0;34m.\u001b[0m\u001b[0massign\u001b[0m\u001b[0;34m(\u001b[0m\u001b[0mnum0\u001b[0m \u001b[0;34m=\u001b[0m \u001b[0;32mlambda\u001b[0m \u001b[0mx\u001b[0m\u001b[0;34m:\u001b[0m \u001b[0;34m[\u001b[0m\u001b[0mlen\u001b[0m\u001b[0;34m(\u001b[0m\u001b[0;34m[\u001b[0m\u001b[0mw\u001b[0m\u001b[0;34m[\u001b[0m\u001b[0;36m0\u001b[0m\u001b[0;34m]\u001b[0m \u001b[0;32mfor\u001b[0m \u001b[0mw\u001b[0m \u001b[0;32min\u001b[0m \u001b[0meval\u001b[0m\u001b[0;34m(\u001b[0m\u001b[0mmeas\u001b[0m\u001b[0;34m)\u001b[0m \u001b[0;32mif\u001b[0m \u001b[0mw\u001b[0m\u001b[0;34m[\u001b[0m\u001b[0;36m0\u001b[0m\u001b[0;34m]\u001b[0m \u001b[0;32min\u001b[0m \u001b[0mall_stations\u001b[0m\u001b[0;34m]\u001b[0m\u001b[0;34m)\u001b[0m \u001b[0;32mfor\u001b[0m \u001b[0mmeas\u001b[0m \u001b[0;32min\u001b[0m \u001b[0mx\u001b[0m\u001b[0;34m.\u001b[0m\u001b[0mmeasurements\u001b[0m\u001b[0;34m]\u001b[0m\u001b[0;34m)\u001b[0m\u001b[0;34m\u001b[0m\u001b[0;34m\u001b[0m\u001b[0m\n\u001b[0m\u001b[1;32m     15\u001b[0m     \u001b[0mc\u001b[0m \u001b[0;34m=\u001b[0m \u001b[0mcover0\u001b[0m \u001b[0;34m-\u001b[0m \u001b[0;34m(\u001b[0m\u001b[0mtest\u001b[0m\u001b[0;34m[\u001b[0m\u001b[0mtest\u001b[0m\u001b[0;34m.\u001b[0m\u001b[0mnum0\u001b[0m\u001b[0;34m>=\u001b[0m\u001b[0;36m3\u001b[0m\u001b[0;34m]\u001b[0m\u001b[0;34m.\u001b[0m\u001b[0mshape\u001b[0m\u001b[0;34m[\u001b[0m\u001b[0;36m0\u001b[0m\u001b[0;34m]\u001b[0m \u001b[0;34m/\u001b[0m \u001b[0mtest\u001b[0m\u001b[0;34m.\u001b[0m\u001b[0mshape\u001b[0m\u001b[0;34m[\u001b[0m\u001b[0;36m0\u001b[0m\u001b[0;34m]\u001b[0m\u001b[0;34m)\u001b[0m\u001b[0;34m\u001b[0m\u001b[0;34m\u001b[0m\u001b[0m\n\u001b[1;32m     16\u001b[0m     \u001b[0mcover\u001b[0m\u001b[0;34m[\u001b[0m\u001b[0mi\u001b[0m\u001b[0;34m]\u001b[0m \u001b[0;34m=\u001b[0m \u001b[0mc\u001b[0m\u001b[0;34m\u001b[0m\u001b[0;34m\u001b[0m\u001b[0m\n",
      "\u001b[0;32m<ipython-input-29-8f922dc4f661>\u001b[0m in \u001b[0;36m<listcomp>\u001b[0;34m(.0)\u001b[0m\n\u001b[1;32m     12\u001b[0m \u001b[0;32mfor\u001b[0m \u001b[0mi\u001b[0m \u001b[0;32min\u001b[0m \u001b[0mtqdm\u001b[0m\u001b[0;34m(\u001b[0m\u001b[0mnp\u001b[0m\u001b[0;34m.\u001b[0m\u001b[0margsort\u001b[0m\u001b[0;34m(\u001b[0m\u001b[0mnp\u001b[0m\u001b[0;34m.\u001b[0m\u001b[0marray\u001b[0m\u001b[0;34m(\u001b[0m\u001b[0merr\u001b[0m\u001b[0;34m)\u001b[0m\u001b[0;34m)\u001b[0m\u001b[0;34m[\u001b[0m\u001b[0;34m:\u001b[0m\u001b[0;34m:\u001b[0m\u001b[0;34m-\u001b[0m\u001b[0;36m1\u001b[0m\u001b[0;34m]\u001b[0m\u001b[0;34m)\u001b[0m\u001b[0;34m:\u001b[0m\u001b[0;34m\u001b[0m\u001b[0;34m\u001b[0m\u001b[0m\n\u001b[1;32m     13\u001b[0m     \u001b[0mall_stations\u001b[0m \u001b[0;34m=\u001b[0m \u001b[0mlist\u001b[0m\u001b[0;34m(\u001b[0m\u001b[0mset\u001b[0m\u001b[0;34m(\u001b[0m\u001b[0mst\u001b[0m\u001b[0;34m.\u001b[0m\u001b[0minventory\u001b[0m\u001b[0;34m)\u001b[0m\u001b[0;34m.\u001b[0m\u001b[0mdifference\u001b[0m\u001b[0;34m(\u001b[0m\u001b[0;34m[\u001b[0m\u001b[0msts\u001b[0m\u001b[0;34m[\u001b[0m\u001b[0mi\u001b[0m\u001b[0;34m]\u001b[0m\u001b[0;34m]\u001b[0m\u001b[0;34m)\u001b[0m\u001b[0;34m)\u001b[0m\u001b[0;34m\u001b[0m\u001b[0;34m\u001b[0m\u001b[0m\n\u001b[0;32m---> 14\u001b[0;31m     \u001b[0mtest\u001b[0m \u001b[0;34m=\u001b[0m \u001b[0mtest\u001b[0m\u001b[0;34m.\u001b[0m\u001b[0massign\u001b[0m\u001b[0;34m(\u001b[0m\u001b[0mnum0\u001b[0m \u001b[0;34m=\u001b[0m \u001b[0;32mlambda\u001b[0m \u001b[0mx\u001b[0m\u001b[0;34m:\u001b[0m \u001b[0;34m[\u001b[0m\u001b[0mlen\u001b[0m\u001b[0;34m(\u001b[0m\u001b[0;34m[\u001b[0m\u001b[0mw\u001b[0m\u001b[0;34m[\u001b[0m\u001b[0;36m0\u001b[0m\u001b[0;34m]\u001b[0m \u001b[0;32mfor\u001b[0m \u001b[0mw\u001b[0m \u001b[0;32min\u001b[0m \u001b[0meval\u001b[0m\u001b[0;34m(\u001b[0m\u001b[0mmeas\u001b[0m\u001b[0;34m)\u001b[0m \u001b[0;32mif\u001b[0m \u001b[0mw\u001b[0m\u001b[0;34m[\u001b[0m\u001b[0;36m0\u001b[0m\u001b[0;34m]\u001b[0m \u001b[0;32min\u001b[0m \u001b[0mall_stations\u001b[0m\u001b[0;34m]\u001b[0m\u001b[0;34m)\u001b[0m \u001b[0;32mfor\u001b[0m \u001b[0mmeas\u001b[0m \u001b[0;32min\u001b[0m \u001b[0mx\u001b[0m\u001b[0;34m.\u001b[0m\u001b[0mmeasurements\u001b[0m\u001b[0;34m]\u001b[0m\u001b[0;34m)\u001b[0m\u001b[0;34m\u001b[0m\u001b[0;34m\u001b[0m\u001b[0m\n\u001b[0m\u001b[1;32m     15\u001b[0m     \u001b[0mc\u001b[0m \u001b[0;34m=\u001b[0m \u001b[0mcover0\u001b[0m \u001b[0;34m-\u001b[0m \u001b[0;34m(\u001b[0m\u001b[0mtest\u001b[0m\u001b[0;34m[\u001b[0m\u001b[0mtest\u001b[0m\u001b[0;34m.\u001b[0m\u001b[0mnum0\u001b[0m\u001b[0;34m>=\u001b[0m\u001b[0;36m3\u001b[0m\u001b[0;34m]\u001b[0m\u001b[0;34m.\u001b[0m\u001b[0mshape\u001b[0m\u001b[0;34m[\u001b[0m\u001b[0;36m0\u001b[0m\u001b[0;34m]\u001b[0m \u001b[0;34m/\u001b[0m \u001b[0mtest\u001b[0m\u001b[0;34m.\u001b[0m\u001b[0mshape\u001b[0m\u001b[0;34m[\u001b[0m\u001b[0;36m0\u001b[0m\u001b[0;34m]\u001b[0m\u001b[0;34m)\u001b[0m\u001b[0;34m\u001b[0m\u001b[0;34m\u001b[0m\u001b[0m\n\u001b[1;32m     16\u001b[0m     \u001b[0mcover\u001b[0m\u001b[0;34m[\u001b[0m\u001b[0mi\u001b[0m\u001b[0;34m]\u001b[0m \u001b[0;34m=\u001b[0m \u001b[0mc\u001b[0m\u001b[0;34m\u001b[0m\u001b[0;34m\u001b[0m\u001b[0m\n",
      "\u001b[0;31mKeyboardInterrupt\u001b[0m: "
     ]
    }
   ],
   "source": [
    "sts = []\n",
    "err = []\n",
    "cover = np.zeros(24)\n",
    "\n",
    "for s in st_params:\n",
    "    if 'med_error' in st_params[s]:\n",
    "        if st_params[s]['med_error'] > 35:\n",
    "            sts.append(int(s))\n",
    "            err.append(st_params[s]['med_error'])\n",
    "\n",
    "cover0 = 0.6155258384786991\n",
    "for i in tqdm(np.argsort(np.array(err))[::-1]):\n",
    "    all_stations = list(set(st.inventory).difference([sts[i]]))\n",
    "    test = test.assign(num0 = lambda x: [len([w[0] for w in eval(meas) if w[0] in all_stations]) for meas in x.measurements])\n",
    "    c = cover0 - (test[test.num0>=3].shape[0] / test.shape[0])\n",
    "    cover[i] = c\n",
    "    print(sts[i], err[i], c)"
   ]
  },
  {
   "cell_type": "code",
   "execution_count": 17,
   "metadata": {},
   "outputs": [
    {
     "data": {
      "text/plain": [
       "[<matplotlib.lines.Line2D at 0x7f88f7574f70>]"
      ]
     },
     "execution_count": 17,
     "metadata": {},
     "output_type": "execute_result"
    },
    {
     "data": {
      "image/png": "[encoded data removed]",
      "text/plain": [
       "<Figure size 1080x720 with 1 Axes>"
      ]
     },
     "metadata": {
      "needs_background": "light"
     },
     "output_type": "display_data"
    }
   ],
   "source": [
    "figsize(15, 10)\n",
    "st.plot()\n",
    "plt.plot(sensors[sensors.serial.isin(sts)].longitude,\n",
    "         sensors[sensors.serial.isin(sts)].latitude, 'bx', ms=9)"
   ]
  },
  {
   "cell_type": "code",
   "execution_count": 30,
   "metadata": {},
   "outputs": [
    {
     "data": {
      "text/plain": [
       "0.6039432356082486"
      ]
     },
     "execution_count": 30,
     "metadata": {},
     "output_type": "execute_result"
    }
   ],
   "source": [
    "all_stations = list(set(st.inventory).difference([357, 346, 265, 619]))\n",
    "#all_stations = st.inventory\n",
    "test = test.assign(num0 = lambda x: [len([w[0] for w in eval(meas) if w[0] in all_stations]) for meas in x.measurements])\n",
    "\n",
    "test[test.num0>=3].shape[0] / test.shape[0]"
   ]
  },
  {
   "cell_type": "code",
   "execution_count": 18,
   "metadata": {},
   "outputs": [
    {
     "data": {
      "text/plain": [
       "0.6020979020979021"
      ]
     },
     "execution_count": 18,
     "metadata": {},
     "output_type": "execute_result"
    }
   ],
   "source": [
    "#0.615 - 0.715\n",
    "0.7*0.615/0.715"
   ]
  },
  {
   "cell_type": "code",
   "execution_count": 28,
   "metadata": {},
   "outputs": [
    {
     "data": {
      "text/plain": [
       "array([0.00150411])"
      ]
     },
     "execution_count": 28,
     "metadata": {},
     "output_type": "execute_result"
    }
   ],
   "source": [
    "jj = np.argsort(np.array(err))[::-1]\n",
    "np.array(cover)[jj[np.where(np.array(sts)==357)[0]]]"
   ]
  },
  {
   "cell_type": "code",
   "execution_count": null,
   "metadata": {},
   "outputs": [],
   "source": []
  },
  {
   "cell_type": "code",
   "execution_count": null,
   "metadata": {
    "scrolled": false
   },
   "outputs": [],
   "source": []
  },
  {
   "cell_type": "code",
   "execution_count": 6,
   "metadata": {},
   "outputs": [
    {
     "data": {
      "text/html": [
       "<div>\n",
       "<style scoped>\n",
       "    .dataframe tbody tr th:only-of-type {\n",
       "        vertical-align: middle;\n",
       "    }\n",
       "\n",
       "    .dataframe tbody tr th {\n",
       "        vertical-align: top;\n",
       "    }\n",
       "\n",
       "    .dataframe thead th {\n",
       "        text-align: right;\n",
       "    }\n",
       "</style>\n",
       "<table border=\"1\" class=\"dataframe\">\n",
       "  <thead>\n",
       "    <tr style=\"text-align: right;\">\n",
       "      <th></th>\n",
       "      <th>id</th>\n",
       "      <th>timeAtServer</th>\n",
       "      <th>aircraft</th>\n",
       "      <th>latitude</th>\n",
       "      <th>longitude</th>\n",
       "      <th>baroAltitude</th>\n",
       "      <th>geoAltitude</th>\n",
       "      <th>numMeasurements</th>\n",
       "      <th>measurements</th>\n",
       "      <th>test</th>\n",
       "      <th>stations</th>\n",
       "      <th>times</th>\n",
       "      <th>num</th>\n",
       "    </tr>\n",
       "  </thead>\n",
       "  <tbody>\n",
       "    <tr>\n",
       "      <th>0</th>\n",
       "      <td>3</td>\n",
       "      <td>0.000</td>\n",
       "      <td>1940</td>\n",
       "      <td>47.052200</td>\n",
       "      <td>5.903641</td>\n",
       "      <td>10972.8</td>\n",
       "      <td>10820.40</td>\n",
       "      <td>2</td>\n",
       "      <td>[[470,982753933,38],[499,6026974083.33333,30]]</td>\n",
       "      <td>0</td>\n",
       "      <td>[470, 499]</td>\n",
       "      <td>[0.9828746935382281, 0.9828746730206982]</td>\n",
       "      <td>2</td>\n",
       "    </tr>\n",
       "    <tr>\n",
       "      <th>1</th>\n",
       "      <td>972</td>\n",
       "      <td>0.462</td>\n",
       "      <td>1940</td>\n",
       "      <td>47.053093</td>\n",
       "      <td>5.902827</td>\n",
       "      <td>10972.8</td>\n",
       "      <td>10820.40</td>\n",
       "      <td>6</td>\n",
       "      <td>[[259,1453008046,29],[14,1452810281,47],[470,1...</td>\n",
       "      <td>0</td>\n",
       "      <td>[14, 470, 474, 499, 665]</td>\n",
       "      <td>[1.4528103401292936, 1.4525867935382282, 1.452...</td>\n",
       "      <td>5</td>\n",
       "    </tr>\n",
       "    <tr>\n",
       "      <th>2</th>\n",
       "      <td>1835</td>\n",
       "      <td>0.937</td>\n",
       "      <td>1940</td>\n",
       "      <td>47.054024</td>\n",
       "      <td>5.901982</td>\n",
       "      <td>10972.8</td>\n",
       "      <td>10820.40</td>\n",
       "      <td>4</td>\n",
       "      <td>[[14,1922851781,69],[499,6966728500,37],[706,5...</td>\n",
       "      <td>0</td>\n",
       "      <td>[14, 470, 499, 706]</td>\n",
       "      <td>[1.9228518401292936, 1.9226284485382281, 1.922...</td>\n",
       "      <td>4</td>\n",
       "    </tr>\n",
       "    <tr>\n",
       "      <th>3</th>\n",
       "      <td>2624</td>\n",
       "      <td>1.371</td>\n",
       "      <td>1940</td>\n",
       "      <td>47.054855</td>\n",
       "      <td>5.901169</td>\n",
       "      <td>10972.8</td>\n",
       "      <td>10820.40</td>\n",
       "      <td>4</td>\n",
       "      <td>[[14,2353216015,50],[474,2353107056,3],[470,23...</td>\n",
       "      <td>0</td>\n",
       "      <td>[14, 470, 474, 499]</td>\n",
       "      <td>[2.3532160741292936, 2.3529927185382284, 2.353...</td>\n",
       "      <td>4</td>\n",
       "    </tr>\n",
       "    <tr>\n",
       "      <th>4</th>\n",
       "      <td>3559</td>\n",
       "      <td>1.877</td>\n",
       "      <td>1940</td>\n",
       "      <td>47.055817</td>\n",
       "      <td>5.900276</td>\n",
       "      <td>10972.8</td>\n",
       "      <td>10820.40</td>\n",
       "      <td>3</td>\n",
       "      <td>[[499,7907056416.66667,33],[470,2862835123,28]...</td>\n",
       "      <td>0</td>\n",
       "      <td>[470, 499, 706]</td>\n",
       "      <td>[2.8629558835382283, 2.8629558319624215, 2.862...</td>\n",
       "      <td>3</td>\n",
       "    </tr>\n",
       "    <tr>\n",
       "      <th>...</th>\n",
       "      <td>...</td>\n",
       "      <td>...</td>\n",
       "      <td>...</td>\n",
       "      <td>...</td>\n",
       "      <td>...</td>\n",
       "      <td>...</td>\n",
       "      <td>...</td>\n",
       "      <td>...</td>\n",
       "      <td>...</td>\n",
       "      <td>...</td>\n",
       "      <td>...</td>\n",
       "      <td>...</td>\n",
       "      <td>...</td>\n",
       "    </tr>\n",
       "    <tr>\n",
       "      <th>5520</th>\n",
       "      <td>6453123</td>\n",
       "      <td>3597.470</td>\n",
       "      <td>1940</td>\n",
       "      <td>51.996002</td>\n",
       "      <td>-3.392105</td>\n",
       "      <td>10972.8</td>\n",
       "      <td>10850.88</td>\n",
       "      <td>8</td>\n",
       "      <td>[[175,3598435469890,31],[185,3597726866125,50]...</td>\n",
       "      <td>0</td>\n",
       "      <td>[175, 185, 216, 231, 521, 595, 677]</td>\n",
       "      <td>[3598.435469289741, 3598.4350955161112, 3598.4...</td>\n",
       "      <td>7</td>\n",
       "    </tr>\n",
       "    <tr>\n",
       "      <th>5521</th>\n",
       "      <td>6454737</td>\n",
       "      <td>3598.377</td>\n",
       "      <td>1940</td>\n",
       "      <td>51.996708</td>\n",
       "      <td>-3.395168</td>\n",
       "      <td>10972.8</td>\n",
       "      <td>10850.88</td>\n",
       "      <td>5</td>\n",
       "      <td>[[185,3598637447484,53],[216,3599345841578,40]...</td>\n",
       "      <td>0</td>\n",
       "      <td>[185, 216, 521, 595, 677]</td>\n",
       "      <td>[3599.3456767958314, 3599.3458415787627, 3599....</td>\n",
       "      <td>5</td>\n",
       "    </tr>\n",
       "    <tr>\n",
       "      <th>5522</th>\n",
       "      <td>6455645</td>\n",
       "      <td>3598.881</td>\n",
       "      <td>1940</td>\n",
       "      <td>51.997081</td>\n",
       "      <td>-3.396816</td>\n",
       "      <td>10972.8</td>\n",
       "      <td>10850.88</td>\n",
       "      <td>4</td>\n",
       "      <td>[[185,3599147623453,51],[184,3671870533000,53]...</td>\n",
       "      <td>0</td>\n",
       "      <td>[184, 185, 231, 677]</td>\n",
       "      <td>[3599.856123352471, 3599.8558527204127, 3599.8...</td>\n",
       "      <td>4</td>\n",
       "    </tr>\n",
       "    <tr>\n",
       "      <th>5523</th>\n",
       "      <td>6456639</td>\n",
       "      <td>3599.446</td>\n",
       "      <td>1940</td>\n",
       "      <td>51.997513</td>\n",
       "      <td>-3.398743</td>\n",
       "      <td>10972.8</td>\n",
       "      <td>10850.88</td>\n",
       "      <td>9</td>\n",
       "      <td>[[185,3599708005484,50],[208,3600416311515,40]...</td>\n",
       "      <td>0</td>\n",
       "      <td>[185, 208, 216, 231, 269, 429, 595, 677]</td>\n",
       "      <td>[3600.4162347026236, 3600.416311532609, 3600.4...</td>\n",
       "      <td>8</td>\n",
       "    </tr>\n",
       "    <tr>\n",
       "      <th>5524</th>\n",
       "      <td>6457526</td>\n",
       "      <td>3599.962</td>\n",
       "      <td>1940</td>\n",
       "      <td>51.997925</td>\n",
       "      <td>-3.400497</td>\n",
       "      <td>10972.8</td>\n",
       "      <td>10850.88</td>\n",
       "      <td>3</td>\n",
       "      <td>[[185,3600228006343,48],[216,3600936400359,39]...</td>\n",
       "      <td>0</td>\n",
       "      <td>[185, 208, 216]</td>\n",
       "      <td>[3600.9362355163507, 3600.936312204609, 3600.9...</td>\n",
       "      <td>3</td>\n",
       "    </tr>\n",
       "  </tbody>\n",
       "</table>\n",
       "<p>5525 rows × 13 columns</p>\n",
       "</div>"
      ],
      "text/plain": [
       "           id  timeAtServer  aircraft   latitude  longitude  baroAltitude  \\\n",
       "0           3         0.000      1940  47.052200   5.903641       10972.8   \n",
       "1         972         0.462      1940  47.053093   5.902827       10972.8   \n",
       "2        1835         0.937      1940  47.054024   5.901982       10972.8   \n",
       "3        2624         1.371      1940  47.054855   5.901169       10972.8   \n",
       "4        3559         1.877      1940  47.055817   5.900276       10972.8   \n",
       "...       ...           ...       ...        ...        ...           ...   \n",
       "5520  6453123      3597.470      1940  51.996002  -3.392105       10972.8   \n",
       "5521  6454737      3598.377      1940  51.996708  -3.395168       10972.8   \n",
       "5522  6455645      3598.881      1940  51.997081  -3.396816       10972.8   \n",
       "5523  6456639      3599.446      1940  51.997513  -3.398743       10972.8   \n",
       "5524  6457526      3599.962      1940  51.997925  -3.400497       10972.8   \n",
       "\n",
       "      geoAltitude  numMeasurements  \\\n",
       "0        10820.40                2   \n",
       "1        10820.40                6   \n",
       "2        10820.40                4   \n",
       "3        10820.40                4   \n",
       "4        10820.40                3   \n",
       "...           ...              ...   \n",
       "5520     10850.88                8   \n",
       "5521     10850.88                5   \n",
       "5522     10850.88                4   \n",
       "5523     10850.88                9   \n",
       "5524     10850.88                3   \n",
       "\n",
       "                                           measurements  test  \\\n",
       "0        [[470,982753933,38],[499,6026974083.33333,30]]     0   \n",
       "1     [[259,1453008046,29],[14,1452810281,47],[470,1...     0   \n",
       "2     [[14,1922851781,69],[499,6966728500,37],[706,5...     0   \n",
       "3     [[14,2353216015,50],[474,2353107056,3],[470,23...     0   \n",
       "4     [[499,7907056416.66667,33],[470,2862835123,28]...     0   \n",
       "...                                                 ...   ...   \n",
       "5520  [[175,3598435469890,31],[185,3597726866125,50]...     0   \n",
       "5521  [[185,3598637447484,53],[216,3599345841578,40]...     0   \n",
       "5522  [[185,3599147623453,51],[184,3671870533000,53]...     0   \n",
       "5523  [[185,3599708005484,50],[208,3600416311515,40]...     0   \n",
       "5524  [[185,3600228006343,48],[216,3600936400359,39]...     0   \n",
       "\n",
       "                                      stations  \\\n",
       "0                                   [470, 499]   \n",
       "1                     [14, 470, 474, 499, 665]   \n",
       "2                          [14, 470, 499, 706]   \n",
       "3                          [14, 470, 474, 499]   \n",
       "4                              [470, 499, 706]   \n",
       "...                                        ...   \n",
       "5520       [175, 185, 216, 231, 521, 595, 677]   \n",
       "5521                 [185, 216, 521, 595, 677]   \n",
       "5522                      [184, 185, 231, 677]   \n",
       "5523  [185, 208, 216, 231, 269, 429, 595, 677]   \n",
       "5524                           [185, 208, 216]   \n",
       "\n",
       "                                                  times  num  \n",
       "0              [0.9828746935382281, 0.9828746730206982]    2  \n",
       "1     [1.4528103401292936, 1.4525867935382282, 1.452...    5  \n",
       "2     [1.9228518401292936, 1.9226284485382281, 1.922...    4  \n",
       "3     [2.3532160741292936, 2.3529927185382284, 2.353...    4  \n",
       "4     [2.8629558835382283, 2.8629558319624215, 2.862...    3  \n",
       "...                                                 ...  ...  \n",
       "5520  [3598.435469289741, 3598.4350955161112, 3598.4...    7  \n",
       "5521  [3599.3456767958314, 3599.3458415787627, 3599....    5  \n",
       "5522  [3599.856123352471, 3599.8558527204127, 3599.8...    4  \n",
       "5523  [3600.4162347026236, 3600.416311532609, 3600.4...    8  \n",
       "5524  [3600.9362355163507, 3600.936312204609, 3600.9...    3  \n",
       "\n",
       "[5525 rows x 13 columns]"
      ]
     },
     "execution_count": 6,
     "metadata": {},
     "output_type": "execute_result"
    }
   ],
   "source": [
    "#i = 3\n",
    "#tr = Track(train[train.aircraft==train.aircraft.unique()[i]])\n",
    "tel = (tracks[2]._telemetry.copy()\n",
    "       .assign(num = lambda x: x.stations.apply(lambda y: len(y)))\n",
    "       .assign(times = lambda x: x.times.apply(lambda y: np.array(y)))\n",
    "      )\n",
    "tel"
   ]
  },
  {
   "cell_type": "code",
   "execution_count": 9,
   "metadata": {},
   "outputs": [],
   "source": [
    "from sklearn.cluster import DBSCAN\n",
    "from src.filters import filter_speedlimit\n",
    "from src.track import check_point\n",
    "from scipy.interpolate import UnivariateSpline\n",
    "\n",
    "from sklearn.linear_model import HuberRegressor\n",
    "from sklearn.preprocessing import PolynomialFeatures\n",
    "\n",
    "def check_point(full, part, t0, Teps=30, Nmin=10, ds_max=50):\n",
    "    # select points from the neighbourhood\n",
    "    ii = np.where(abs(part.timeAtServer.values - t0) < Teps)[0]\n",
    "    \n",
    "    if len(ii) < Nmin:\n",
    "        return -1\n",
    "    \n",
    "    # Prepare polynomial features for time\n",
    "    poly = PolynomialFeatures(2)\n",
    "    t0 = np.min(part.timeAtServer.values[ii])\n",
    "    t = (part.timeAtServer.values[ii] - t0).reshape(-1, 1)\n",
    "    poly.fit(t)\n",
    "    poly_t = poly.transform(t)\n",
    "\n",
    "    # two huber regressions for latitude and longitude\n",
    "    hr_lat = HuberRegressor().fit(poly_t, part.lat_pred.values[ii])\n",
    "    hr_lon = HuberRegressor().fit(poly_t, part.lon_pred.values[ii])\n",
    "    #hr_lat = RANSACRegressor(loss='absolute_loss', stop_probability=0.9).fit(poly_t, part.lat_pred.values[ii])\n",
    "    #hr_lon = RANSACRegressor(loss='absolute_loss', stop_probability=0.9).fit(poly_t, part.lon_pred.values[ii])\n",
    "    \n",
    "    \n",
    "    # Predict locations in full\n",
    "    id_min, id_max = np.min(part.id.values[ii]), np.max(part.id.values[ii])\n",
    "    t_full = (full.loc[(full.id >= id_min) & (full.id <= id_max)].timeAtServer.values - t0).reshape(-1, 1)\n",
    "    poly_t_full = poly.transform(t_full)\n",
    "\n",
    "    full.loc[(full.id >= id_min) & (full.id <= id_max), 'lon_pred2'] = hr_lon.predict(poly_t_full)\n",
    "    full.loc[(full.id >= id_min) & (full.id <= id_max), 'lat_pred2'] = hr_lat.predict(poly_t_full)\n",
    "    \n",
    "    return id_max\n",
    "\n",
    "\n",
    "verbose=True\n",
    "\n",
    "stations = st\n",
    "def solve(var=1, eps=300, samples=3):\n",
    "    if True:\n",
    "        \n",
    "        st_cart = []\n",
    "        st_hgt = []\n",
    "        \n",
    "        for s in stations.inventory:\n",
    "            st_cart += stations.carts(s)\n",
    "            st_hgt += [stations.locs(s)[2]]\n",
    "            \n",
    "        st_cart = np.array(st_cart)\n",
    "        st_hgt = np.array(st_hgt)\n",
    "        \n",
    "        N = tel.shape[0]\n",
    "        \n",
    "        y = tel[['latitude', 'longitude', 'baroAltitude', 'geoAltitude']].values\n",
    "        all_times = tel.times.values\n",
    "        all_stations = tel.stations.values\n",
    "        \n",
    "        lat_pred, lon_pred, err, err_dist = np.zeros(N), np.zeros(N), np.zeros(N), np.zeros(N)\n",
    "        \n",
    "        # Solve multilateration equations\n",
    "        for i in tqdm(tel[tel.num >= 3].index):\n",
    "            sts = all_stations[i]\n",
    "\n",
    "            x0 = np.zeros(2)\n",
    "            for s in sts:\n",
    "                x0 += np.array(stations.locs(s)[:2])\n",
    "\n",
    "            x0 /= len(sts)\n",
    "\n",
    "            result = fmin_l_bfgs_b(solve_point, x0, \n",
    "                                   args=(y[i, 2],\n",
    "                                         all_times[i],\n",
    "                                         np.array([stations.i(s) for s in sts], dtype=np.int32),\n",
    "                                         st_cart,\n",
    "                                         st_hgt,\n",
    "                                         stations.A0,\n",
    "                                         stations.B,\n",
    "                                         1),\n",
    "                                   factr=10,\n",
    "                                   approx_grad=1\n",
    "                                   )\n",
    "            \n",
    "            lat_pred[i] = result[0][0]\n",
    "            lon_pred[i] = result[0][1]\n",
    "            err[i] = result[1]\n",
    "            err_dist[i] = haversine_distance(result[0][0], result[0][1], y[i, 0], y[i, 1])\n",
    "            \n",
    "        tel['lat_pred'] = lat_pred\n",
    "        tel['lon_pred'] = lon_pred\n",
    "        tel['err'] = err\n",
    "        tel['err_dist'] = err_dist\n",
    "        \n",
    "        #self._telemetry = tel\n",
    "        #return tel\n",
    "        \n",
    "        # Filter by multilateration error\n",
    "        #ind = np.where((tel.err.values > 0) & (tel.err.values < 2e-6))[0]\n",
    "        #if len(ind) == 0:\n",
    "        #    return []\n",
    "        \n",
    "        ind = np.where(tel.err.values > 0)[0]\n",
    "        \n",
    "        if var == 2:\n",
    "            q = tel[['latitude', 'longitude', 'baroAltitude']].values[ind]\n",
    "            q_cart = np.array(numpylla2ecef(q[:, 0], q[:, 1], q[:, 2])).T\n",
    "            db = DBSCAN(eps=eps, min_samples=samples).fit(q_cart)\n",
    "        else:\n",
    "\n",
    "            db = DBSCAN(eps=0.02, min_samples=4).fit(tel[['lon_pred', 'lat_pred']].values[ind])\n",
    "        \n",
    "        ind2 = ind[np.where(db.labels_!=-1)[0]]\n",
    "        print(len(ind2))\n",
    "        if len(ind2) == 0:\n",
    "            return []\n",
    "        \n",
    "        #return tel, tel.iloc[ind2]\n",
    "        \n",
    "        # Filter by graph model\n",
    "        res = filter_speedlimit(tel.lat_pred.values[ind2],\n",
    "                          tel.lon_pred.values[ind2],\n",
    "                          tel.timeAtServer.values[ind2],\n",
    "                          0, 300, verbose)\n",
    "        ind3 = ind2[np.where(res == True)[0]]\n",
    "        if len(ind3) == 0:\n",
    "            return []\n",
    "        \n",
    "        part = tel.iloc[ind3]\n",
    "        #return tel, part\n",
    "    \n",
    "    \n",
    "        if verbose:\n",
    "            err = [haversine_distance(lat1, lon1, lat2, lon2) for lat1, lon1, lat2, lon2 in zip(tel.latitude.values[ind3],                                                                                                       tel.longitude.values[ind3],\n",
    "                                                                                                tel.lat_pred.values[ind3],\n",
    "                                                                                                tel.lon_pred.values[ind3])]\n",
    "            print('Error after graph filter=', np.mean(sorted(err)[:int(0.9*len(ind3))]))\n",
    "            \n",
    "        # Filter using Huber regression\n",
    "        full = tel.copy()#iloc[ind3[0]:ind3[-1]]\n",
    "        full['lat_pred2'] = np.zeros(full.shape[0])\n",
    "        full['lon_pred2'] = np.zeros(full.shape[0])\n",
    "\n",
    "        #part = tel.iloc[ind3]\n",
    "        #return full, part\n",
    "\n",
    "        i = 0\n",
    "        while i < part.shape[0]:\n",
    "            try:  # sometimes HuberRegression doesn't converge\n",
    "                id_max = check_point(full, part, part.timeAtServer.values[i], Teps=30, Nmin=10, ds_max=35)\n",
    "            except:\n",
    "                # return unsuccess\n",
    "                id_max = -1\n",
    "\n",
    "            if id_max == -1:\n",
    "                # unsuccess -> move to the next base point in track\n",
    "                i += 1\n",
    "            else:\n",
    "                # success -> move to the next base point outside the neighborhood\n",
    "                i = np.where(part.id.values == id_max)[0][0] + 1\n",
    "\n",
    "        # Result after Huber filter\n",
    "        indx = np.where(full.lat_pred2 != 0)[0]\n",
    "        #print(len(indx))\n",
    "        if len(indx) == 0:\n",
    "            return []\n",
    "        \n",
    "        x = (full\n",
    "             .iloc[indx]\n",
    "             .assign(err_dist2 = lambda x: [haversine_distance(lat1, lon1, lat2, lon2) for lat1, lon1, lat2, lon2 in zip(x.latitude, x.longitude, x.lat_pred2, x.lon_pred2)])\n",
    "            )\n",
    "        \n",
    "        if verbose:\n",
    "            print('Error after Huber filter=', np.mean(np.sort(x.err_dist2.values)[:int(0.9*len(indx))]))\n",
    "\n",
    "        # Filter graph again\n",
    "        #res1 = filter_speedlimit(x.lat_pred2.values,\n",
    "        #                         x.lon_pred2.values,\n",
    "        #                         x.timeAtServer.values,\n",
    "        #                         0, 300, verbose)\n",
    "        \n",
    "        j = np.arange(x.shape[0])#np.where(res1==True)[0]\n",
    "        if len(j) == 0:\n",
    "            return []\n",
    "\n",
    "        if verbose:\n",
    "            print(f'Total points fitted = {len(j)} out of {tel.shape[0]}')\n",
    "            print('Final error=', np.mean(np.sort(x.err_dist2.values[j])[:int(0.9*len(j))]))\n",
    "\n",
    "            plt.scatter(x.lon_pred2.values[j], x.lat_pred2.values[j], c=x.err_dist2.values[j])\n",
    "            plt.colorbar()\n",
    "            plt.grid()\n",
    "            \n",
    "        return x.err_dist2.values[j].tolist()"
   ]
  },
  {
   "cell_type": "code",
   "execution_count": 10,
   "metadata": {},
   "outputs": [
    {
     "name": "stderr",
     "output_type": "stream",
     "text": [
      "100%|██████████| 3684/3684 [00:49<00:00, 74.70it/s]\n"
     ]
    },
    {
     "name": "stdout",
     "output_type": "stream",
     "text": [
      "2823\n",
      "filter trajectory to keep the longest sequence of points complying with the speed limits\n",
      "initial number of points 2823\n",
      "longest sequence 2034\n",
      "Error after graph filter= 31.407435812284177\n",
      "Error after Huber filter= 21.83302265233775\n",
      "Total points fitted = 4858 out of 5525\n",
      "Final error= 21.83302265233775\n"
     ]
    },
    {
     "ename": "ValueError",
     "evalue": "too many values to unpack (expected 2)",
     "output_type": "error",
     "traceback": [
      "\u001b[0;31m---------------------------------------------------------------------------\u001b[0m",
      "\u001b[0;31mValueError\u001b[0m                                Traceback (most recent call last)",
      "\u001b[0;32m<ipython-input-10-9565dc06520c>\u001b[0m in \u001b[0;36m<module>\u001b[0;34m\u001b[0m\n\u001b[0;32m----> 1\u001b[0;31m \u001b[0mfull\u001b[0m\u001b[0;34m,\u001b[0m \u001b[0mpart\u001b[0m \u001b[0;34m=\u001b[0m \u001b[0msolve\u001b[0m\u001b[0;34m(\u001b[0m\u001b[0mvar\u001b[0m\u001b[0;34m=\u001b[0m\u001b[0;36m1\u001b[0m\u001b[0;34m,\u001b[0m \u001b[0meps\u001b[0m\u001b[0;34m=\u001b[0m\u001b[0;36m1000\u001b[0m\u001b[0;34m,\u001b[0m \u001b[0msamples\u001b[0m\u001b[0;34m=\u001b[0m\u001b[0;36m5\u001b[0m\u001b[0;34m)\u001b[0m\u001b[0;34m\u001b[0m\u001b[0;34m\u001b[0m\u001b[0m\n\u001b[0m",
      "\u001b[0;31mValueError\u001b[0m: too many values to unpack (expected 2)"
     ]
    },
    {
     "data": {
      "image/png": "[encoded data removed]",
      "text/plain": [
       "<Figure size 432x288 with 2 Axes>"
      ]
     },
     "metadata": {
      "needs_background": "light"
     },
     "output_type": "display_data"
    }
   ],
   "source": [
    "full, part = solve(var=1, eps=1000, samples=5)"
   ]
  },
  {
   "cell_type": "code",
   "execution_count": 390,
   "metadata": {},
   "outputs": [
    {
     "name": "stdout",
     "output_type": "stream",
     "text": [
      "3201 1839\n",
      "1754\n"
     ]
    },
    {
     "data": {
      "text/plain": [
       "(40.0, 60.0)"
      ]
     },
     "execution_count": 390,
     "metadata": {},
     "output_type": "execute_result"
    },
    {
     "data": {
      "image/png": "[encoded data removed]",
      "text/plain": [
       "<Figure size 1080x720 with 1 Axes>"
      ]
     },
     "metadata": {
      "needs_background": "light"
     },
     "output_type": "display_data"
    }
   ],
   "source": [
    "ind = np.where(full.err.values > 0)[0]\n",
    "print(full.shape[0], len(ind))\n",
    "        \n",
    "q = full[['latitude', 'longitude', 'baroAltitude']].values[ind]\n",
    "q_cart = np.array(numpylla2ecef(q[:, 0], q[:, 1], q[:, 2])).T\n",
    "db = DBSCAN(eps=1000, min_samples=5).fit(q_cart)\n",
    "        \n",
    "ind2 = ind[np.where(db.labels_!=-1)[0]]\n",
    "print(len(ind2))\n",
    "\n",
    "plt.plot(full.longitude.values, full.latitude.values, '.')\n",
    "plt.plot(full.lon_pred.values[ind2], full.lat_pred.values[ind2], 'r.')\n",
    "\n",
    "plt.xlim([-5, 5])\n",
    "plt.ylim([40, 60])"
   ]
  },
  {
   "cell_type": "code",
   "execution_count": 83,
   "metadata": {},
   "outputs": [],
   "source": [
    "if True:\n",
    "    if True:\n",
    "        i = 0\n",
    "        while i < part.shape[0]:\n",
    "            try:  # sometimes HuberRegression doesn't converge\n",
    "                id_max = check_point(full, part, part.timeAtServer.values[i], Teps=30, Nmin=10, ds_max=35)\n",
    "            except:\n",
    "                # return unsuccess\n",
    "                id_max = -1\n",
    "\n",
    "            if id_max == -1:\n",
    "                # unsuccess -> move to the next base point in track\n",
    "                i += 1\n",
    "            else:\n",
    "                # success -> move to the next base point outside the neighborhood\n",
    "                i = np.where(part.id.values == id_max)[0][0] + 1\n",
    "                "
   ]
  },
  {
   "cell_type": "code",
   "execution_count": 84,
   "metadata": {},
   "outputs": [
    {
     "name": "stdout",
     "output_type": "stream",
     "text": [
      "Error after Huber filter= 58.065394493763065\n"
     ]
    }
   ],
   "source": [
    "if True:\n",
    "    if True:\n",
    "        indx = np.where(full.lat_pred2 != 0)[0]\n",
    "        #print(len(indx))\n",
    "        #if len(indx) == 0:\n",
    "        #    return []\n",
    "        \n",
    "        x = (full\n",
    "             .iloc[indx]\n",
    "             .assign(err_dist2 = lambda x: [haversine_distance(lat1, lon1, lat2, lon2) for lat1, lon1, lat2, lon2 in zip(x.latitude, x.longitude, x.lat_pred2, x.lon_pred2)])\n",
    "            )\n",
    "        \n",
    "        #if verbose:\n",
    "        print('Error after Huber filter=', np.mean(np.sort(x.err_dist2.values)[:int(0.9*len(indx))]))\n",
    "        "
   ]
  },
  {
   "cell_type": "code",
   "execution_count": 347,
   "metadata": {},
   "outputs": [
    {
     "name": "stdout",
     "output_type": "stream",
     "text": [
      "(4729981.373818851, 148445.30548088433, 4275462.666060646)\n",
      "[[4730027.86152926  148493.18936603 4275409.92783095]\n",
      " [4729981.37381885  148445.30548088 4275462.66606065]\n",
      " [4729908.2875575   148382.19308625 4275545.15627108]\n",
      " ...\n",
      " [4192651.31371766  131083.41020321 4802317.41086264]\n",
      " [4192557.08441127  131137.20571068 4802397.66722335]\n",
      " [4192435.48611402  131205.61683397 4802501.25593014]]\n"
     ]
    }
   ],
   "source": [
    "q = tel[['latitude', 'longitude', 'baroAltitude']].values\n",
    "\n",
    "np.array(numpylla2ecef(q[:, 0], q[:, 1], q[:, 2])).T"
   ]
  },
  {
   "cell_type": "code",
   "execution_count": 56,
   "metadata": {},
   "outputs": [
    {
     "name": "stdout",
     "output_type": "stream",
     "text": [
      "5078 6373\n"
     ]
    }
   ],
   "source": [
    "ind = np.where(tel.err.values > 0)[0]\n",
    "print(len(ind), tel.shape[0])\n",
    "\n",
    "db = DBSCAN(eps=0.02, min_samples=10).fit(tel[['lon_pred', 'lat_pred']].values[ind])\n",
    "ind2 = ind[np.where(db.labels_!=-1)[0]]\n"
   ]
  },
  {
   "cell_type": "code",
   "execution_count": 57,
   "metadata": {},
   "outputs": [
    {
     "data": {
      "text/plain": [
       "<matplotlib.colorbar.Colorbar at 0x7f64f0105b50>"
      ]
     },
     "execution_count": 57,
     "metadata": {},
     "output_type": "execute_result"
    },
    {
     "data": {
      "image/png": "[encoded data removed]",
      "text/plain": [
       "<Figure size 1080x720 with 2 Axes>"
      ]
     },
     "metadata": {
      "needs_background": "light"
     },
     "output_type": "display_data"
    }
   ],
   "source": [
    "r = tel.err_dist.values\n",
    "#_ = plt.hist([q for q in r[np.where(~np.isnan(r))[0]] if q < 500], bins=100)\n",
    "\n",
    "#figsize(15, 10)\n",
    "plt.scatter(tel.lon_pred.values[ind2], tel.lat_pred.values[ind2], c=tel.err_dist.values[ind2])\n",
    "plt.colorbar()\n",
    "\n",
    "#plt.grid()\n",
    "#plt.ylim(45, 52)\n",
    "#plt.plot(tel.err_dist, tel.err, '.')\n",
    "#plt.xlim(0, 1e3)\n",
    "#plt.ylim([0, 2e-6])\n",
    "#plt.xlim([0, 500])"
   ]
  },
  {
   "cell_type": "code",
   "execution_count": 15,
   "metadata": {},
   "outputs": [],
   "source": [
    "%%cython\n",
    "\n",
    "# load libraries\n",
    "cimport cython\n",
    "\n",
    "import numpy as np\n",
    "cimport numpy as np\n",
    "\n",
    "from libc.math cimport fabs, exp, sqrt, cos, sin, pi, pow\n",
    "\n",
    "from cython import boundscheck, wraparound\n",
    "from cython.parallel import prange\n",
    "\n",
    "\n",
    "# WSG84 ellipsoid constants\n",
    "cdef:\n",
    "    double wgs_a = 6378137  # [m]\n",
    "    double wgs_e2 = 0.00669437999014\n",
    "\n",
    "cdef:\n",
    "    double light_speed = 299792458.\n",
    "\n",
    "\n",
    "# --------------------------------------------------------------------\n",
    "# Cython function to convert WGS84 coordinates to cartesian\n",
    "# --------------------------------------------------------------------\n",
    "\n",
    "cdef wgs2cart_c(double latitude, double longitude, double height):\n",
    "    cdef:\n",
    "        double lat = pi * latitude / 180.\n",
    "        double lon = pi * longitude / 180.\n",
    "        \n",
    "        # prime vertical radius of curvature\n",
    "        double N = wgs_a / sqrt(1 - wgs_e2 * pow(sin(lat), 2))\n",
    "        double cart[3]\n",
    "\n",
    "    cart[0] = (N + height) * cos(lat) * cos(lon)\n",
    "    cart[1] = (N + height) * cos(lat) * sin(lon)\n",
    "    cart[2] = ((1 - wgs_e2) * N + height) * sin(lat)\n",
    "    \n",
    "    return cart\n",
    "\n",
    "\n",
    "cdef inline double eff_velocity(double h_min, double h_max, double A0, double B) nogil:\n",
    "    if h_min < h_max:\n",
    "        return light_speed / (1 + A0 * (exp(-B*h_min) - exp(-B*h_max)) / B / (h_max - h_min))\n",
    "    elif h_min > h_max:\n",
    "        return light_speed / (1 + A0 * (exp(-B*h_max) - exp(-B*h_min)) / B / (h_min - h_max))\n",
    "    else:\n",
    "        return light_speed / (1 + A0 / B)\n",
    "    \n",
    "\n",
    "@boundscheck(False)\n",
    "@wraparound(False)\n",
    "def solve_point(double[:] x,\n",
    "                double baroAlt,\n",
    "                double[:] times,\n",
    "                int[:] st,\n",
    "                double[:] st_cart,\n",
    "                double[:] st_hgt,\n",
    "                double A0,\n",
    "                double B,\n",
    "                int loss_l1 = 1\n",
    "                ):\n",
    "    \n",
    "    cdef:\n",
    "        int N = times.shape[0]\n",
    "        \n",
    "        double err = 0\n",
    "        \n",
    "        int i, j, j1, j2\n",
    "        double dist1, dist2, t1, t2\n",
    "        double cart[3]\n",
    "        \n",
    "        #double[:] dt = np.zeros(N) \n",
    "    \n",
    "    cart = wgs2cart_c(x[0], x[1], baroAlt)\n",
    "    \n",
    "    for i in prange(N, nogil=True, schedule='guided', num_threads=4):\n",
    "        j1 = st[i]\n",
    "        dist1 = sqrt((st_cart[3*j1] - cart[0])**2 + (st_cart[3*j1+1] - cart[1])**2 + (st_cart[3*j1+2] - cart[2])**2)\n",
    "        t1 = times[i] - dist1 / eff_velocity(st_hgt[j1], baroAlt, A0, B)\n",
    "        \n",
    "        \n",
    "        for j in range(i+1, N):\n",
    "            j2 = st[j]\n",
    "            \n",
    "            dist2 = sqrt((st_cart[3*j2] - cart[0])**2 + (st_cart[3*j2+1] - cart[1])**2 + (st_cart[3*j2+2] - cart[2])**2)\n",
    "            t2 = times[j] - dist2 / eff_velocity(st_hgt[j2], baroAlt, A0, B)\n",
    "            \n",
    "            #dt[(N-1)*i+j-1] = fabs(t1 - t2)\n",
    "            err += fabs(t1 - t2)\n",
    "    \n",
    "    #dt = np.sort(dt)[:-1]\n",
    "    return err\n",
    "\n"
   ]
  },
  {
   "cell_type": "code",
   "execution_count": null,
   "metadata": {},
   "outputs": [],
   "source": []
  },
  {
   "cell_type": "markdown",
   "metadata": {},
   "source": [
    "### Predict test"
   ]
  },
  {
   "cell_type": "code",
   "execution_count": 3,
   "metadata": {},
   "outputs": [
    {
     "name": "stdout",
     "output_type": "stream",
     "text": [
      "Sensors shape (716, 6)\n"
     ]
    }
   ],
   "source": [
    "A0_B = [pow(10, y) for y in [-3.43667365e+00, -4.06472353e+00]]\n",
    "        \n",
    "shifts = [pow(10, y) for y in [-7.11434081e+00, -7.22819731e+00,\n",
    "       -8.83870731e+00, -7.06997492e+00, -7.08268100e+00, -7.00938609e+00,\n",
    "       -1.01729574e+01, -9.77355387e+00, -7.11141541e+00, -6.76659381e+00,\n",
    "       -7.22278746e+00, -6.92709914e+00, -7.03996985e+00, -7.75427061e+00,\n",
    "       -9.11757476e+00, -6.89056754e+00, -9.46801783e+00, -7.21695015e+00,\n",
    "       -7.33769829e+00, -6.91792998e+00, -7.36301447e+00, -8.56531160e+00,\n",
    "       -6.75218732e+00, -3.91861080e+00, -3.91835193e+00, -3.91807496e+00,\n",
    "       -3.91839432e+00, -3.91839479e+00, -6.81686631e+00, -6.82750234e+00,\n",
    "       -6.72162050e+00, -7.12386142e+00, -7.05804971e+00, -6.96517205e+00,\n",
    "       -8.76157876e+00]]\n",
    "        \n",
    "locations = [4.74003907e+01,  8.63053167e+00,  4.30683845e+02,\n",
    "        4.72482948e+01,  8.52974042e+00,  6.25144672e+02,  4.70704381e+01,\n",
    "        7.62059643e+00,  5.60811656e+02,  4.75381564e+01,  7.55951888e+00,\n",
    "        3.52785754e+02,  4.94248656e+01,  7.75277186e+00,  2.92222132e+02,\n",
    "        4.60500229e+01,  1.44691210e+01,  3.46882083e+02,  5.09371903e+01,\n",
    "        7.35395305e+00,  2.62305822e+02,  3.86893683e+01, -9.35489820e+00,\n",
    "        7.37338821e+01,  4.65138771e+01,  1.51881293e+01,  1.57734454e+03,\n",
    "        4.75119828e+01,  1.02801412e+01,  7.54540937e+02,  4.83658601e+01,\n",
    "        1.14784277e+01,  4.92925814e+02,  4.70361216e+01,  8.32399853e+00,\n",
    "        4.79550824e+02,  4.81787456e+01,  1.22354460e+01,  5.29391996e+02,\n",
    "        5.27809770e+01, -1.20441490e+00,  4.27620402e+01,  5.18724544e+01,\n",
    "       -5.06989464e-01,  1.81262795e+02,  5.14865736e+01,  7.59784956e+00,\n",
    "        1.46600666e+02,  4.95296172e+01,  1.09061941e+01,  3.06901503e+02,\n",
    "        4.88913513e+01,  9.17767383e+00,  3.03714814e+02,  5.12458814e+01,\n",
    "       -7.68625186e-01,  1.08587905e+02,  4.86569294e+01,  8.72482551e+00,\n",
    "        3.60914642e+02,  5.18331813e+01,  4.14276178e+00,  1.09823167e+01,\n",
    "        5.12427012e+01,  6.68497250e+00,  4.39053786e+01,  3.71713545e+01,\n",
    "       -7.52168839e+00,  6.65337662e+01,  4.92876342e+01,  7.60384112e+00,\n",
    "        4.10653429e+02,  4.94716113e+01,  7.69651939e+00,  2.67632204e+02,\n",
    "        4.67624871e+01,  7.60048572e+00,  5.90875517e+02,  4.73778257e+01,\n",
    "        8.55247058e+00,  5.03952969e+02,  5.02060722e+01,  6.97846214e+00,\n",
    "        4.34708535e+02,  3.92316619e+01, -9.30812764e+00,  6.39646694e+01,\n",
    "        4.01651070e+01, -8.19932381e+00,  1.80718597e+02,  3.89892473e+01,\n",
    "       -7.15020320e+00,  2.41443914e+02,  4.87109833e+01,  9.26528906e+00,\n",
    "        3.55448500e+02,  4.70362217e+01,  8.32402692e+00,  4.61417533e+02,\n",
    "        4.99882346e+01,  8.59180901e+00,  1.34775358e+02,  5.13416634e+01,\n",
    "        5.89330577e+00,  3.13178694e+01]\n",
    "\n",
    "# Information about sensors\n",
    "\n",
    "sensors = pd.read_csv('round2/round2_sensors.csv')\n",
    "print('Sensors shape', sensors.shape)\n",
    "\n",
    "good_sensors = sensors[sensors.good==True].serial.values\n",
    "\n",
    "first_set = list(set(good_sensors).difference([175, 532, 319, 201, 131, 150, 132, 142, 135, 187]))\n",
    "first_set = sorted(first_set)\n",
    "\n",
    "from src.stations import Stations\n",
    "import json    \n",
    "\n",
    "with open('stations_params.json', 'r') as f:  \n",
    "    st_params = json.load(f)\n",
    "\n",
    "for i, s in enumerate(first_set):\n",
    "    st_params[str(s)] = {'shift':shifts[i]}"
   ]
  },
  {
   "cell_type": "code",
   "execution_count": 4,
   "metadata": {},
   "outputs": [
    {
     "name": "stdout",
     "output_type": "stream",
     "text": [
      "Number of synchronized stations= 201\n"
     ]
    }
   ],
   "source": [
    "from src.stations import Stations\n",
    "st = Stations(first_set)\n",
    "st.A0 = A0_B[0]\n",
    "st.B = A0_B[1]\n",
    "\n",
    "# time correction for good stations\n",
    "for i, s in enumerate(st.inventory):\n",
    "    st.update_location(s, locations[3*i:3*i+3])\n",
    "    \n",
    "# time correction for new stations\n",
    "for s in st_params:\n",
    "    sint = int(s)\n",
    "            \n",
    "    if 'location' in st_params[s]:\n",
    "        st.add_station(sint)\n",
    "        st.update_location(sint, st_params[s]['location'])\n",
    "        \n",
    "st.st_params = st_params\n",
    "        \n",
    "print('Number of synchronized stations=', len(st.inventory))"
   ]
  },
  {
   "cell_type": "code",
   "execution_count": 568,
   "metadata": {},
   "outputs": [
    {
     "data": {
      "text/html": [
       "<div>\n",
       "<style scoped>\n",
       "    .dataframe tbody tr th:only-of-type {\n",
       "        vertical-align: middle;\n",
       "    }\n",
       "\n",
       "    .dataframe tbody tr th {\n",
       "        vertical-align: top;\n",
       "    }\n",
       "\n",
       "    .dataframe thead th {\n",
       "        text-align: right;\n",
       "    }\n",
       "</style>\n",
       "<table border=\"1\" class=\"dataframe\">\n",
       "  <thead>\n",
       "    <tr style=\"text-align: right;\">\n",
       "      <th></th>\n",
       "      <th>id</th>\n",
       "      <th>timeAtServer</th>\n",
       "      <th>aircraft</th>\n",
       "      <th>latitude</th>\n",
       "      <th>longitude</th>\n",
       "      <th>baroAltitude</th>\n",
       "      <th>geoAltitude</th>\n",
       "      <th>numMeasurements</th>\n",
       "      <th>measurements</th>\n",
       "      <th>test</th>\n",
       "    </tr>\n",
       "  </thead>\n",
       "  <tbody>\n",
       "    <tr>\n",
       "      <th>0</th>\n",
       "      <td>12</td>\n",
       "      <td>0.003</td>\n",
       "      <td>2007</td>\n",
       "      <td>NaN</td>\n",
       "      <td>NaN</td>\n",
       "      <td>7947.66</td>\n",
       "      <td>NaN</td>\n",
       "      <td>9</td>\n",
       "      <td>[[185,266685578,76],[216,975259156,61],[269,-3...</td>\n",
       "      <td>1</td>\n",
       "    </tr>\n",
       "    <tr>\n",
       "      <th>1</th>\n",
       "      <td>13</td>\n",
       "      <td>0.003</td>\n",
       "      <td>2007</td>\n",
       "      <td>NaN</td>\n",
       "      <td>NaN</td>\n",
       "      <td>7947.66</td>\n",
       "      <td>NaN</td>\n",
       "      <td>9</td>\n",
       "      <td>[[185,266685578,76],[216,975259156,61],[269,-3...</td>\n",
       "      <td>1</td>\n",
       "    </tr>\n",
       "    <tr>\n",
       "      <th>2</th>\n",
       "      <td>18</td>\n",
       "      <td>0.003</td>\n",
       "      <td>863</td>\n",
       "      <td>NaN</td>\n",
       "      <td>NaN</td>\n",
       "      <td>5402.58</td>\n",
       "      <td>NaN</td>\n",
       "      <td>2</td>\n",
       "      <td>[[628,26776133500,194],[552,29075053083.3333,52]]</td>\n",
       "      <td>1</td>\n",
       "    </tr>\n",
       "    <tr>\n",
       "      <th>3</th>\n",
       "      <td>20</td>\n",
       "      <td>0.003</td>\n",
       "      <td>579</td>\n",
       "      <td>NaN</td>\n",
       "      <td>NaN</td>\n",
       "      <td>12199.62</td>\n",
       "      <td>NaN</td>\n",
       "      <td>4</td>\n",
       "      <td>[[628,26800463583.3333,63],[434,3190862666.666...</td>\n",
       "      <td>1</td>\n",
       "    </tr>\n",
       "    <tr>\n",
       "      <th>4</th>\n",
       "      <td>24</td>\n",
       "      <td>0.004</td>\n",
       "      <td>889</td>\n",
       "      <td>NaN</td>\n",
       "      <td>NaN</td>\n",
       "      <td>11269.98</td>\n",
       "      <td>NaN</td>\n",
       "      <td>3</td>\n",
       "      <td>[[169,18476432750,42],[463,44145377500,120],[6...</td>\n",
       "      <td>1</td>\n",
       "    </tr>\n",
       "    <tr>\n",
       "      <th>...</th>\n",
       "      <td>...</td>\n",
       "      <td>...</td>\n",
       "      <td>...</td>\n",
       "      <td>...</td>\n",
       "      <td>...</td>\n",
       "      <td>...</td>\n",
       "      <td>...</td>\n",
       "      <td>...</td>\n",
       "      <td>...</td>\n",
       "      <td>...</td>\n",
       "    </tr>\n",
       "    <tr>\n",
       "      <th>632927</th>\n",
       "      <td>6457507</td>\n",
       "      <td>3599.951</td>\n",
       "      <td>1776</td>\n",
       "      <td>NaN</td>\n",
       "      <td>NaN</td>\n",
       "      <td>10073.64</td>\n",
       "      <td>NaN</td>\n",
       "      <td>2</td>\n",
       "      <td>[[670,3600934669203,98],[134,3600934662390,77]]</td>\n",
       "      <td>1</td>\n",
       "    </tr>\n",
       "    <tr>\n",
       "      <th>632928</th>\n",
       "      <td>6457509</td>\n",
       "      <td>3599.951</td>\n",
       "      <td>874</td>\n",
       "      <td>NaN</td>\n",
       "      <td>NaN</td>\n",
       "      <td>8534.40</td>\n",
       "      <td>NaN</td>\n",
       "      <td>4</td>\n",
       "      <td>[[469,3631982078583.33,184],[625,3597950528250...</td>\n",
       "      <td>1</td>\n",
       "    </tr>\n",
       "    <tr>\n",
       "      <th>632929</th>\n",
       "      <td>6457518</td>\n",
       "      <td>3599.956</td>\n",
       "      <td>712</td>\n",
       "      <td>NaN</td>\n",
       "      <td>NaN</td>\n",
       "      <td>12192.00</td>\n",
       "      <td>NaN</td>\n",
       "      <td>2</td>\n",
       "      <td>[[293,3604192822833.33,49],[425,3662018885666....</td>\n",
       "      <td>1</td>\n",
       "    </tr>\n",
       "    <tr>\n",
       "      <th>632930</th>\n",
       "      <td>6457538</td>\n",
       "      <td>3599.977</td>\n",
       "      <td>1224</td>\n",
       "      <td>NaN</td>\n",
       "      <td>NaN</td>\n",
       "      <td>10972.80</td>\n",
       "      <td>NaN</td>\n",
       "      <td>4</td>\n",
       "      <td>[[259,3600971711718,51],[257,3600971141078,83]...</td>\n",
       "      <td>1</td>\n",
       "    </tr>\n",
       "    <tr>\n",
       "      <th>632931</th>\n",
       "      <td>6457540</td>\n",
       "      <td>3599.987</td>\n",
       "      <td>2333</td>\n",
       "      <td>NaN</td>\n",
       "      <td>NaN</td>\n",
       "      <td>7376.16</td>\n",
       "      <td>NaN</td>\n",
       "      <td>2</td>\n",
       "      <td>[[185,3600260210062,40],[288,3607631474916.67,...</td>\n",
       "      <td>1</td>\n",
       "    </tr>\n",
       "  </tbody>\n",
       "</table>\n",
       "<p>632932 rows × 10 columns</p>\n",
       "</div>"
      ],
      "text/plain": [
       "             id  timeAtServer  aircraft  latitude  longitude  baroAltitude  \\\n",
       "0            12         0.003      2007       NaN        NaN       7947.66   \n",
       "1            13         0.003      2007       NaN        NaN       7947.66   \n",
       "2            18         0.003       863       NaN        NaN       5402.58   \n",
       "3            20         0.003       579       NaN        NaN      12199.62   \n",
       "4            24         0.004       889       NaN        NaN      11269.98   \n",
       "...         ...           ...       ...       ...        ...           ...   \n",
       "632927  6457507      3599.951      1776       NaN        NaN      10073.64   \n",
       "632928  6457509      3599.951       874       NaN        NaN       8534.40   \n",
       "632929  6457518      3599.956       712       NaN        NaN      12192.00   \n",
       "632930  6457538      3599.977      1224       NaN        NaN      10972.80   \n",
       "632931  6457540      3599.987      2333       NaN        NaN       7376.16   \n",
       "\n",
       "        geoAltitude  numMeasurements  \\\n",
       "0               NaN                9   \n",
       "1               NaN                9   \n",
       "2               NaN                2   \n",
       "3               NaN                4   \n",
       "4               NaN                3   \n",
       "...             ...              ...   \n",
       "632927          NaN                2   \n",
       "632928          NaN                4   \n",
       "632929          NaN                2   \n",
       "632930          NaN                4   \n",
       "632931          NaN                2   \n",
       "\n",
       "                                             measurements  test  \n",
       "0       [[185,266685578,76],[216,975259156,61],[269,-3...     1  \n",
       "1       [[185,266685578,76],[216,975259156,61],[269,-3...     1  \n",
       "2       [[628,26776133500,194],[552,29075053083.3333,52]]     1  \n",
       "3       [[628,26800463583.3333,63],[434,3190862666.666...     1  \n",
       "4       [[169,18476432750,42],[463,44145377500,120],[6...     1  \n",
       "...                                                   ...   ...  \n",
       "632927    [[670,3600934669203,98],[134,3600934662390,77]]     1  \n",
       "632928  [[469,3631982078583.33,184],[625,3597950528250...     1  \n",
       "632929  [[293,3604192822833.33,49],[425,3662018885666....     1  \n",
       "632930  [[259,3600971711718,51],[257,3600971141078,83]...     1  \n",
       "632931  [[185,3600260210062,40],[288,3607631474916.67,...     1  \n",
       "\n",
       "[632932 rows x 10 columns]"
      ]
     },
     "execution_count": 568,
     "metadata": {},
     "output_type": "execute_result"
    }
   ],
   "source": [
    "test = pd.read_csv('test_data.csv')\n",
    "test"
   ]
  },
  {
   "cell_type": "code",
   "execution_count": 569,
   "metadata": {},
   "outputs": [
    {
     "name": "stderr",
     "output_type": "stream",
     "text": [
      "100%|██████████| 300/300 [00:49<00:00,  6.03it/s]\n"
     ]
    }
   ],
   "source": [
    "\n",
    "\n",
    "test_tracks = TrackCollection(test, st)"
   ]
  },
  {
   "cell_type": "code",
   "execution_count": null,
   "metadata": {},
   "outputs": [],
   "source": []
  },
  {
   "cell_type": "code",
   "execution_count": 566,
   "metadata": {},
   "outputs": [],
   "source": [
    "from sklearn.cluster import DBSCAN\n",
    "from src.filters import filter_speedlimit\n",
    "from src.track import check_point\n",
    "from scipy.interpolate import UnivariateSpline\n",
    "from scipy.interpolate import splrep, splev\n",
    "\n",
    "import gc\n",
    "\n",
    "verbose=False\n",
    "\n",
    "\n",
    "def solve(tr, filename, verbose=False):\n",
    "    if True:\n",
    "        #print(tr._aircraft)\n",
    "        tel = (tr._telemetry\n",
    "               .assign(num = lambda x: x.stations.apply(lambda y: len(y)))\n",
    "               .assign(times = lambda x: x.times.apply(lambda y: np.array(y)))\n",
    "              )\n",
    "        stations = tr._st\n",
    "        \n",
    "        \n",
    "        st_cart = []\n",
    "        st_hgt = []\n",
    "        \n",
    "        for s in stations.inventory:\n",
    "            st_cart += stations.carts(s)\n",
    "            st_hgt += [stations.locs(s)[2]]\n",
    "            \n",
    "        st_cart = np.array(st_cart)\n",
    "        st_hgt = np.array(st_hgt)\n",
    "        \n",
    "        N = tel.shape[0]\n",
    "        \n",
    "        y = tel[['latitude', 'longitude', 'baroAltitude', 'geoAltitude']].values\n",
    "        all_times = tel.times.values\n",
    "        all_stations = tel.stations.values\n",
    "        \n",
    "        lat_pred, lon_pred, err = np.zeros(N), np.zeros(N), np.zeros(N)\n",
    "        \n",
    "        # Solve multilateration equations\n",
    "        for i in tel[tel.num >= 3].index:\n",
    "            sts = all_stations[i]\n",
    "\n",
    "            x0 = np.zeros(2)\n",
    "            for s in sts:\n",
    "                x0 += np.array(stations.locs(s)[:2])\n",
    "\n",
    "            x0 /= len(sts)\n",
    "\n",
    "            result = fmin_l_bfgs_b(solve_point, x0, \n",
    "                                   args=(y[i, 2],\n",
    "                                         all_times[i],\n",
    "                                         np.array([stations.i(s) for s in sts], dtype=np.int32),\n",
    "                                         st_cart,\n",
    "                                         st_hgt,\n",
    "                                         stations.A0,\n",
    "                                         stations.B,\n",
    "                                         1),\n",
    "                                   factr=10,\n",
    "                                   approx_grad=1\n",
    "                                   )\n",
    "            \n",
    "            lat_pred[i] = result[0][0]\n",
    "            lon_pred[i] = result[0][1]\n",
    "            err[i] = result[1]\n",
    "            \n",
    "        tel['lat_pred'] = lat_pred\n",
    "        tel['lon_pred'] = lon_pred\n",
    "        tel['err'] = err\n",
    "        \n",
    "        del st_cart, st_hgt, y, all_times, all_stations, lat_pred, lon_pred, err\n",
    "        \n",
    "        # Filter by multilateration error\n",
    "        #ind = np.where((tel.err.values > 0) & (tel.err.values < 2e-6))[0]\n",
    "        ind = np.where(tel.err.values > 0)[0]\n",
    "        if len(ind) == 0:\n",
    "            return pd.DataFrame()\n",
    "\n",
    "        db = DBSCAN(eps=0.02, min_samples=5).fit(tel[['lon_pred', 'lat_pred']].values[ind])\n",
    "        ind2 = ind[np.where(db.labels_!=-1)[0]]\n",
    "        \n",
    "        del db\n",
    "        \n",
    "        if len(ind2) == 0:\n",
    "            return pd.DataFrame()\n",
    "        \n",
    "        # Filter by graph model\n",
    "        res = filter_speedlimit(tel.lat_pred.values[ind2],\n",
    "                          tel.lon_pred.values[ind2],\n",
    "                          tel.timeAtServer.values[ind2],\n",
    "                          0, 300, verbose)\n",
    "        ind3 = ind2[np.where(res == True)[0]]\n",
    "        \n",
    "        del ind, ind2, res\n",
    "        \n",
    "        if len(ind3) == 0:\n",
    "            return pd.DataFrame()\n",
    "        \n",
    "        part = tel.iloc[ind3]\n",
    "    \n",
    "        # Filter using Huber regression\n",
    "        #full = tel.copy()\n",
    "        tel['lat_pred2'] = np.zeros(N)\n",
    "        tel['lon_pred2'] = np.zeros(N)\n",
    "\n",
    "        \n",
    "        i = 0\n",
    "        while i < part.shape[0]:\n",
    "            try:  # sometimes HuberRegression doesn't converge\n",
    "                id_max = check_point(tel, part, part.timeAtServer.values[i], Teps=30, Nmin=10, ds_max=35)\n",
    "            except:\n",
    "                # return unsuccess\n",
    "                id_max = -1\n",
    "\n",
    "            if id_max == -1:\n",
    "                # unsuccess -> move to the next base point in track\n",
    "                i += 1\n",
    "            else:\n",
    "                # success -> move to the next base point outside the neighborhood\n",
    "                i = np.where(part.id.values == id_max)[0][0] + 1\n",
    "                \n",
    "        del part\n",
    "\n",
    "        # Result after Huber filter\n",
    "        indx = np.where(tel.lat_pred2.values != 0)[0]\n",
    "        #print(len(indx))\n",
    "        if len(indx) == 0:\n",
    "            return pd.DataFrame()\n",
    "        \n",
    "        x = full.iloc[indx]\n",
    "        \n",
    "        #del full, tel, indx\n",
    "        #del indx\n",
    "        # Filter graph again\n",
    "        res1 = filter_speedlimit(x.lat_pred2.values,\n",
    "                                 x.lon_pred2.values,\n",
    "                                 x.timeAtServer.values,\n",
    "                                 0, 300, verbose)\n",
    "        \n",
    "        j = np.where(res1==True)[0]\n",
    "        #j = np.arange(x.shape[0])\n",
    "        if len(j) == 0:\n",
    "            return pd.DataFrame()\n",
    "        \n",
    "        x = x.iloc[j]\n",
    "        x[['id', 'lat_pred2', 'lon_pred2', 'lat_pred', 'lon_pred']].to_csv(filename, mode='a', header=False, index=False)\n",
    "        del full, tel, indx, x\n",
    "        return\n",
    "        \n",
    "        tel['spl_lat'] = [np.nan]*N\n",
    "        tel['spl_lon'] = [np.nan]*N\n",
    "\n",
    "        # error between raw predictions and smoothed\n",
    "        tel = tel.assign(err_pred = lambda x: [haversine_distance(lat1, lon1, lat2, lon2) for lat1, lon1, lat2, lon2 in zip(x.lat_pred,\n",
    "                                                                                                                      x.lon_pred,\n",
    "                                                                                                                      x.lat_pred2,\n",
    "                                                                                                                      x.lon_pred2)])\n",
    "\n",
    "        # points where pred_error < 50m\n",
    "        ind_50 = np.where(~np.isnan(tel.lon_pred2.values) & (tel.err_pred < 50))[0]\n",
    "        # points with predictions\n",
    "        ind2 = np.where(~np.isnan(tel.lon_pred2.values))[0]\n",
    "\n",
    "        # fit splines\n",
    "        spl_lon = splrep(tel.timeAtServer.values[ind_50],\n",
    "                         tel.lon_pred2.values[ind_50],\n",
    "                         s=1e-5, k=5)\n",
    "\n",
    "        spl_lat = splrep(tel.timeAtServer.values[ind_50],\n",
    "                         tel.lat_pred2.values[ind_50],\n",
    "                         s=1e-5, k=5)\n",
    "\n",
    "        if any(np.isnan(spl_lon[1])) or any(np.isnan(spl_lat[1])):\n",
    "            tel.loc[ind2, ['id', 'lat_pred2', 'lon_pred2', 'lat_pred', 'lon_pred', 'spl_lat', 'spl_lon']].to_csv(filename, mode='a', header=False, index=False)\n",
    "            return\n",
    "\n",
    "        # gaps in predictions\n",
    "        chunks = []\n",
    "        lb = ind2[0]\n",
    "        if len(np.where(np.diff(tel.timeAtServer.values[ind2]) > 15)[0]) > 0:\n",
    "            ind_gaps = (ind2[np.concatenate([np.array([i, i+1]) for i in np.where(np.diff(tel.timeAtServer.values[ind2]) > 15)[0]])]).tolist()\n",
    "\n",
    "            for i in range(0, len(ind_gaps), 2):\n",
    "                #print(ind_gaps[i], ind_gaps[i+1])\n",
    "                k1 = 180/np.pi*np.arctan2(splev(tel.timeAtServer.values[ind_gaps[i]], spl_lat, der=1), splev(tel.timeAtServer.values[ind_gaps[i]], spl_lon, der=1))\n",
    "                k2 = 180/np.pi*np.arctan2(splev(tel.timeAtServer.values[ind_gaps[i+1]], spl_lat, der=1), splev(tel.timeAtServer.values[ind_gaps[i+1]], spl_lon, der=1))\n",
    "                #print(k1, k2)\n",
    "\n",
    "                if abs(k1-k2) >= 5:\n",
    "                    chunks += [[lb, ind_gaps[i]]]\n",
    "                    lb = ind_gaps[i+1]\n",
    "\n",
    "        chunks += [[lb, ind2[-1]]]\n",
    "        #print(chunks)\n",
    "\n",
    "        lat, lon = [np.nan]*N, [np.nan]*N\n",
    "        for chunk in chunks:\n",
    "            ind_50_jj = ind_50[np.where((ind_50>=chunk[0])&(ind_50<=chunk[1]+1))[0]]\n",
    "            try:\n",
    "                spl_lon = splrep(tel.timeAtServer.values[ind_50_jj],\n",
    "                                 tel.lon_pred2.values[ind_50_jj],\n",
    "                                 s=1e-5, k=5)\n",
    "\n",
    "                spl_lat = splrep(tel.timeAtServer.values[ind_50_jj],\n",
    "                                 tel.lat_pred2.values[ind_50_jj],\n",
    "                                 s=1e-5, k=5)\n",
    "            except:\n",
    "                #print(chunk)\n",
    "                continue\n",
    "\n",
    "            lat[chunk[0]:chunk[1]+1] = splev(tel.timeAtServer.values[chunk[0]:chunk[1]+1], spl_lat)\n",
    "            lon[chunk[0]:chunk[1]+1] = splev(tel.timeAtServer.values[chunk[0]:chunk[1]+1], spl_lon)\n",
    "\n",
    "        tel['spl_lat'] = lat\n",
    "        tel['spl_lon'] = lon\n",
    "\n",
    "        ind_final = np.where(~np.isnan(tel.spl_lat.values) | ~np.isnan(tel.lat_pred2.values))[0]\n",
    "        tel.loc[ind_final, ['id', 'lat_pred2', 'lon_pred2', 'lat_pred', 'lon_pred', 'spl_lat', 'spl_lon']].to_csv(filename, mode='a', header=False, index=False)\n",
    "        \n",
    "        del tel, lat, lon, spl_lat, spl_lon, chunks, ind2, ind_50, ind_final\n",
    "        gc.collect()\n",
    "        \n",
    "        "
   ]
  },
  {
   "cell_type": "code",
   "execution_count": 8,
   "metadata": {
    "scrolled": true
   },
   "outputs": [
    {
     "data": {
      "text/plain": [
       "array([1142, 1866, 1962, ..., 2048,  666,  657])"
      ]
     },
     "execution_count": 8,
     "metadata": {},
     "output_type": "execute_result"
    }
   ],
   "source": [
    "np.random.permutation(np.arange(len(tracks)))"
   ]
  },
  {
   "cell_type": "code",
   "execution_count": 570,
   "metadata": {},
   "outputs": [
    {
     "name": "stderr",
     "output_type": "stream",
     "text": [
      "  0%|          | 0/300 [00:16<?, ?it/s]\n"
     ]
    },
    {
     "ename": "UnboundLocalError",
     "evalue": "local variable 'full' referenced before assignment",
     "output_type": "error",
     "traceback": [
      "\u001b[0;31m---------------------------------------------------------------------------\u001b[0m",
      "\u001b[0;31mUnboundLocalError\u001b[0m                         Traceback (most recent call last)",
      "\u001b[0;32m<ipython-input-570-6206566adf93>\u001b[0m in \u001b[0;36m<module>\u001b[0;34m\u001b[0m\n\u001b[1;32m      1\u001b[0m \u001b[0;32mfor\u001b[0m \u001b[0mi\u001b[0m \u001b[0;32min\u001b[0m \u001b[0mtqdm\u001b[0m\u001b[0;34m(\u001b[0m\u001b[0mnp\u001b[0m\u001b[0;34m.\u001b[0m\u001b[0marange\u001b[0m\u001b[0;34m(\u001b[0m\u001b[0;36m300\u001b[0m\u001b[0;34m)\u001b[0m\u001b[0;34m)\u001b[0m\u001b[0;34m:\u001b[0m\u001b[0;34m\u001b[0m\u001b[0;34m\u001b[0m\u001b[0m\n\u001b[0;32m----> 2\u001b[0;31m     \u001b[0msolve\u001b[0m\u001b[0;34m(\u001b[0m\u001b[0mtest_tracks\u001b[0m\u001b[0;34m[\u001b[0m\u001b[0mi\u001b[0m\u001b[0;34m]\u001b[0m\u001b[0;34m,\u001b[0m \u001b[0;34m'predictions_saturday.csv'\u001b[0m\u001b[0;34m)\u001b[0m\u001b[0;34m\u001b[0m\u001b[0;34m\u001b[0m\u001b[0m\n\u001b[0m",
      "\u001b[0;32m<ipython-input-566-de79b8d938fb>\u001b[0m in \u001b[0;36msolve\u001b[0;34m(tr, filename, verbose)\u001b[0m\n\u001b[1;32m    128\u001b[0m             \u001b[0;32mreturn\u001b[0m \u001b[0mpd\u001b[0m\u001b[0;34m.\u001b[0m\u001b[0mDataFrame\u001b[0m\u001b[0;34m(\u001b[0m\u001b[0;34m)\u001b[0m\u001b[0;34m\u001b[0m\u001b[0;34m\u001b[0m\u001b[0m\n\u001b[1;32m    129\u001b[0m \u001b[0;34m\u001b[0m\u001b[0m\n\u001b[0;32m--> 130\u001b[0;31m         \u001b[0mx\u001b[0m \u001b[0;34m=\u001b[0m \u001b[0mfull\u001b[0m\u001b[0;34m.\u001b[0m\u001b[0miloc\u001b[0m\u001b[0;34m[\u001b[0m\u001b[0mindx\u001b[0m\u001b[0;34m]\u001b[0m\u001b[0;34m\u001b[0m\u001b[0;34m\u001b[0m\u001b[0m\n\u001b[0m\u001b[1;32m    131\u001b[0m \u001b[0;34m\u001b[0m\u001b[0m\n\u001b[1;32m    132\u001b[0m         \u001b[0;31m#del full, tel, indx\u001b[0m\u001b[0;34m\u001b[0m\u001b[0;34m\u001b[0m\u001b[0;34m\u001b[0m\u001b[0m\n",
      "\u001b[0;31mUnboundLocalError\u001b[0m: local variable 'full' referenced before assignment"
     ]
    }
   ],
   "source": [
    "for i in tqdm(np.arange(300)):\n",
    "    solve(test_tracks[i], 'predictions_saturday.csv')"
   ]
  },
  {
   "cell_type": "code",
   "execution_count": 12,
   "metadata": {
    "scrolled": true
   },
   "outputs": [
    {
     "name": "stderr",
     "output_type": "stream",
     "text": [
      " 30%|██▉       | 782/2629 [10:01:12<23:39:58, 46.13s/it] \n"
     ]
    },
    {
     "ename": "KeyboardInterrupt",
     "evalue": "",
     "output_type": "error",
     "traceback": [
      "\u001b[0;31m---------------------------------------------------------------------------\u001b[0m",
      "\u001b[0;31mKeyboardInterrupt\u001b[0m                         Traceback (most recent call last)",
      "\u001b[0;32m<ipython-input-12-f2a54c185f71>\u001b[0m in \u001b[0;36m<module>\u001b[0;34m\u001b[0m\n\u001b[1;32m      1\u001b[0m \u001b[0;32mfor\u001b[0m \u001b[0mi\u001b[0m \u001b[0;32min\u001b[0m \u001b[0mtqdm\u001b[0m\u001b[0;34m(\u001b[0m\u001b[0mnp\u001b[0m\u001b[0;34m.\u001b[0m\u001b[0mrandom\u001b[0m\u001b[0;34m.\u001b[0m\u001b[0mpermutation\u001b[0m\u001b[0;34m(\u001b[0m\u001b[0mnp\u001b[0m\u001b[0;34m.\u001b[0m\u001b[0marange\u001b[0m\u001b[0;34m(\u001b[0m\u001b[0mlen\u001b[0m\u001b[0;34m(\u001b[0m\u001b[0mtracks\u001b[0m\u001b[0;34m)\u001b[0m\u001b[0;34m)\u001b[0m\u001b[0;34m)\u001b[0m\u001b[0;34m)\u001b[0m\u001b[0;34m:\u001b[0m\u001b[0;34m\u001b[0m\u001b[0;34m\u001b[0m\u001b[0m\n\u001b[0;32m----> 2\u001b[0;31m     \u001b[0msolve\u001b[0m\u001b[0;34m(\u001b[0m\u001b[0mtracks\u001b[0m\u001b[0;34m[\u001b[0m\u001b[0mi\u001b[0m\u001b[0;34m]\u001b[0m\u001b[0;34m,\u001b[0m \u001b[0;34m'predictions_train_wednesday.csv'\u001b[0m\u001b[0;34m)\u001b[0m\u001b[0;34m\u001b[0m\u001b[0;34m\u001b[0m\u001b[0m\n\u001b[0m",
      "\u001b[0;32m<ipython-input-10-30dc23fa81ec>\u001b[0m in \u001b[0;36msolve\u001b[0;34m(tr, filename, verbose)\u001b[0m\n\u001b[1;32m     86\u001b[0m \u001b[0;34m\u001b[0m\u001b[0m\n\u001b[1;32m     87\u001b[0m         \u001b[0;31m# Filter by graph model\u001b[0m\u001b[0;34m\u001b[0m\u001b[0;34m\u001b[0m\u001b[0;34m\u001b[0m\u001b[0m\n\u001b[0;32m---> 88\u001b[0;31m         res = filter_speedlimit(tel.lat_pred.values[ind2],\n\u001b[0m\u001b[1;32m     89\u001b[0m                           \u001b[0mtel\u001b[0m\u001b[0;34m.\u001b[0m\u001b[0mlon_pred\u001b[0m\u001b[0;34m.\u001b[0m\u001b[0mvalues\u001b[0m\u001b[0;34m[\u001b[0m\u001b[0mind2\u001b[0m\u001b[0;34m]\u001b[0m\u001b[0;34m,\u001b[0m\u001b[0;34m\u001b[0m\u001b[0;34m\u001b[0m\u001b[0m\n\u001b[1;32m     90\u001b[0m                           \u001b[0mtel\u001b[0m\u001b[0;34m.\u001b[0m\u001b[0mtimeAtServer\u001b[0m\u001b[0;34m.\u001b[0m\u001b[0mvalues\u001b[0m\u001b[0;34m[\u001b[0m\u001b[0mind2\u001b[0m\u001b[0;34m]\u001b[0m\u001b[0;34m,\u001b[0m\u001b[0;34m\u001b[0m\u001b[0;34m\u001b[0m\u001b[0m\n",
      "\u001b[0;32m~/Documents/Projects/Aircraft round 2/src/filters.py\u001b[0m in \u001b[0;36mfilter_speedlimit\u001b[0;34m(lat, lon, t, speedmin, speedmax, verbose)\u001b[0m\n\u001b[1;32m     79\u001b[0m         \u001b[0mprint\u001b[0m\u001b[0;34m(\u001b[0m\u001b[0;34m\"initial number of points\"\u001b[0m\u001b[0;34m,\u001b[0m\u001b[0mdd\u001b[0m\u001b[0;34m.\u001b[0m\u001b[0mshape\u001b[0m\u001b[0;34m[\u001b[0m\u001b[0;36m0\u001b[0m\u001b[0;34m]\u001b[0m\u001b[0;34m)\u001b[0m\u001b[0;34m\u001b[0m\u001b[0;34m\u001b[0m\u001b[0m\n\u001b[1;32m     80\u001b[0m \u001b[0;34m\u001b[0m\u001b[0m\n\u001b[0;32m---> 81\u001b[0;31m     \u001b[0mlongest_path\u001b[0m \u001b[0;34m=\u001b[0m \u001b[0mget_gtlongest\u001b[0m\u001b[0;34m(\u001b[0m\u001b[0mdd\u001b[0m\u001b[0;34m)\u001b[0m\u001b[0;34m\u001b[0m\u001b[0;34m\u001b[0m\u001b[0m\n\u001b[0m\u001b[1;32m     82\u001b[0m     \u001b[0mres\u001b[0m\u001b[0;34m=\u001b[0m\u001b[0mnp\u001b[0m\u001b[0;34m.\u001b[0m\u001b[0marray\u001b[0m\u001b[0;34m(\u001b[0m\u001b[0;34m[\u001b[0m\u001b[0mi\u001b[0m \u001b[0;32min\u001b[0m \u001b[0mlongest_path\u001b[0m \u001b[0;32mfor\u001b[0m \u001b[0mi\u001b[0m \u001b[0;32min\u001b[0m \u001b[0mrange\u001b[0m\u001b[0;34m(\u001b[0m\u001b[0mdd\u001b[0m\u001b[0;34m.\u001b[0m\u001b[0mshape\u001b[0m\u001b[0;34m[\u001b[0m\u001b[0;34m-\u001b[0m\u001b[0;36m1\u001b[0m\u001b[0;34m]\u001b[0m\u001b[0;34m)\u001b[0m\u001b[0;34m]\u001b[0m\u001b[0;34m)\u001b[0m\u001b[0;34m\u001b[0m\u001b[0;34m\u001b[0m\u001b[0m\n\u001b[1;32m     83\u001b[0m \u001b[0;34m\u001b[0m\u001b[0m\n",
      "\u001b[0;32m~/Documents/Projects/Aircraft round 2/src/filters.py\u001b[0m in \u001b[0;36mget_gtlongest\u001b[0;34m(dd)\u001b[0m\n\u001b[1;32m     35\u001b[0m     \u001b[0;34m'''compute the longest path of points complying with the speed limits'''\u001b[0m\u001b[0;34m\u001b[0m\u001b[0;34m\u001b[0m\u001b[0m\n\u001b[1;32m     36\u001b[0m     \u001b[0mv\u001b[0m\u001b[0;34m,\u001b[0m\u001b[0mg\u001b[0m\u001b[0;34m,\u001b[0m\u001b[0mprop_dist\u001b[0m \u001b[0;34m=\u001b[0m \u001b[0mcompute_gtgraph\u001b[0m\u001b[0;34m(\u001b[0m\u001b[0mdd\u001b[0m\u001b[0;34m)\u001b[0m\u001b[0;34m\u001b[0m\u001b[0;34m\u001b[0m\u001b[0m\n\u001b[0;32m---> 37\u001b[0;31m     c = gt.topology.shortest_distance(g,source=None,\n\u001b[0m\u001b[1;32m     38\u001b[0m                                       \u001b[0mtarget\u001b[0m\u001b[0;34m=\u001b[0m\u001b[0;32mNone\u001b[0m\u001b[0;34m,\u001b[0m\u001b[0;34m\u001b[0m\u001b[0;34m\u001b[0m\u001b[0m\n\u001b[1;32m     39\u001b[0m                                       \u001b[0mweights\u001b[0m\u001b[0;34m=\u001b[0m\u001b[0mprop_dist\u001b[0m\u001b[0;34m,\u001b[0m\u001b[0;34m\u001b[0m\u001b[0;34m\u001b[0m\u001b[0m\n",
      "\u001b[0;32m~/Programms/anaconda3/envs/gt/lib/python3.9/site-packages/graph_tool/topology/__init__.py\u001b[0m in \u001b[0;36mshortest_distance\u001b[0;34m(g, source, target, weights, negative_weights, max_dist, directed, dense, dist_map, pred_map, return_reached, dag)\u001b[0m\n\u001b[1;32m   2002\u001b[0m                                          negative_weights, reached, dag)\n\u001b[1;32m   2003\u001b[0m     \u001b[0;32melse\u001b[0m\u001b[0;34m:\u001b[0m\u001b[0;34m\u001b[0m\u001b[0;34m\u001b[0m\u001b[0m\n\u001b[0;32m-> 2004\u001b[0;31m         libgraph_tool_topology.get_all_dists(u._Graph__graph,\n\u001b[0m\u001b[1;32m   2005\u001b[0m                                              \u001b[0m_prop\u001b[0m\u001b[0;34m(\u001b[0m\u001b[0;34m\"v\"\u001b[0m\u001b[0;34m,\u001b[0m \u001b[0mu\u001b[0m\u001b[0;34m,\u001b[0m \u001b[0mdist_map\u001b[0m\u001b[0;34m)\u001b[0m\u001b[0;34m,\u001b[0m\u001b[0;34m\u001b[0m\u001b[0;34m\u001b[0m\u001b[0m\n\u001b[1;32m   2006\u001b[0m                                              _prop(\"e\", u, weights), dense)\n",
      "\u001b[0;31mKeyboardInterrupt\u001b[0m: "
     ]
    }
   ],
   "source": [
    "for i in tqdm(np.random.permutation(np.arange(len(tracks)))):\n",
    "    solve(tracks[i], 'predictions_train_wednesday.csv')"
   ]
  },
  {
   "cell_type": "code",
   "execution_count": null,
   "metadata": {
    "scrolled": true
   },
   "outputs": [],
   "source": []
  },
  {
   "cell_type": "code",
   "execution_count": 16,
   "metadata": {},
   "outputs": [
    {
     "name": "stdout",
     "output_type": "stream",
     "text": [
      "0.7161717214487496\n",
      "0.39933989749293763\n",
      "0.7912919555339278\n"
     ]
    }
   ],
   "source": [
    "pred = pd.read_csv('predictions_wednesday.csv', names=['id', 'lat_pred2', 'lon_pred2', 'lat_pred', 'lon_pred', 'spl_lat', 'spl_lon'])\n",
    "ind2 = np.where((~np.isnan(pred.lat_pred2.values) & (pred.lat_pred2!=0)))[0]\n",
    "ind_spl = np.where((~np.isnan(pred.spl_lat.values) & (pred.spl_lat!=0)))[0]\n",
    "\n",
    "print(len(ind2) / df[df.test==1].shape[0])\n",
    "print(len(ind_spl) / df[df.test==1].shape[0])\n",
    "print(len(set(ind2).union(ind_spl)) / df[df.test==1].shape[0])"
   ]
  },
  {
   "cell_type": "code",
   "execution_count": 39,
   "metadata": {},
   "outputs": [
    {
     "data": {
      "text/html": [
       "<div>\n",
       "<style scoped>\n",
       "    .dataframe tbody tr th:only-of-type {\n",
       "        vertical-align: middle;\n",
       "    }\n",
       "\n",
       "    .dataframe tbody tr th {\n",
       "        vertical-align: top;\n",
       "    }\n",
       "\n",
       "    .dataframe thead th {\n",
       "        text-align: right;\n",
       "    }\n",
       "</style>\n",
       "<table border=\"1\" class=\"dataframe\">\n",
       "  <thead>\n",
       "    <tr style=\"text-align: right;\">\n",
       "      <th></th>\n",
       "      <th>id</th>\n",
       "      <th>timeAtServer</th>\n",
       "      <th>aircraft</th>\n",
       "      <th>latitude</th>\n",
       "      <th>longitude</th>\n",
       "      <th>baroAltitude</th>\n",
       "      <th>geoAltitude</th>\n",
       "      <th>numMeasurements</th>\n",
       "      <th>measurements</th>\n",
       "      <th>test</th>\n",
       "      <th>lat_pred2</th>\n",
       "      <th>lon_pred2</th>\n",
       "      <th>lat_pred</th>\n",
       "      <th>lon_pred</th>\n",
       "      <th>spl_lat</th>\n",
       "      <th>spl_lon</th>\n",
       "    </tr>\n",
       "  </thead>\n",
       "  <tbody>\n",
       "    <tr>\n",
       "      <th>0</th>\n",
       "      <td>2</td>\n",
       "      <td>0.000</td>\n",
       "      <td>2671</td>\n",
       "      <td>42.287201</td>\n",
       "      <td>1.798137</td>\n",
       "      <td>9144.00</td>\n",
       "      <td>8915.40</td>\n",
       "      <td>4</td>\n",
       "      <td>[[150,968341093,82],[552,29137895750,62],[434,...</td>\n",
       "      <td>0</td>\n",
       "      <td>42.287532</td>\n",
       "      <td>1.798201</td>\n",
       "      <td>42.287565</td>\n",
       "      <td>1.798336</td>\n",
       "      <td>42.287409</td>\n",
       "      <td>1.798195</td>\n",
       "    </tr>\n",
       "    <tr>\n",
       "      <th>1</th>\n",
       "      <td>9</td>\n",
       "      <td>0.002</td>\n",
       "      <td>1521</td>\n",
       "      <td>47.742532</td>\n",
       "      <td>11.369793</td>\n",
       "      <td>4678.68</td>\n",
       "      <td>4686.30</td>\n",
       "      <td>4</td>\n",
       "      <td>[[607,26027857583.3333,62],[701,45961966500,27...</td>\n",
       "      <td>0</td>\n",
       "      <td>0.000000</td>\n",
       "      <td>0.000000</td>\n",
       "      <td>47.859929</td>\n",
       "      <td>11.408405</td>\n",
       "      <td>NaN</td>\n",
       "      <td>NaN</td>\n",
       "    </tr>\n",
       "    <tr>\n",
       "      <th>2</th>\n",
       "      <td>15</td>\n",
       "      <td>0.003</td>\n",
       "      <td>129</td>\n",
       "      <td>49.809358</td>\n",
       "      <td>7.179269</td>\n",
       "      <td>10660.38</td>\n",
       "      <td>10515.60</td>\n",
       "      <td>8</td>\n",
       "      <td>[[460,956010937,25],[134,956373875,79],[414,95...</td>\n",
       "      <td>0</td>\n",
       "      <td>49.809185</td>\n",
       "      <td>7.179357</td>\n",
       "      <td>49.809156</td>\n",
       "      <td>7.179144</td>\n",
       "      <td>49.809185</td>\n",
       "      <td>7.179302</td>\n",
       "    </tr>\n",
       "    <tr>\n",
       "      <th>3</th>\n",
       "      <td>21</td>\n",
       "      <td>0.003</td>\n",
       "      <td>2115</td>\n",
       "      <td>42.843002</td>\n",
       "      <td>1.833344</td>\n",
       "      <td>10698.48</td>\n",
       "      <td>10454.64</td>\n",
       "      <td>4</td>\n",
       "      <td>[[628,26817297583.3333,57],[434,3207438750,179...</td>\n",
       "      <td>0</td>\n",
       "      <td>42.844116</td>\n",
       "      <td>1.832308</td>\n",
       "      <td>42.844269</td>\n",
       "      <td>1.832530</td>\n",
       "      <td>NaN</td>\n",
       "      <td>NaN</td>\n",
       "    </tr>\n",
       "    <tr>\n",
       "      <th>4</th>\n",
       "      <td>22</td>\n",
       "      <td>0.004</td>\n",
       "      <td>1528</td>\n",
       "      <td>50.532827</td>\n",
       "      <td>6.719773</td>\n",
       "      <td>10980.42</td>\n",
       "      <td>10812.78</td>\n",
       "      <td>5</td>\n",
       "      <td>[[460,942675592,12],[134,942551203,56],[558,77...</td>\n",
       "      <td>0</td>\n",
       "      <td>50.533405</td>\n",
       "      <td>6.717520</td>\n",
       "      <td>50.533371</td>\n",
       "      <td>6.717609</td>\n",
       "      <td>50.533407</td>\n",
       "      <td>6.717516</td>\n",
       "    </tr>\n",
       "    <tr>\n",
       "      <th>...</th>\n",
       "      <td>...</td>\n",
       "      <td>...</td>\n",
       "      <td>...</td>\n",
       "      <td>...</td>\n",
       "      <td>...</td>\n",
       "      <td>...</td>\n",
       "      <td>...</td>\n",
       "      <td>...</td>\n",
       "      <td>...</td>\n",
       "      <td>...</td>\n",
       "      <td>...</td>\n",
       "      <td>...</td>\n",
       "      <td>...</td>\n",
       "      <td>...</td>\n",
       "      <td>...</td>\n",
       "      <td>...</td>\n",
       "    </tr>\n",
       "    <tr>\n",
       "      <th>1663627</th>\n",
       "      <td>6457534</td>\n",
       "      <td>3599.971</td>\n",
       "      <td>1977</td>\n",
       "      <td>48.756821</td>\n",
       "      <td>12.068693</td>\n",
       "      <td>3474.72</td>\n",
       "      <td>3474.72</td>\n",
       "      <td>2</td>\n",
       "      <td>[[297,3665171015583.33,55],[590,3647515040333....</td>\n",
       "      <td>0</td>\n",
       "      <td>0.000000</td>\n",
       "      <td>0.000000</td>\n",
       "      <td>0.000000</td>\n",
       "      <td>0.000000</td>\n",
       "      <td>NaN</td>\n",
       "      <td>NaN</td>\n",
       "    </tr>\n",
       "    <tr>\n",
       "      <th>1663628</th>\n",
       "      <td>6457535</td>\n",
       "      <td>3599.976</td>\n",
       "      <td>1266</td>\n",
       "      <td>45.119431</td>\n",
       "      <td>5.622123</td>\n",
       "      <td>9890.76</td>\n",
       "      <td>9677.40</td>\n",
       "      <td>2</td>\n",
       "      <td>[[665,3622676866666.67,84],[669,3604394589416....</td>\n",
       "      <td>0</td>\n",
       "      <td>0.000000</td>\n",
       "      <td>0.000000</td>\n",
       "      <td>0.000000</td>\n",
       "      <td>0.000000</td>\n",
       "      <td>NaN</td>\n",
       "      <td>NaN</td>\n",
       "    </tr>\n",
       "    <tr>\n",
       "      <th>1663629</th>\n",
       "      <td>6457536</td>\n",
       "      <td>3599.977</td>\n",
       "      <td>61</td>\n",
       "      <td>53.542801</td>\n",
       "      <td>7.746573</td>\n",
       "      <td>11605.26</td>\n",
       "      <td>11437.62</td>\n",
       "      <td>3</td>\n",
       "      <td>[[247,3600943109578,61],[218,3681985505083.33,...</td>\n",
       "      <td>0</td>\n",
       "      <td>0.000000</td>\n",
       "      <td>0.000000</td>\n",
       "      <td>53.540683</td>\n",
       "      <td>7.744761</td>\n",
       "      <td>53.543210</td>\n",
       "      <td>7.744792</td>\n",
       "    </tr>\n",
       "    <tr>\n",
       "      <th>1663630</th>\n",
       "      <td>6457537</td>\n",
       "      <td>3599.977</td>\n",
       "      <td>1372</td>\n",
       "      <td>51.273473</td>\n",
       "      <td>7.218399</td>\n",
       "      <td>12192.00</td>\n",
       "      <td>12016.74</td>\n",
       "      <td>2</td>\n",
       "      <td>[[247,3600948436515,111],[625,3598014083333.33...</td>\n",
       "      <td>0</td>\n",
       "      <td>0.000000</td>\n",
       "      <td>0.000000</td>\n",
       "      <td>0.000000</td>\n",
       "      <td>0.000000</td>\n",
       "      <td>0.000024</td>\n",
       "      <td>0.000001</td>\n",
       "    </tr>\n",
       "    <tr>\n",
       "      <th>1663631</th>\n",
       "      <td>6457539</td>\n",
       "      <td>3599.982</td>\n",
       "      <td>1042</td>\n",
       "      <td>54.734259</td>\n",
       "      <td>-5.017756</td>\n",
       "      <td>10972.80</td>\n",
       "      <td>10866.12</td>\n",
       "      <td>3</td>\n",
       "      <td>[[595,3613983374666.67,131],[457,3610898214166...</td>\n",
       "      <td>0</td>\n",
       "      <td>0.000000</td>\n",
       "      <td>0.000000</td>\n",
       "      <td>54.923838</td>\n",
       "      <td>-3.238408</td>\n",
       "      <td>-0.002114</td>\n",
       "      <td>-0.005786</td>\n",
       "    </tr>\n",
       "  </tbody>\n",
       "</table>\n",
       "<p>1663632 rows × 16 columns</p>\n",
       "</div>"
      ],
      "text/plain": [
       "              id  timeAtServer  aircraft   latitude  longitude  baroAltitude  \\\n",
       "0              2         0.000      2671  42.287201   1.798137       9144.00   \n",
       "1              9         0.002      1521  47.742532  11.369793       4678.68   \n",
       "2             15         0.003       129  49.809358   7.179269      10660.38   \n",
       "3             21         0.003      2115  42.843002   1.833344      10698.48   \n",
       "4             22         0.004      1528  50.532827   6.719773      10980.42   \n",
       "...          ...           ...       ...        ...        ...           ...   \n",
       "1663627  6457534      3599.971      1977  48.756821  12.068693       3474.72   \n",
       "1663628  6457535      3599.976      1266  45.119431   5.622123       9890.76   \n",
       "1663629  6457536      3599.977        61  53.542801   7.746573      11605.26   \n",
       "1663630  6457537      3599.977      1372  51.273473   7.218399      12192.00   \n",
       "1663631  6457539      3599.982      1042  54.734259  -5.017756      10972.80   \n",
       "\n",
       "         geoAltitude  numMeasurements  \\\n",
       "0            8915.40                4   \n",
       "1            4686.30                4   \n",
       "2           10515.60                8   \n",
       "3           10454.64                4   \n",
       "4           10812.78                5   \n",
       "...              ...              ...   \n",
       "1663627      3474.72                2   \n",
       "1663628      9677.40                2   \n",
       "1663629     11437.62                3   \n",
       "1663630     12016.74                2   \n",
       "1663631     10866.12                3   \n",
       "\n",
       "                                              measurements  test  lat_pred2  \\\n",
       "0        [[150,968341093,82],[552,29137895750,62],[434,...     0  42.287532   \n",
       "1        [[607,26027857583.3333,62],[701,45961966500,27...     0   0.000000   \n",
       "2        [[460,956010937,25],[134,956373875,79],[414,95...     0  49.809185   \n",
       "3        [[628,26817297583.3333,57],[434,3207438750,179...     0  42.844116   \n",
       "4        [[460,942675592,12],[134,942551203,56],[558,77...     0  50.533405   \n",
       "...                                                    ...   ...        ...   \n",
       "1663627  [[297,3665171015583.33,55],[590,3647515040333....     0   0.000000   \n",
       "1663628  [[665,3622676866666.67,84],[669,3604394589416....     0   0.000000   \n",
       "1663629  [[247,3600943109578,61],[218,3681985505083.33,...     0   0.000000   \n",
       "1663630  [[247,3600948436515,111],[625,3598014083333.33...     0   0.000000   \n",
       "1663631  [[595,3613983374666.67,131],[457,3610898214166...     0   0.000000   \n",
       "\n",
       "         lon_pred2   lat_pred   lon_pred    spl_lat   spl_lon  \n",
       "0         1.798201  42.287565   1.798336  42.287409  1.798195  \n",
       "1         0.000000  47.859929  11.408405        NaN       NaN  \n",
       "2         7.179357  49.809156   7.179144  49.809185  7.179302  \n",
       "3         1.832308  42.844269   1.832530        NaN       NaN  \n",
       "4         6.717520  50.533371   6.717609  50.533407  6.717516  \n",
       "...            ...        ...        ...        ...       ...  \n",
       "1663627   0.000000   0.000000   0.000000        NaN       NaN  \n",
       "1663628   0.000000   0.000000   0.000000        NaN       NaN  \n",
       "1663629   0.000000  53.540683   7.744761  53.543210  7.744792  \n",
       "1663630   0.000000   0.000000   0.000000   0.000024  0.000001  \n",
       "1663631   0.000000  54.923838  -3.238408  -0.002114 -0.005786  \n",
       "\n",
       "[1663632 rows x 16 columns]"
      ]
     },
     "execution_count": 39,
     "metadata": {},
     "output_type": "execute_result"
    }
   ],
   "source": [
    "res"
   ]
  },
  {
   "cell_type": "code",
   "execution_count": 42,
   "metadata": {},
   "outputs": [
    {
     "name": "stdout",
     "output_type": "stream",
     "text": [
      "My algo: 1325359 points\n",
      "Error: 50.85211879229037\n",
      "Spline only: 730912 points\n",
      "Error: 578766.2339662893\n",
      "Algo + spline: 1456681 points\n",
      "Error: 374.7052611492157\n"
     ]
    }
   ],
   "source": [
    "#pred = pd.read_csv('predictions_train_wednesday.csv', names=['id', 'lat_pred2', 'lon_pred2', 'lat_pred', 'lon_pred', 'spl_lat', 'spl_lon'])\n",
    "\n",
    "ind2 = np.where((~np.isnan(res.lat_pred2.values) & (res.lat_pred2!=0)))[0]\n",
    "\n",
    "err2 = [haversine_distance(lat1, lon1, lat2, lon2) for lat1, lon1, lat2, lon2 in zip(res.latitude.values[ind2],\n",
    "                                                                                    res.longitude.values[ind2],\n",
    "                                                                                    res.lat_pred2.values[ind2],\n",
    "                                                                                    res.lon_pred2.values[ind2])]\n",
    "print(f'My algo: {len(ind2)} points')\n",
    "print(f'Error: {np.mean(np.sort(err2)[:int(0.9*len(err2))])}')\n",
    "\n",
    "ind_spl = np.where((~np.isnan(res.spl_lat.values) & (res.spl_lat!=0)))[0]\n",
    "err_spl = [haversine_distance(lat1, lon1, lat2, lon2) for lat1, lon1, lat2, lon2 in zip(res.latitude.values[ind_spl],\n",
    "                                                                                    res.longitude.values[ind_spl],\n",
    "                                                                                    res.spl_lat.values[ind_spl],\n",
    "                                                                                    res.spl_lon.values[ind_spl])]\n",
    "print(f'Spline only: {len(ind_spl)} points')\n",
    "print(f'Error: {np.mean(np.sort(err_spl)[:int(0.9*len(err_spl))])}')\n",
    "\n",
    "ind_diff = np.array(list(set(ind_spl).difference(ind2)))\n",
    "\n",
    "err_diff = [haversine_distance(lat1, lon1, lat2, lon2) for lat1, lon1, lat2, lon2 in zip(res.latitude.values[ind_diff],\n",
    "                                                                                    res.longitude.values[ind_diff],\n",
    "                                                                                    res.spl_lat.values[ind_diff],\n",
    "                                                                                    res.spl_lon.values[ind_diff])]\n",
    "\n",
    "err = np.r_[np.array(err2), np.array(err_diff)]\n",
    "print(f'Algo + spline: {len(ind2) + len(ind_diff)} points')\n",
    "print('Error:', np.mean(np.sort(err)[:int(0.9*len(err))]))\n",
    "\n",
    "\n",
    "#pred = pred.iloc[ind]\n",
    "#print(pred.shape[0])\n",
    "#pred.head(10)"
   ]
  },
  {
   "cell_type": "code",
   "execution_count": 54,
   "metadata": {},
   "outputs": [
    {
     "data": {
      "text/plain": [
       "array([1058,  605, 1852,   51,  269,  769,  446,  739,  728, 1512, 1380,\n",
       "        519, 1639, 1971, 2881, 1293, 2502, 2055, 2878, 1506, 1982, 1878,\n",
       "       1421, 2562,  157,  219, 1781, 2279, 1290, 1203, 1185, 1836,  751,\n",
       "        600, 2593, 1654, 2890, 1817,  204, 2922,  400, 1264,  880,  514,\n",
       "       1996, 1689,  964,  869, 1875, 2191, 1775,  844, 1897, 1740,   10,\n",
       "       1372,  760, 1837, 1327, 2747,  209, 2246, 2667, 1341, 2344, 1691,\n",
       "       1376,   50, 1902, 1642,  369,  931, 1231, 2636,    8, 2911,  622,\n",
       "        125, 1084, 2071, 2475, 1586, 1364, 2896, 1847, 2704,  949, 1816,\n",
       "        849, 2917, 1391,  401, 1575, 1731,  664, 1282,  431, 2516, 1532,\n",
       "       1042,  128,  946,  806,   23, 2430, 2299,  174, 2723, 2450, 2296,\n",
       "       1528,  551, 2244, 1877, 1110, 1674, 2074,  116, 1861, 1396, 1693,\n",
       "        523, 1822,  598,  841, 2705,  119, 2498,   69, 1504, 2671, 1682,\n",
       "        262, 2602, 2089, 1245, 2649, 2871,  143, 1366, 2530, 2885,   61,\n",
       "        487, 1104,  140,  239,    6,  970, 1139, 2185, 1909, 1966, 1312,\n",
       "       1748,  783, 2804, 1064, 1803,  688, 1656, 2045, 1270, 1095,  426,\n",
       "       1132,  537, 2410,  992,  647, 2235, 2093,  271,  721, 1116, 1109,\n",
       "       2202,  169, 2038, 1708, 1182, 2314, 2036, 1071,   79, 1121, 2229,\n",
       "       2462,  285,  740, 1600,  109, 1989, 2617, 1614,  129, 1223, 1426,\n",
       "        928,  366,   31,  911, 2789, 2192, 1645,  671, 2484, 2497, 2586,\n",
       "       2398, 2782, 2341, 1249, 1761, 1037, 2251,  245,  403,  303, 1609,\n",
       "       2712,  752, 1135,  638,  842,  405,  343,  896, 1304, 1178, 1383,\n",
       "          2, 1346,  944, 1752,  323, 2131, 1239, 2655, 2031, 1632,  742,\n",
       "       1537, 1473, 2916, 2806, 2535, 1465,  776, 1050,  540, 2409, 1903,\n",
       "       1255, 2217, 1959, 2895, 1520, 2735, 2419,  471,  193])"
      ]
     },
     "execution_count": 54,
     "metadata": {},
     "output_type": "execute_result"
    }
   ],
   "source": [
    "res.iloc[ind_diff].aircraft.unique()\n",
    "#_ = plt.hist([y for y in err_diff if y < 1e10], bins=100)"
   ]
  },
  {
   "cell_type": "code",
   "execution_count": 55,
   "metadata": {},
   "outputs": [],
   "source": [
    "res = df.merge(pred, on='id', how='outer')"
   ]
  },
  {
   "cell_type": "code",
   "execution_count": 28,
   "metadata": {},
   "outputs": [
    {
     "data": {
      "text/plain": [
       "50.85211879229037"
      ]
     },
     "execution_count": 28,
     "metadata": {},
     "output_type": "execute_result"
    }
   ],
   "source": [
    "res = res.assign(dist_err2 = lambda x: [haversine_distance(lat1, lon1, lat2, lon2) for lat1, lon1, lat2, lon2 in zip(x.latitude,\n",
    "                                                                                                              x.longitude,\n",
    "                                                                                                              x.lat_pred2,\n",
    "                                                                                                              x.lon_pred2)])\n",
    "np.mean(np.sort(res.dist_err2.values)[:int(0.9*res.shape[0])])"
   ]
  },
  {
   "cell_type": "code",
   "execution_count": 10,
   "metadata": {},
   "outputs": [
    {
     "name": "stdout",
     "output_type": "stream",
     "text": [
      "Initial error 722519.3664625236\n",
      "Final error: 56.248229400861106\n"
     ]
    }
   ],
   "source": [
    "res = res.assign(dist_err1 = lambda x: [haversine_distance(lat1, lon1, lat2, lon2) for lat1, lon1, lat2, lon2 in zip(x.latitude,\n",
    "                                                                                                              x.longitude,\n",
    "                                                                                                              x.lat_pred,\n",
    "                                                                                                              x.lon_pred)])\n",
    "\n",
    "res = res.assign(dist_err2 = lambda x: [haversine_distance(lat1, lon1, lat2, lon2) for lat1, lon1, lat2, lon2 in zip(x.latitude,\n",
    "                                                                                                              x.longitude,\n",
    "                                                                                                              x.lat_pred2,\n",
    "                                                                                                              x.lon_pred2)])\n",
    "ind = np.where(~np.isnan(res.lat_pred.values))[0]\n",
    "print('Initial error', np.mean(np.sort(res.dist_err1.values[ind])[:int(0.9*len(ind))]))\n",
    "print('Final error:', np.mean(np.sort(res.dist_err2.values)[:int(0.9*res.shape[0])]))"
   ]
  },
  {
   "cell_type": "code",
   "execution_count": 80,
   "metadata": {},
   "outputs": [
    {
     "name": "stdout",
     "output_type": "stream",
     "text": [
      "31.34420556249178 4743\n",
      "25.217518360030112 4257\n"
     ]
    }
   ],
   "source": [
    "ind2 = np.where(~np.isnan(tel.lat_pred2))[0]\n",
    "\n",
    "lat = np.array([np.nan]*tel.shape[0])\n",
    "lon = np.array([np.nan]*tel.shape[0])\n",
    "\n",
    "lat[ind2[0]:ind2[-1]] = splev(tel.timeAtServer.values[ind2[0]:ind2[-1]], spl_lat)\n",
    "lon[ind2[0]:ind2[-1]] = splev(tel.timeAtServer.values[ind2[0]:ind2[-1]], spl_lon)\n",
    "\n",
    "tel['spl_lat'] = lat\n",
    "tel['spl_lon'] = lon\n",
    "\n",
    "tel = tel.assign(dist_err2 = lambda x: [haversine_distance(lat1, lon1, lat2, lon2) for lat1, lon1, lat2, lon2 in zip(x.latitude,\n",
    "                                                                                                              x.longitude,\n",
    "                                                                                                              x.spl_lat,\n",
    "                                                                                                              x.spl_lon)])\n",
    "\n",
    "tel = tel.assign(dist_err = lambda x: [haversine_distance(lat1, lon1, lat2, lon2) for lat1, lon1, lat2, lon2 in zip(x.latitude,\n",
    "                                                                                                              x.longitude,\n",
    "                                                                                                              x.lat_pred2,\n",
    "                                                                                                              x.lon_pred2)])\n",
    "\n",
    "ind = np.where(~np.isnan(tel.dist_err2))[0]\n",
    "print(np.mean(np.sort(tel.dist_err2.values[ind])[:int(0.9*len(ind))]), len(ind))\n",
    "\n",
    "\n",
    "ind = np.where(~np.isnan(tel.dist_err))[0]\n",
    "print(np.mean(np.sort(tel.dist_err.values[ind])[:int(0.9*len(ind))]), len(ind))"
   ]
  },
  {
   "cell_type": "code",
   "execution_count": null,
   "metadata": {},
   "outputs": [],
   "source": []
  },
  {
   "cell_type": "code",
   "execution_count": null,
   "metadata": {},
   "outputs": [],
   "source": []
  },
  {
   "cell_type": "code",
   "execution_count": 18,
   "metadata": {},
   "outputs": [],
   "source": [
    "## Coverage\n",
    "\n",
    "res = df.merge(pred, on='id', how='outer')"
   ]
  },
  {
   "cell_type": "code",
   "execution_count": 71,
   "metadata": {},
   "outputs": [],
   "source": [
    "aircrafts = res[~np.isnan(res.lat_pred2)].aircraft.unique()"
   ]
  },
  {
   "cell_type": "code",
   "execution_count": 678,
   "metadata": {},
   "outputs": [
    {
     "ename": "IndexError",
     "evalue": "index 0 is out of bounds for axis 0 with size 0",
     "output_type": "error",
     "traceback": [
      "\u001b[0;31m---------------------------------------------------------------------------\u001b[0m",
      "\u001b[0;31mIndexError\u001b[0m                                Traceback (most recent call last)",
      "\u001b[0;32m<ipython-input-678-8660a46630c3>\u001b[0m in \u001b[0;36m<module>\u001b[0;34m\u001b[0m\n\u001b[1;32m     60\u001b[0m \u001b[0;31m# gaps in predictions\u001b[0m\u001b[0;34m\u001b[0m\u001b[0;34m\u001b[0m\u001b[0;34m\u001b[0m\u001b[0m\n\u001b[1;32m     61\u001b[0m \u001b[0mchunks\u001b[0m \u001b[0;34m=\u001b[0m \u001b[0;34m[\u001b[0m\u001b[0;34m]\u001b[0m\u001b[0;34m\u001b[0m\u001b[0;34m\u001b[0m\u001b[0m\n\u001b[0;32m---> 62\u001b[0;31m \u001b[0mlb\u001b[0m \u001b[0;34m=\u001b[0m \u001b[0mind2\u001b[0m\u001b[0;34m[\u001b[0m\u001b[0;36m0\u001b[0m\u001b[0;34m]\u001b[0m\u001b[0;34m\u001b[0m\u001b[0;34m\u001b[0m\u001b[0m\n\u001b[0m\u001b[1;32m     63\u001b[0m \u001b[0;32mif\u001b[0m \u001b[0mlen\u001b[0m\u001b[0;34m(\u001b[0m\u001b[0mnp\u001b[0m\u001b[0;34m.\u001b[0m\u001b[0mwhere\u001b[0m\u001b[0;34m(\u001b[0m\u001b[0mnp\u001b[0m\u001b[0;34m.\u001b[0m\u001b[0mdiff\u001b[0m\u001b[0;34m(\u001b[0m\u001b[0mtel\u001b[0m\u001b[0;34m.\u001b[0m\u001b[0mtimeAtServer\u001b[0m\u001b[0;34m.\u001b[0m\u001b[0mvalues\u001b[0m\u001b[0;34m[\u001b[0m\u001b[0mind2\u001b[0m\u001b[0;34m]\u001b[0m\u001b[0;34m)\u001b[0m \u001b[0;34m>\u001b[0m \u001b[0;36m15\u001b[0m\u001b[0;34m)\u001b[0m\u001b[0;34m[\u001b[0m\u001b[0;36m0\u001b[0m\u001b[0;34m]\u001b[0m\u001b[0;34m)\u001b[0m \u001b[0;34m>\u001b[0m \u001b[0;36m0\u001b[0m\u001b[0;34m:\u001b[0m\u001b[0;34m\u001b[0m\u001b[0;34m\u001b[0m\u001b[0m\n\u001b[1;32m     64\u001b[0m     \u001b[0mind_gaps\u001b[0m \u001b[0;34m=\u001b[0m \u001b[0;34m(\u001b[0m\u001b[0mind2\u001b[0m\u001b[0;34m[\u001b[0m\u001b[0mnp\u001b[0m\u001b[0;34m.\u001b[0m\u001b[0mconcatenate\u001b[0m\u001b[0;34m(\u001b[0m\u001b[0;34m[\u001b[0m\u001b[0mnp\u001b[0m\u001b[0;34m.\u001b[0m\u001b[0marray\u001b[0m\u001b[0;34m(\u001b[0m\u001b[0;34m[\u001b[0m\u001b[0mi\u001b[0m\u001b[0;34m,\u001b[0m \u001b[0mi\u001b[0m\u001b[0;34m+\u001b[0m\u001b[0;36m1\u001b[0m\u001b[0;34m]\u001b[0m\u001b[0;34m)\u001b[0m \u001b[0;32mfor\u001b[0m \u001b[0mi\u001b[0m \u001b[0;32min\u001b[0m \u001b[0mnp\u001b[0m\u001b[0;34m.\u001b[0m\u001b[0mwhere\u001b[0m\u001b[0;34m(\u001b[0m\u001b[0mnp\u001b[0m\u001b[0;34m.\u001b[0m\u001b[0mdiff\u001b[0m\u001b[0;34m(\u001b[0m\u001b[0mtel\u001b[0m\u001b[0;34m.\u001b[0m\u001b[0mtimeAtServer\u001b[0m\u001b[0;34m.\u001b[0m\u001b[0mvalues\u001b[0m\u001b[0;34m[\u001b[0m\u001b[0mind2\u001b[0m\u001b[0;34m]\u001b[0m\u001b[0;34m)\u001b[0m \u001b[0;34m>\u001b[0m \u001b[0;36m15\u001b[0m\u001b[0;34m)\u001b[0m\u001b[0;34m[\u001b[0m\u001b[0;36m0\u001b[0m\u001b[0;34m]\u001b[0m\u001b[0;34m]\u001b[0m\u001b[0;34m)\u001b[0m\u001b[0;34m]\u001b[0m\u001b[0;34m)\u001b[0m\u001b[0;34m.\u001b[0m\u001b[0mtolist\u001b[0m\u001b[0;34m(\u001b[0m\u001b[0;34m)\u001b[0m\u001b[0;34m\u001b[0m\u001b[0;34m\u001b[0m\u001b[0m\n",
      "\u001b[0;31mIndexError\u001b[0m: index 0 is out of bounds for axis 0 with size 0"
     ]
    }
   ],
   "source": [
    "from scipy.interpolate import splrep, splev\n",
    "\n",
    "j = 1\n",
    "\n",
    "variant = 1\n",
    "#1916, 733, 746, 977, 2065, 2634, 697, 329, 2017, 737, 59\n",
    "# 86, 1805, 529, 2157, 502, 1972, 1220, 534, 2531, 962\n",
    "\n",
    "#[440, 1100, 2820, 2611, 2043, 275, 868, 2692, 2627, 1872]\n",
    "# 440 - all points lat_pred2, good\n",
    "# 1100 - some points missing 2e-5, 1e-5\n",
    "# 2820 - very bad\n",
    "# 2611 - 1e-3, 1e-5\n",
    "# 2043 - 2e-5, 2e-5\n",
    "# 275 - 1e-3, 3e-4 (bad)\n",
    "# 868 - 2e-5, 2e-5\n",
    "# 2692 - 1e-4, 1e-5\n",
    "# 2627 -3e-5, 3e-5\n",
    "# 1872 - just 85 points\n",
    "\n",
    "\n",
    "#pred.aircraft.unique()[2820]\n",
    "tel = res[res.aircraft == 1417].sort_values('timeAtServer', ascending=True).reset_index(drop=True)\n",
    "tel = tel.assign(err_dist = lambda x: [haversine_distance(lat1, lon1, lat2, lon2) for lat1, lon1, lat2, lon2 in zip(x.latitude,\n",
    "                                                                                                              x.longitude,\n",
    "                                                                                                              x.lat_pred2,\n",
    "                                                                                                              x.lon_pred2)])\n",
    "\n",
    "# error between raw predictions and smoothed\n",
    "tel = tel.assign(err_pred = lambda x: [haversine_distance(lat1, lon1, lat2, lon2) for lat1, lon1, lat2, lon2 in zip(x.lat_pred,\n",
    "                                                                                                              x.lon_pred,\n",
    "                                                                                                              x.lat_pred2,\n",
    "                                                                                                              x.lon_pred2)])\n",
    "\n",
    "# points where pred_error < 50m\n",
    "ind_50 = np.where(~np.isnan(tel.lon_pred2.values) & (tel.lon_pred2.values!=0) & (tel.err_pred < 50))[0]\n",
    "# points with predictions\n",
    "ind2 = np.where((~np.isnan(tel.lon_pred2.values)) & (tel.lon_pred2.values!=0))[0]\n",
    "\n",
    "# fit splines on the track\n",
    "#spl_lon = (np.array([]), np.array([np.nan]), 5)\n",
    "#spl_lat = (np.array([]), np.array([np.nan]), 5)\n",
    "\n",
    "s = 1e-5\n",
    "while any(np.isnan(spl_lon[1])) or any(np.isnan(spl_lat[1])):\n",
    "    try:\n",
    "        spl_lon = splrep(tel.timeAtServer.values[ind_50],\n",
    "                         tel.lon_pred2.values[ind_50],\n",
    "                         s=1e-1, k=3)\n",
    "\n",
    "        spl_lat = splrep(tel.timeAtServer.values[ind_50],\n",
    "                         tel.lat_pred2.values[ind_50],\n",
    "                         s=1e-1, k=3)\n",
    "    except:\n",
    "        print('Dont fit')\n",
    "        break\n",
    "        \n",
    "    s += 1e-5\n",
    "\n",
    "# gaps in predictions\n",
    "chunks = []\n",
    "lb = ind2[0]\n",
    "if len(np.where(np.diff(tel.timeAtServer.values[ind2]) > 15)[0]) > 0:\n",
    "    ind_gaps = (ind2[np.concatenate([np.array([i, i+1]) for i in np.where(np.diff(tel.timeAtServer.values[ind2]) > 15)[0]])]).tolist()\n",
    "    \n",
    "    for i in range(0, len(ind_gaps), 2):\n",
    "        #print(ind_gaps[i], ind_gaps[i+1])\n",
    "        k1 = 180/np.pi*np.arctan2(splev(tel.timeAtServer.values[ind_gaps[i]], spl_lat, der=1), splev(tel.timeAtServer.values[ind_gaps[i]], spl_lon, der=1))\n",
    "        k2 = 180/np.pi*np.arctan2(splev(tel.timeAtServer.values[ind_gaps[i+1]], spl_lat, der=1), splev(tel.timeAtServer.values[ind_gaps[i+1]], spl_lon, der=1))\n",
    "        print(k1, k2)\n",
    "\n",
    "        if abs(k1-k2) >= 5:\n",
    "            chunks += [[lb, ind_gaps[i]]]\n",
    "            lb = ind_gaps[i+1]\n",
    "    \n",
    "    chunks += [[lb, ind2[-1]]]\n",
    "    print(chunks)\n",
    "    print(ind_gaps)\n",
    "    print('Gaps:', [tel.timeAtServer.values[ind_gaps[i+1]] - tel.timeAtServer.values[ind_gaps[i]] for i in range(0, len(ind_gaps), 2)])\n",
    "else:\n",
    "    chunks = [[ind2[0], ind2[-1]]]\n",
    "    print('No gaps')\n",
    "\n",
    "figsize(15, 10)\n",
    "plt.plot(tel.longitude.values, tel.latitude, '.')\n",
    "\n",
    "plt.plot(tel.lon_pred2.values[ind2], tel.lat_pred2.values[ind2], 'r.')\n",
    "\n",
    "lat, lon = [np.nan]*tel.shape[0], [np.nan]*tel.shape[0]\n",
    "for chunk in chunks:\n",
    "    ind_50_jj = ind_50[np.where((ind_50>=chunk[0])&(ind_50<=chunk[1]))[0]]\n",
    "    try:\n",
    "        spl_lon = splrep(tel.timeAtServer.values[ind_50_jj],\n",
    "                         tel.lon_pred2.values[ind_50_jj],\n",
    "                         s=s, k=5)\n",
    "\n",
    "        spl_lat = splrep(tel.timeAtServer.values[ind_50_jj],\n",
    "                         tel.lat_pred2.values[ind_50_jj],\n",
    "                         s=s, k=5)\n",
    "    except:\n",
    "        print(chunk)\n",
    "        continue\n",
    "\n",
    "    lat[chunk[0]:chunk[1]+1] = splev(tel.timeAtServer.values[chunk[0]:chunk[1]+1], spl_lat)\n",
    "    lon[chunk[0]:chunk[1]+1] = splev(tel.timeAtServer.values[chunk[0]:chunk[1]+1], spl_lon)\n",
    "    \n",
    "tel['spl_lat'] = lat\n",
    "tel['spl_lon'] = lon\n",
    "\n",
    "plt.plot(tel.spl_lon, tel.spl_lat, 'c.', ms=2)\n",
    "\n",
    "ind_spl = np.where(~np.isnan(tel.spl_lat.values))[0]\n",
    "\n",
    "print('Pred2:', len(ind2),\n",
    "      np.mean(tel.err_dist.values[ind2]),\n",
    "      np.median(tel.err_dist.values[ind2]),\n",
    "      np.mean(np.sort(tel.err_dist.values[ind2])[:int(0.9*len(ind2))]))\n",
    "\n",
    "\n",
    "ind_diff = np.array(list(set(ind_spl).difference(ind2)))\n",
    "\n",
    "if len(ind_diff) > 0:\n",
    "    dists_diff = [haversine_distance(lat1, lon1, lat2, lon2) for lat1, lon1, lat2, lon2 in zip(tel.latitude.values[ind_diff],\n",
    "                                                                                          tel.longitude.values[ind_diff],\n",
    "                                                                                          tel.spl_lat.values[ind_diff],\n",
    "                                                                                          tel.spl_lon.values[ind_diff])]\n",
    "\n",
    "ind_inter = np.array(list(set(ind_spl).intersection(ind2)))\n",
    "dists_inter = [haversine_distance(lat1, lon1, lat2, lon2) for lat1, lon1, lat2, lon2 in zip(tel.latitude.values[ind_inter],\n",
    "                                                                                          tel.longitude.values[ind_inter],\n",
    "                                                                                          tel.spl_lat.values[ind_inter],\n",
    "                                                                                          tel.spl_lon.values[ind_inter])]\n",
    "\n",
    "print('Spline intersection:', len(dists_inter),\n",
    "      np.mean(dists_inter),\n",
    "      np.median(dists_inter),\n",
    "      np.mean(np.sort(np.array(dists_inter))[:int(0.9*len(dists_inter))]))\n",
    "\n",
    "if len(ind_diff) > 0:\n",
    "    print('Spline difference:', len(dists_diff),\n",
    "          np.mean(dists_diff),\n",
    "          np.median(dists_diff),\n",
    "          np.mean(np.sort(np.array(dists_diff))[:int(0.9*len(dists_diff))]))\n",
    "    \n",
    "    curv_lat = np.fabs(splev(tel.timeAtServer.values[ind_diff], spl_lat, der=2))\n",
    "    curv_lon = np.fabs(splev(tel.timeAtServer.values[ind_diff], spl_lon, der=2))\n",
    "    \n",
    "    print('Lat:', np.min(curv_lat), np.mean(curv_lat), np.median(curv_lat), np.max(curv_lat))\n",
    "    print('Lon:', np.min(curv_lon), np.mean(curv_lon), np.median(curv_lon), np.max(curv_lon))\n",
    "\n",
    "\n",
    "\n",
    "\n",
    "#err_spl = [np.nan]*tel.shape[0]\n",
    "\n",
    "#ind_tg = np.array(list(set(ind2).intersection(ind_spl)))\n",
    "#tel['err_spl'] = [np.nan]*tel.shape[0]\n",
    "#tel.loc[ind_tg, 'err_spl'] = [haversine_distance(lat1, lon1, lat2, lon2) for lat1, lon1, lat2, lon2 in zip(tel.lat_pred2.values[ind_tg],\n",
    "#                                                                                                tel.lon_pred2.values[ind_tg],\n",
    "#                                                                                                tel.spl_lat.values[ind_tg],\n",
    "#                                                                                                tel.spl_lon.values[ind_tg])]\n",
    "\n",
    "#ind_rm = ind_tg[np.where(tel.err_spl.values[ind_tg]<100)[0]]\n",
    "#plt.plot(tel.longitude, tel.latitude, '.')\n",
    "#plt.plot(tel.lon_pred2.values[ind2], tel.lat_pred2.values[ind2], 'r.')\n",
    "#plt.plot(tel.lon_pred2.values[ind_rm], tel.lat_pred2.values[ind_rm], 'g.')\n",
    "\n",
    "\n",
    "\n",
    "plt.grid()"
   ]
  },
  {
   "cell_type": "code",
   "execution_count": 680,
   "metadata": {},
   "outputs": [
    {
     "data": {
      "text/plain": [
       "(array([], dtype=int64),)"
      ]
     },
     "execution_count": 680,
     "metadata": {},
     "output_type": "execute_result"
    }
   ],
   "source": [
    "np.where(~np.isnan(tel.lat_pred2.values))\n",
    "#w = filter_speedlimit(tel.lat_pred.values[ind2],\n",
    "#                          tel.lon_pred.values[ind2],\n",
    "#                          tel.timeAtServer.values[ind2],\n",
    "#                          0, 600, verbose=True)"
   ]
  },
  {
   "cell_type": "code",
   "execution_count": 667,
   "metadata": {},
   "outputs": [
    {
     "name": "stdout",
     "output_type": "stream",
     "text": [
      "29.456182414922157\n"
     ]
    },
    {
     "data": {
      "text/plain": [
       "[<matplotlib.lines.Line2D at 0x7fb07553a580>]"
      ]
     },
     "execution_count": 667,
     "metadata": {},
     "output_type": "execute_result"
    },
    {
     "data": {
      "image/png": "[encoded data removed]",
      "text/plain": [
       "<Figure size 1080x720 with 1 Axes>"
      ]
     },
     "metadata": {
      "needs_background": "light"
     },
     "output_type": "display_data"
    }
   ],
   "source": [
    "jj = ind2[np.where(w==True)[0]]\n",
    "\n",
    "print(np.mean(np.sort(tel.err_dist.values[jj])[:int(0.9*len(jj))]))\n",
    "\n",
    "\n",
    "plt.plot(tel.lon_pred2.values[ind2], tel.lat_pred2.values[ind2], '.')\n",
    "plt.plot(tel.lon_pred2.values[jj], tel.lat_pred2.values[jj], 'r.')"
   ]
  },
  {
   "cell_type": "code",
   "execution_count": 125,
   "metadata": {},
   "outputs": [],
   "source": [
    "#output = tel.iloc[ind2]\n",
    "#output = output.assign(err_spl = lambda x: [haversine_distance(lat1, lon1, lat2, lon2) for lat1, lon1, lat2, lon2 in zip(x.lat_pred2,\n",
    "#                                                                                                              x.lon_pred2,\n",
    "#                                                                                                              x.spl_lat,\n",
    "#                                                                                                              x.spl_lon)])\n",
    "from src.filters import filter_speedlimit\n",
    "\n",
    "r = filter_speedlimit(tel.lat_pred2.values[ind2],\n",
    "                          tel.lon_pred2.values[ind2],\n",
    "                          tel.timeAtServer.values[ind2],\n",
    "                          0, 300, False)\n",
    "indx = ind2[np.where(r == True)[0]]"
   ]
  },
  {
   "cell_type": "code",
   "execution_count": 128,
   "metadata": {},
   "outputs": [
    {
     "data": {
      "text/plain": [
       "(1101, 1104)"
      ]
     },
     "execution_count": 128,
     "metadata": {},
     "output_type": "execute_result"
    }
   ],
   "source": [
    "len(indx), len(ind2)"
   ]
  },
  {
   "cell_type": "code",
   "execution_count": 223,
   "metadata": {},
   "outputs": [
    {
     "data": {
      "text/plain": [
       "[<matplotlib.lines.Line2D at 0x7fb11c824460>]"
      ]
     },
     "execution_count": 223,
     "metadata": {},
     "output_type": "execute_result"
    },
    {
     "data": {
      "image/png": "[encoded data removed]",
      "text/plain": [
       "<Figure size 1080x720 with 1 Axes>"
      ]
     },
     "metadata": {
      "needs_background": "light"
     },
     "output_type": "display_data"
    }
   ],
   "source": [
    "err_spl = [np.nan]*tel.shape[0]\n",
    "\n",
    "ind_tg = np.array(list(set(ind2).intersection(ind_spl)))\n",
    "tel['err_spl'] = [np.nan]*tel.shape[0]\n",
    "tel.loc[ind_tg, 'err_spl'] = [haversine_distance(lat1, lon1, lat2, lon2) for lat1, lon1, lat2, lon2 in zip(tel.lat_pred2.values[ind_tg],\n",
    "                                                                                                tel.lon_pred2.values[ind_tg],\n",
    "                                                                                                tel.spl_lat.values[ind_tg],\n",
    "                                                                                                tel.spl_lon.values[ind_tg])]\n",
    "\n",
    "ind_rm = ind_tg[np.where(tel.err_spl.values[ind_tg]<100)[0]]\n",
    "plt.plot(tel.longitude, tel.latitude, '.')\n",
    "plt.plot(tel.lon_pred2.values[ind2], tel.lat_pred2.values[ind2], 'r.')\n",
    "plt.plot(tel.lon_pred2.values[ind_rm], tel.lat_pred2.values[ind_rm], 'g.')\n",
    "#ind_rm = np.where(output.err_spl.values>200)[0]"
   ]
  },
  {
   "cell_type": "code",
   "execution_count": 787,
   "metadata": {},
   "outputs": [],
   "source": [
    "from scipy.interpolate import splrep, splev\n",
    "\n",
    "cols = ['id', 'lat_pred2', 'lon_pred2', 'lat_pred', 'lon_pred']#, 'spl_lat', 'spl_lon']\n",
    "\n",
    "def create_spline(aircraft):\n",
    "\n",
    "    tel = pred[pred.aircraft == aircraft].sort_values('timeAtServer', ascending=True).reset_index(drop=True)\n",
    "    \n",
    "    # error between raw predictions and smoothed\n",
    "    tel = tel.assign(err_pred = lambda x: [haversine_distance(lat1, lon1, lat2, lon2) for lat1, lon1, lat2, lon2 in zip(x.lat_pred,\n",
    "                                                                                                                  x.lon_pred,\n",
    "                                                                                                                  x.lat_pred2,\n",
    "                                                                                                                  x.lon_pred2)])\n",
    "\n",
    "    # points where pred_error < 50m\n",
    "    ind_50 = np.where(~np.isnan(tel.lon_pred2.values) & (tel.lon_pred2.values!=0) & (tel.err_pred < 50))[0]\n",
    "    # points with predictions\n",
    "    ind2 = np.where((~np.isnan(tel.lon_pred2.values)) & (tel.lon_pred2.values!=0))[0]\n",
    "\n",
    "    # fit splines\n",
    "    spl_lon = (np.array([]), np.array([np.nan]), 5)\n",
    "    spl_lat = (np.array([]), np.array([np.nan]), 5)\n",
    "\n",
    "    s = 1e-5\n",
    "    while any(np.isnan(spl_lon[1])) or any(np.isnan(spl_lat[1])):\n",
    "        try:\n",
    "            spl_lon = splrep(tel.timeAtServer.values[ind_50],\n",
    "                             tel.lon_pred2.values[ind_50],\n",
    "                             s=s, k=5)\n",
    "\n",
    "            spl_lat = splrep(tel.timeAtServer.values[ind_50],\n",
    "                             tel.lat_pred2.values[ind_50],\n",
    "                             s=s, k=5)\n",
    "        except:\n",
    "            return\n",
    "        \n",
    "        if s > 1e-3:\n",
    "            print(aircraft)\n",
    "            return\n",
    "        \n",
    "        s += 1e-5\n",
    "\n",
    "\n",
    "    ### Variant 1:\n",
    "    err_dist = [haversine_distance(lat1, lon1, lat2, lon2) for lat1, lon1, lat2, lon2 in zip(tel.lat_pred2.values[ind2],\n",
    "                                                                                  tel.lon_pred2.values[ind2],\n",
    "                                                                                  splev(tel.timeAtServer.values[ind2], spl_lat),\n",
    "                                                                                  splev(tel.timeAtServer.values[ind2], spl_lon))]\n",
    "    \n",
    "    ind_final = ind2[np.where(np.array(err_dist) < 157.3)[0]]\n",
    "    #tel.loc[ind_final, cols].to_csv('predictions_test_1.csv', mode='a', header=False, index=False)\n",
    "    #return\n",
    "    \n",
    "    if len(np.where(np.diff(tel.timeAtServer.values[ind2]) > 15)[0]) > 0:\n",
    "        ind_gaps = (ind2[np.concatenate([np.array([i, i+1]) for i in np.where(np.diff(tel.timeAtServer.values[ind2]) > 15)[0]])]).tolist()\n",
    "        ind_add = []\n",
    "        \n",
    "        for i in range(0, len(ind_gaps), 2):\n",
    "            if tel.timeAtServer.values[ind_gaps[i+1]] - tel.timeAtServer.values[ind_gaps[i]] < 40:\n",
    "                tel.loc[ind_gaps[i]+1:ind_gaps[i+1]-1, 'lat_pred2'] = splev(tel.timeAtServer.values[ind_gaps[i]+1:ind_gaps[i+1]], spl_lat)\n",
    "                tel.loc[ind_gaps[i]+1:ind_gaps[i+1]-1, 'lon_pred2'] = splev(tel.timeAtServer.values[ind_gaps[i]+1:ind_gaps[i+1]], spl_lon)\n",
    "                ind_add += list(np.arange(ind_gaps[i]+1, ind_gaps[i+1]))\n",
    "                \n",
    "        ind_final = np.sort(np.r_[ind_final, np.array(ind_add)])\n",
    "\n",
    "    \n",
    "    tel.loc[ind_final, cols].to_csv('predictions_test_2.csv', mode='a', header=False, index=False)\n",
    "    return\n",
    "    \n",
    "    \n",
    "    "
   ]
  },
  {
   "cell_type": "code",
   "execution_count": 624,
   "metadata": {},
   "outputs": [
    {
     "name": "stderr",
     "output_type": "stream",
     "text": [
      "100%|██████████| 553/553 [00:01<00:00, 331.33it/s]\n"
     ]
    }
   ],
   "source": [
    "for aircraft in tqdm(aircrafts):\n",
    "    create_spline(aircraft)"
   ]
  },
  {
   "cell_type": "code",
   "execution_count": 113,
   "metadata": {},
   "outputs": [
    {
     "name": "stdout",
     "output_type": "stream",
     "text": [
      "1916\n",
      "733\n",
      "746\n",
      "977\n",
      "2065\n",
      "2634\n",
      "697\n",
      "329\n",
      "2017\n",
      "737\n",
      "59\n",
      "86\n",
      "1805\n",
      "529\n",
      "2157\n",
      "502\n",
      "1972\n",
      "1220\n",
      "534\n",
      "2531\n",
      "962\n"
     ]
    }
   ],
   "source": [
    "for a in aircrafts:\n",
    "    tel = q[q.aircraft==a]\n",
    "    if len(np.where((~np.isnan(tel.lat_pred2.values))&(tel.lat_pred2.values!=0))[0]) > 0 and len(np.where(~np.isnan(tel.spl_lat.values))[0]) == 0:\n",
    "        print(a)"
   ]
  },
  {
   "cell_type": "code",
   "execution_count": 661,
   "metadata": {},
   "outputs": [],
   "source": [
    "res = pd.read_csv('predictions_train_wednesday.csv', names=['id', 'lat_pred2', 'lon_pred2', 'lat_pred', 'lon_pred', 'spl_lat', 'spl_lon'])\n",
    "res = res.merge(df, on='id', how='outer')"
   ]
  },
  {
   "cell_type": "code",
   "execution_count": null,
   "metadata": {},
   "outputs": [],
   "source": []
  },
  {
   "cell_type": "code",
   "execution_count": 435,
   "metadata": {},
   "outputs": [
    {
     "data": {
      "text/html": [
       "<div>\n",
       "<style scoped>\n",
       "    .dataframe tbody tr th:only-of-type {\n",
       "        vertical-align: middle;\n",
       "    }\n",
       "\n",
       "    .dataframe tbody tr th {\n",
       "        vertical-align: top;\n",
       "    }\n",
       "\n",
       "    .dataframe thead th {\n",
       "        text-align: right;\n",
       "    }\n",
       "</style>\n",
       "<table border=\"1\" class=\"dataframe\">\n",
       "  <thead>\n",
       "    <tr style=\"text-align: right;\">\n",
       "      <th></th>\n",
       "      <th>id</th>\n",
       "      <th>lat_pred2</th>\n",
       "      <th>lon_pred2</th>\n",
       "      <th>lat_pred</th>\n",
       "      <th>lon_pred</th>\n",
       "      <th>spl_lat</th>\n",
       "      <th>spl_lon</th>\n",
       "    </tr>\n",
       "  </thead>\n",
       "  <tbody>\n",
       "    <tr>\n",
       "      <th>0</th>\n",
       "      <td>2</td>\n",
       "      <td>42.287532</td>\n",
       "      <td>1.798201</td>\n",
       "      <td>42.287565</td>\n",
       "      <td>1.798336</td>\n",
       "      <td>42.287645</td>\n",
       "      <td>1.797969</td>\n",
       "    </tr>\n",
       "    <tr>\n",
       "      <th>1</th>\n",
       "      <td>1005</td>\n",
       "      <td>42.287940</td>\n",
       "      <td>1.796953</td>\n",
       "      <td>42.288337</td>\n",
       "      <td>1.797503</td>\n",
       "      <td>42.288401</td>\n",
       "      <td>1.797369</td>\n",
       "    </tr>\n",
       "    <tr>\n",
       "      <th>2</th>\n",
       "      <td>1781</td>\n",
       "      <td>42.288680</td>\n",
       "      <td>1.796427</td>\n",
       "      <td>42.289109</td>\n",
       "      <td>1.796865</td>\n",
       "      <td>42.289094</td>\n",
       "      <td>1.796823</td>\n",
       "    </tr>\n",
       "    <tr>\n",
       "      <th>3</th>\n",
       "      <td>2719</td>\n",
       "      <td>42.289558</td>\n",
       "      <td>1.795806</td>\n",
       "      <td>42.289971</td>\n",
       "      <td>1.796518</td>\n",
       "      <td>42.289920</td>\n",
       "      <td>1.796178</td>\n",
       "    </tr>\n",
       "    <tr>\n",
       "      <th>4</th>\n",
       "      <td>3656</td>\n",
       "      <td>42.290401</td>\n",
       "      <td>1.795213</td>\n",
       "      <td>0.000000</td>\n",
       "      <td>0.000000</td>\n",
       "      <td>42.290716</td>\n",
       "      <td>1.795561</td>\n",
       "    </tr>\n",
       "  </tbody>\n",
       "</table>\n",
       "</div>"
      ],
      "text/plain": [
       "     id  lat_pred2  lon_pred2   lat_pred  lon_pred    spl_lat   spl_lon\n",
       "0     2  42.287532   1.798201  42.287565  1.798336  42.287645  1.797969\n",
       "1  1005  42.287940   1.796953  42.288337  1.797503  42.288401  1.797369\n",
       "2  1781  42.288680   1.796427  42.289109  1.796865  42.289094  1.796823\n",
       "3  2719  42.289558   1.795806  42.289971  1.796518  42.289920  1.796178\n",
       "4  3656  42.290401   1.795213   0.000000  0.000000  42.290716  1.795561"
      ]
     },
     "execution_count": 435,
     "metadata": {},
     "output_type": "execute_result"
    }
   ],
   "source": [
    "q = pd.read_csv('predictions_train_wed_fixed.csv', names=['id', 'lat_pred2', 'lon_pred2', 'lat_pred', 'lon_pred', 'spl_lat', 'spl_lon'])\n",
    "q.head()"
   ]
  },
  {
   "cell_type": "code",
   "execution_count": 436,
   "metadata": {},
   "outputs": [],
   "source": [
    "q = q.merge(df, on='id', how='inner')"
   ]
  },
  {
   "cell_type": "code",
   "execution_count": 437,
   "metadata": {},
   "outputs": [
    {
     "name": "stdout",
     "output_type": "stream",
     "text": [
      "1. pred2: 50.760255946521085 1324477\n"
     ]
    }
   ],
   "source": [
    "ind2 = np.where((~np.isnan(q.lat_pred2.values))&(q.lat_pred2.values>0))[0]\n",
    "err_pred2 = [haversine_distance(lat1, lon1, lat2, lon2) for lat1, lon1, lat2, lon2 in zip(q.lat_pred2.values[ind2],\n",
    "                                                                                          q.lon_pred2.values[ind2],\n",
    "                                                                                          q.latitude.values[ind2],\n",
    "                                                                                          q.longitude.values[ind2])]\n",
    "\n",
    "print('1. pred2:', np.mean(np.sort(err_pred2)[:int(0.9*len(err_pred2))]), len(err_pred2))"
   ]
  },
  {
   "cell_type": "code",
   "execution_count": 443,
   "metadata": {},
   "outputs": [
    {
     "name": "stdout",
     "output_type": "stream",
     "text": [
      "2. pred2: 48.03285150722562 1295708\n"
     ]
    }
   ],
   "source": [
    "q = pd.read_csv('predictions_train_fri_fixed.csv', names=['id', 'lat_pred2', 'lon_pred2', 'lat_pred', 'lon_pred'])\n",
    "q = q.merge(df, on='id', how='inner')\n",
    "\n",
    "ind2 = np.where((~np.isnan(q.lat_pred2.values))&(q.lat_pred2.values>0))[0]\n",
    "err_pred2 = [haversine_distance(lat1, lon1, lat2, lon2) for lat1, lon1, lat2, lon2 in zip(q.lat_pred2.values[ind2],\n",
    "                                                                                          q.lon_pred2.values[ind2],\n",
    "                                                                                          q.latitude.values[ind2],\n",
    "                                                                                          q.longitude.values[ind2])]\n",
    "\n",
    "print('2. pred2:', np.mean(np.sort(err_pred2)[:int(0.9*len(err_pred2))]), len(err_pred2))"
   ]
  },
  {
   "cell_type": "code",
   "execution_count": 605,
   "metadata": {},
   "outputs": [
    {
     "name": "stdout",
     "output_type": "stream",
     "text": [
      "3. pred2: 47.74307707645403 1294430\n"
     ]
    }
   ],
   "source": [
    "q = pd.read_csv('predictions_train_friday_fixed2.csv', names=['id', 'lat_pred2', 'lon_pred2', 'lat_pred', 'lon_pred'])\n",
    "q = q.merge(df, on='id', how='inner')\n",
    "\n",
    "ind2 = np.where((~np.isnan(q.lat_pred2.values))&(q.lat_pred2.values>0))[0]\n",
    "err_pred2 = [haversine_distance(lat1, lon1, lat2, lon2) for lat1, lon1, lat2, lon2 in zip(q.lat_pred2.values[ind2],\n",
    "                                                                                          q.lon_pred2.values[ind2],\n",
    "                                                                                          q.latitude.values[ind2],\n",
    "                                                                                          q.longitude.values[ind2])]\n",
    "\n",
    "print('3. pred2:', np.mean(np.sort(err_pred2)[:int(0.9*len(err_pred2))]), len(err_pred2))"
   ]
  },
  {
   "cell_type": "code",
   "execution_count": 615,
   "metadata": {},
   "outputs": [
    {
     "name": "stdout",
     "output_type": "stream",
     "text": [
      "4. pred2: 47.82962902787042 1290548\n"
     ]
    }
   ],
   "source": [
    "# 75m, 90s - 47.07\n",
    "# 75m, 120s - 47.82\n",
    "q = pd.read_csv('predictions_train_friday_fixed2.csv', names=['id', 'lat_pred2', 'lon_pred2', 'lat_pred', 'lon_pred'])\n",
    "q = q.merge(df, on='id', how='inner')\n",
    "\n",
    "ind2 = np.where((~np.isnan(q.lat_pred2.values))&(q.lat_pred2.values>0))[0]\n",
    "err_pred2 = [haversine_distance(lat1, lon1, lat2, lon2) for lat1, lon1, lat2, lon2 in zip(q.lat_pred2.values[ind2],\n",
    "                                                                                          q.lon_pred2.values[ind2],\n",
    "                                                                                          q.latitude.values[ind2],\n",
    "                                                                                          q.longitude.values[ind2])]\n",
    "\n",
    "print('4. pred2:', np.mean(np.sort(err_pred2)[:int(0.9*len(err_pred2))]), len(err_pred2))"
   ]
  },
  {
   "cell_type": "code",
   "execution_count": 103,
   "metadata": {},
   "outputs": [
    {
     "name": "stdout",
     "output_type": "stream",
     "text": [
      "2. pred2 with spline: 55.00705894971332 1299160\n"
     ]
    }
   ],
   "source": [
    "ind_diff = np.array(list(set(ind_spl).difference(ind2)))\n",
    "\n",
    "jj = np.r_[ind_diff, ind_inter]\n",
    "err_pred23 = [haversine_distance(lat1, lon1, lat2, lon2) for lat1, lon1, lat2, lon2 in zip(q.lat_pred2.values[jj],\n",
    "                                                                                          q.lon_pred2.values[jj],\n",
    "                                                                                          q.latitude.values[jj],\n",
    "                                                                                          q.longitude.values[jj])]\n",
    "\n",
    "\n",
    "print('3. pred2 with spline + spline:', np.mean(np.sort(err_pred23)[:int(0.9*len(err_pred23))]), len(err_pred23))"
   ]
  },
  {
   "cell_type": "code",
   "execution_count": 107,
   "metadata": {},
   "outputs": [],
   "source": [
    "q = q.assign(err_spl = lambda x: [haversine_distance(lat1, lon1, lat2, lon2) for lat1, lon1, lat2, lon2 in zip(x.spl_lat,\n",
    "                                                                                                              x.spl_lon,\n",
    "                                                                                                              x.lat_pred2,\n",
    "                                                                                                              x.lon_pred2)])\n"
   ]
  },
  {
   "cell_type": "code",
   "execution_count": 110,
   "metadata": {},
   "outputs": [
    {
     "name": "stdout",
     "output_type": "stream",
     "text": [
      "4. pred2 with spline + spline: 44.92791109836706 1202812\n"
     ]
    }
   ],
   "source": [
    "jjj = ind_inter[np.where(q.err_spl.values[ind_inter] < 100)[0]]\n",
    "\n",
    "err_pred24 = [haversine_distance(lat1, lon1, lat2, lon2) for lat1, lon1, lat2, lon2 in zip(q.lat_pred2.values[jjj],\n",
    "                                                                                          q.lon_pred2.values[jjj],\n",
    "                                                                                          q.latitude.values[jjj],\n",
    "                                                                                          q.longitude.values[jjj])]\n",
    "\n",
    "\n",
    "print('4. pred2 with spline + spline:', np.mean(np.sort(err_pred24)[:int(0.9*len(err_pred24))]), len(err_pred24))"
   ]
  },
  {
   "cell_type": "code",
   "execution_count": 109,
   "metadata": {},
   "outputs": [
    {
     "name": "stdout",
     "output_type": "stream",
     "text": [
      "5. pred2 with spline + spline: 52.684485551744714 1272217\n"
     ]
    }
   ],
   "source": [
    "jjjj = np.r_[jjj, ind_diff]\n",
    "\n",
    "err_pred25 = [haversine_distance(lat1, lon1, lat2, lon2) for lat1, lon1, lat2, lon2 in zip(q.lat_pred2.values[jjjj],\n",
    "                                                                                          q.lon_pred2.values[jjjj],\n",
    "                                                                                          q.latitude.values[jjjj],\n",
    "                                                                                          q.longitude.values[jjjj])]\n",
    "\n",
    "\n",
    "print('5. pred2 with spline + spline:', np.mean(np.sort(err_pred25)[:int(0.9*len(err_pred25))]), len(err_pred25))"
   ]
  },
  {
   "cell_type": "code",
   "execution_count": 103,
   "metadata": {},
   "outputs": [],
   "source": [
    "import scipy\n",
    "\n",
    "def precompute_diffalt(alt, t,speedmax):\n",
    "    '''compute a matrix telling if i and j are complying with speedmax'''\n",
    "    alt = np.transpose(np.array([alt]))\n",
    "    d=scipy.spatial.distance_matrix(alt,alt)\n",
    "    t=np.transpose(np.array([t]))\n",
    "    dt=scipy.spatial.distance_matrix(t,t)\n",
    "    return np.maximum(d-speedmax*dt,0)#+np.maximum(speedmin*dt-d,0)\n",
    "\n",
    "def barosmooth(trajff,smooth):\n",
    "    '''fit a spline with x=timeAtServer and y=baroAltitude'''\n",
    "    speedmax = 50.8 # 10000ft/min\n",
    "    dd=precompute_diffalt(trajff.baroAltitude.values,trajff.timeAtServer.values,speedmax)\n",
    "    if np.sum(dd)>0:#    count edges number, if \"full\" graph we can keep it all without computing longest path\n",
    "        longest_path = smooth.get_gtlongest(dd)\n",
    "        keep = np.array([i in longest_path for i in range(dd.shape[-1])])\n",
    "    else:\n",
    "        keep = np.array([True]*dd.shape[-1])\n",
    "    t = trajff.timeAtServer.values[keep]\n",
    "    h = trajff.baroAltitude.values[keep]\n",
    "    spl = splrep(t, h, s=smooth, k=3)\n",
    "    #smo = csaps.CubicSmoothingSpline(xdata=t,ydata=h,smooth=smooth).spline\n",
    "    return spl"
   ]
  },
  {
   "cell_type": "code",
   "execution_count": 115,
   "metadata": {},
   "outputs": [],
   "source": [
    "spl_h = barosmooth(res[res.aircraft == aircrafts[j]], 1000)"
   ]
  },
  {
   "cell_type": "code",
   "execution_count": 116,
   "metadata": {},
   "outputs": [
    {
     "data": {
      "text/plain": [
       "[<matplotlib.lines.Line2D at 0x7f4b990a1e80>]"
      ]
     },
     "execution_count": 116,
     "metadata": {},
     "output_type": "execute_result"
    },
    {
     "data": {
      "image/png": "[encoded data removed]",
      "text/plain": [
       "<Figure size 1080x720 with 1 Axes>"
      ]
     },
     "metadata": {
      "needs_background": "light"
     },
     "output_type": "display_data"
    }
   ],
   "source": [
    "plt.plot(res[res.aircraft == aircrafts[j]].timeAtServer,\n",
    "        res[res.aircraft == aircrafts[j]].baroAltitude, '.')\n",
    "\n",
    "plt.plot(res[res.aircraft == aircrafts[j]].timeAtServer,\n",
    "         splev(res[res.aircraft == aircrafts[j]].timeAtServer, spl_h), 'r-')"
   ]
  },
  {
   "cell_type": "code",
   "execution_count": null,
   "metadata": {},
   "outputs": [],
   "source": []
  },
  {
   "cell_type": "code",
   "execution_count": 536,
   "metadata": {},
   "outputs": [],
   "source": [
    "test = pd.read_csv('test_data.csv')"
   ]
  },
  {
   "cell_type": "code",
   "execution_count": 675,
   "metadata": {},
   "outputs": [
    {
     "data": {
      "text/plain": [
       "632932"
      ]
     },
     "execution_count": 675,
     "metadata": {},
     "output_type": "execute_result"
    }
   ],
   "source": [
    "pred = (pd.read_csv('predictions_wednesday.csv', names=['id', 'lat_pred2', 'lon_pred2', 'lat_pred', 'lon_pred', 'spl_lat', 'spl_lon'])\n",
    "        .loc[lambda x: (~np.isnan(x.lat_pred2))&(x.lat_pred2>0)]\n",
    "        .merge(test, on='id', how='outer')\n",
    "        #.loc[:, ['id', 'lat_pred2', 'lon_pred2', 'baroAltitude']]\n",
    "        #.rename(columns={'lat_pred2':'latitude',\n",
    "        #                 'lon_pred2':'longitude',\n",
    "        #                 'baroAltitude':'geoAltitude'})\n",
    "       )\n",
    "pred.shape[0]\n",
    "#pred.to_csv('submission_sat_1.csv', index=False)"
   ]
  },
  {
   "cell_type": "code",
   "execution_count": 788,
   "metadata": {},
   "outputs": [
    {
     "name": "stderr",
     "output_type": "stream",
     "text": [
      " 73%|███████▎  | 219/300 [00:18<00:02, 39.14it/s]"
     ]
    },
    {
     "name": "stdout",
     "output_type": "stream",
     "text": [
      "1872\n"
     ]
    },
    {
     "name": "stderr",
     "output_type": "stream",
     "text": [
      "100%|██████████| 300/300 [00:19<00:00, 15.67it/s] \n"
     ]
    }
   ],
   "source": [
    "# variant 1: threshold1 = 210m (78.9m accuracy) submission_sun_1.csv\n",
    "# variant 2: threshold1 = 91.5m, threshold2 = 100s (78.8m accuracy) submission_sun_2.csv\n",
    "# variant 2: threshold1 = 125m, threshold2 = 60s (78.1m accuracy) submission_sun_3.csv\n",
    "# variant 2: threshold1 = 112.6, threshold2 = 70s (78.2m accuracy) submission_sun_4.csv\n",
    "# variant 2: threshold1 = 157.3, threshold2 = 40s (78.35m accuracy) submission_sun_5.csv\n",
    "for a in tqdm(pred.aircraft.unique()):\n",
    "    create_spline(a)"
   ]
  },
  {
   "cell_type": "code",
   "execution_count": 789,
   "metadata": {},
   "outputs": [
    {
     "data": {
      "text/plain": [
       "0.7000072677633616"
      ]
     },
     "execution_count": 789,
     "metadata": {},
     "output_type": "execute_result"
    }
   ],
   "source": [
    "r = pd.read_csv('predictions_test_2.csv', names=['id', 'lat_pred2', 'lon_pred2', 'lat_pred', 'lon_pred'])\n",
    "r.shape[0] / test.shape[0]"
   ]
  },
  {
   "cell_type": "code",
   "execution_count": 791,
   "metadata": {},
   "outputs": [],
   "source": [
    "r = pd.read_csv('predictions_test_2.csv', names=['id', 'lat_pred2', 'lon_pred2', 'lat_pred', 'lon_pred'])\n",
    "\n",
    "#len(r.id.unique()) / test.shape[0]\n",
    "(r.merge(test, on='id', how='outer')\n",
    "  .sort_values('id', ascending=True)\n",
    "  .loc[:, ['id', 'lat_pred2', 'lon_pred2', 'baroAltitude']]\n",
    "  .rename(columns={'lat_pred2':'latitude',\n",
    "                   'lon_pred2':'longitude',\n",
    "                   'baroAltitude':'geoAltitude'})\n",
    ").to_csv('submission_sun_5.csv', index=False)"
   ]
  },
  {
   "cell_type": "code",
   "execution_count": 792,
   "metadata": {},
   "outputs": [
    {
     "data": {
      "text/html": [
       "<div>\n",
       "<style scoped>\n",
       "    .dataframe tbody tr th:only-of-type {\n",
       "        vertical-align: middle;\n",
       "    }\n",
       "\n",
       "    .dataframe tbody tr th {\n",
       "        vertical-align: top;\n",
       "    }\n",
       "\n",
       "    .dataframe thead th {\n",
       "        text-align: right;\n",
       "    }\n",
       "</style>\n",
       "<table border=\"1\" class=\"dataframe\">\n",
       "  <thead>\n",
       "    <tr style=\"text-align: right;\">\n",
       "      <th></th>\n",
       "      <th>id</th>\n",
       "      <th>latitude</th>\n",
       "      <th>longitude</th>\n",
       "      <th>geoAltitude</th>\n",
       "    </tr>\n",
       "  </thead>\n",
       "  <tbody>\n",
       "    <tr>\n",
       "      <th>0</th>\n",
       "      <td>12</td>\n",
       "      <td>51.422478</td>\n",
       "      <td>-0.904694</td>\n",
       "      <td>7947.66</td>\n",
       "    </tr>\n",
       "    <tr>\n",
       "      <th>1</th>\n",
       "      <td>13</td>\n",
       "      <td>51.422478</td>\n",
       "      <td>-0.904694</td>\n",
       "      <td>7947.66</td>\n",
       "    </tr>\n",
       "    <tr>\n",
       "      <th>2</th>\n",
       "      <td>18</td>\n",
       "      <td>NaN</td>\n",
       "      <td>NaN</td>\n",
       "      <td>5402.58</td>\n",
       "    </tr>\n",
       "    <tr>\n",
       "      <th>3</th>\n",
       "      <td>20</td>\n",
       "      <td>42.505118</td>\n",
       "      <td>1.419813</td>\n",
       "      <td>12199.62</td>\n",
       "    </tr>\n",
       "    <tr>\n",
       "      <th>4</th>\n",
       "      <td>24</td>\n",
       "      <td>NaN</td>\n",
       "      <td>NaN</td>\n",
       "      <td>11269.98</td>\n",
       "    </tr>\n",
       "    <tr>\n",
       "      <th>...</th>\n",
       "      <td>...</td>\n",
       "      <td>...</td>\n",
       "      <td>...</td>\n",
       "      <td>...</td>\n",
       "    </tr>\n",
       "    <tr>\n",
       "      <th>632927</th>\n",
       "      <td>6457507</td>\n",
       "      <td>NaN</td>\n",
       "      <td>NaN</td>\n",
       "      <td>10073.64</td>\n",
       "    </tr>\n",
       "    <tr>\n",
       "      <th>632928</th>\n",
       "      <td>6457509</td>\n",
       "      <td>NaN</td>\n",
       "      <td>NaN</td>\n",
       "      <td>8534.40</td>\n",
       "    </tr>\n",
       "    <tr>\n",
       "      <th>632929</th>\n",
       "      <td>6457518</td>\n",
       "      <td>NaN</td>\n",
       "      <td>NaN</td>\n",
       "      <td>12192.00</td>\n",
       "    </tr>\n",
       "    <tr>\n",
       "      <th>632930</th>\n",
       "      <td>6457538</td>\n",
       "      <td>NaN</td>\n",
       "      <td>NaN</td>\n",
       "      <td>10972.80</td>\n",
       "    </tr>\n",
       "    <tr>\n",
       "      <th>632931</th>\n",
       "      <td>6457540</td>\n",
       "      <td>NaN</td>\n",
       "      <td>NaN</td>\n",
       "      <td>7376.16</td>\n",
       "    </tr>\n",
       "  </tbody>\n",
       "</table>\n",
       "<p>632932 rows × 4 columns</p>\n",
       "</div>"
      ],
      "text/plain": [
       "             id   latitude  longitude  geoAltitude\n",
       "0            12  51.422478  -0.904694      7947.66\n",
       "1            13  51.422478  -0.904694      7947.66\n",
       "2            18        NaN        NaN      5402.58\n",
       "3            20  42.505118   1.419813     12199.62\n",
       "4            24        NaN        NaN     11269.98\n",
       "...         ...        ...        ...          ...\n",
       "632927  6457507        NaN        NaN     10073.64\n",
       "632928  6457509        NaN        NaN      8534.40\n",
       "632929  6457518        NaN        NaN     12192.00\n",
       "632930  6457538        NaN        NaN     10972.80\n",
       "632931  6457540        NaN        NaN      7376.16\n",
       "\n",
       "[632932 rows x 4 columns]"
      ]
     },
     "execution_count": 792,
     "metadata": {},
     "output_type": "execute_result"
    }
   ],
   "source": [
    "pd.read_csv('submission_sun_5.csv')"
   ]
  },
  {
   "cell_type": "code",
   "execution_count": null,
   "metadata": {},
   "outputs": [],
   "source": [
    "# 440 - all points lat_pred2, good\n",
    "# 1100 - some points missing 2e-5, 1e-5\n",
    "# 2820 - very bad\n",
    "# 2611 - 1e-3, 1e-5\n",
    "# 2043 - 2e-5, 2e-5\n",
    "# 275 - 1e-3, 3e-4 (bad)\n",
    "# 868 - 2e-5, 2e-5\n",
    "# 2692 - 1e-4, 1e-5\n",
    "# 2627 - 3e-5, 3e-5\n",
    "# 1872 - just 85 points"
   ]
  },
  {
   "cell_type": "code",
   "execution_count": 329,
   "metadata": {},
   "outputs": [
    {
     "data": {
      "text/plain": [
       "29622"
      ]
     },
     "execution_count": 329,
     "metadata": {},
     "output_type": "execute_result"
    }
   ],
   "source": [
    "pred[pred.aircraft.isin([440, 1100, 2611, 2043, 868, 2692, 2627])].shape[0]"
   ]
  },
  {
   "cell_type": "code",
   "execution_count": 330,
   "metadata": {},
   "outputs": [
    {
     "data": {
      "text/plain": [
       "0.6966451372343316"
      ]
     },
     "execution_count": 330,
     "metadata": {},
     "output_type": "execute_result"
    }
   ],
   "source": [
    "(29622 - 7880 + q.shape[0]) / test.shape[0]"
   ]
  },
  {
   "cell_type": "code",
   "execution_count": 322,
   "metadata": {},
   "outputs": [],
   "source": [
    "q = q.assign(err_spl = lambda x: [haversine_distance(lat1, lon1, lat2, lon2) for lat1, lon1, lat2, lon2 in zip(x.lat_pred2,\n",
    "                                                                                                              x.lon_pred2,\n",
    "                                                                                                              x.spl_lat,\n",
    "                                                                                                              x.spl_lon)])"
   ]
  },
  {
   "cell_type": "code",
   "execution_count": 327,
   "metadata": {},
   "outputs": [
    {
     "data": {
      "text/plain": [
       "7880"
      ]
     },
     "execution_count": 327,
     "metadata": {},
     "output_type": "execute_result"
    }
   ],
   "source": [
    "len(np.where(q.err_spl > 200)[0])"
   ]
  },
  {
   "cell_type": "code",
   "execution_count": 332,
   "metadata": {},
   "outputs": [],
   "source": [
    "pred = pred.assign(err_spl = lambda x: [haversine_distance(lat1, lon1, lat2, lon2) for lat1, lon1, lat2, lon2 in zip(x.lat_pred2,\n",
    "                                                                                                              x.lon_pred2,\n",
    "                                                                                                              x.spl_lat,\n",
    "                                                                                                              x.spl_lon)])"
   ]
  },
  {
   "cell_type": "code",
   "execution_count": 335,
   "metadata": {},
   "outputs": [
    {
     "data": {
      "text/plain": [
       "array([ 889, 2454, 1760, 1156,  824, 2780, 2328, 1166,  440, 2451,  654,\n",
       "       1171, 1100, 1920,  597, 1447,  714, 1424, 2526, 2139, 2331, 1061,\n",
       "        729, 1091, 2364, 2504, 2619,  112,  572, 2037, 1589,    5, 2778,\n",
       "       1334,  173, 1788, 1472,  279,  478, 1456,  338, 1144,  328,  663,\n",
       "       1325, 2674, 2222, 2700, 1418, 2085, 2006,  542, 1664, 1153, 2252,\n",
       "        480,  784, 2851, 2043,  275, 1735,  546,  718, 1515,  868, 2140,\n",
       "       2879, 2894, 1859, 2811,  700, 2898, 1511, 1056, 2482, 1595, 1158,\n",
       "       2348, 1943, 2460,  832, 1287, 1851, 1069,   72,  890,  105, 2754,\n",
       "        908, 1031, 1010, 2627, 2522, 1559, 2788, 2545, 1344])"
      ]
     },
     "execution_count": 335,
     "metadata": {},
     "output_type": "execute_result"
    }
   ],
   "source": [
    "pred.iloc[np.where(q.err_spl > 200)[0]].aircraft.unique()"
   ]
  },
  {
   "cell_type": "code",
   "execution_count": 598,
   "metadata": {},
   "outputs": [],
   "source": [
    "r = pd.read_csv('submission_sat_1.csv')\n",
    "\n",
    "r.loc[lambda x: np.isnan(x.latitude), ['geoAltitude']] = np.nan\n",
    "r = r.sort_values('id')\n",
    "r.to_csv('sub_5.csv', index=False)\n",
    "#r = r.drop_duplicates()"
   ]
  },
  {
   "cell_type": "code",
   "execution_count": 576,
   "metadata": {},
   "outputs": [],
   "source": [
    "r.loc[lambda x: np.isnan(x.latitude), ['geoAltitude']] = np.nan"
   ]
  },
  {
   "cell_type": "code",
   "execution_count": 599,
   "metadata": {},
   "outputs": [
    {
     "data": {
      "text/html": [
       "<div>\n",
       "<style scoped>\n",
       "    .dataframe tbody tr th:only-of-type {\n",
       "        vertical-align: middle;\n",
       "    }\n",
       "\n",
       "    .dataframe tbody tr th {\n",
       "        vertical-align: top;\n",
       "    }\n",
       "\n",
       "    .dataframe thead th {\n",
       "        text-align: right;\n",
       "    }\n",
       "</style>\n",
       "<table border=\"1\" class=\"dataframe\">\n",
       "  <thead>\n",
       "    <tr style=\"text-align: right;\">\n",
       "      <th></th>\n",
       "      <th>id</th>\n",
       "      <th>latitude</th>\n",
       "      <th>longitude</th>\n",
       "      <th>geoAltitude</th>\n",
       "    </tr>\n",
       "  </thead>\n",
       "  <tbody>\n",
       "    <tr>\n",
       "      <th>0</th>\n",
       "      <td>12</td>\n",
       "      <td>51.422478</td>\n",
       "      <td>-0.904694</td>\n",
       "      <td>7947.66</td>\n",
       "    </tr>\n",
       "    <tr>\n",
       "      <th>1</th>\n",
       "      <td>13</td>\n",
       "      <td>51.422478</td>\n",
       "      <td>-0.904694</td>\n",
       "      <td>7947.66</td>\n",
       "    </tr>\n",
       "    <tr>\n",
       "      <th>2</th>\n",
       "      <td>18</td>\n",
       "      <td>NaN</td>\n",
       "      <td>NaN</td>\n",
       "      <td>NaN</td>\n",
       "    </tr>\n",
       "    <tr>\n",
       "      <th>3</th>\n",
       "      <td>20</td>\n",
       "      <td>42.505118</td>\n",
       "      <td>1.419813</td>\n",
       "      <td>12199.62</td>\n",
       "    </tr>\n",
       "    <tr>\n",
       "      <th>4</th>\n",
       "      <td>24</td>\n",
       "      <td>NaN</td>\n",
       "      <td>NaN</td>\n",
       "      <td>NaN</td>\n",
       "    </tr>\n",
       "    <tr>\n",
       "      <th>...</th>\n",
       "      <td>...</td>\n",
       "      <td>...</td>\n",
       "      <td>...</td>\n",
       "      <td>...</td>\n",
       "    </tr>\n",
       "    <tr>\n",
       "      <th>632927</th>\n",
       "      <td>6457507</td>\n",
       "      <td>NaN</td>\n",
       "      <td>NaN</td>\n",
       "      <td>NaN</td>\n",
       "    </tr>\n",
       "    <tr>\n",
       "      <th>632928</th>\n",
       "      <td>6457509</td>\n",
       "      <td>NaN</td>\n",
       "      <td>NaN</td>\n",
       "      <td>NaN</td>\n",
       "    </tr>\n",
       "    <tr>\n",
       "      <th>632929</th>\n",
       "      <td>6457518</td>\n",
       "      <td>NaN</td>\n",
       "      <td>NaN</td>\n",
       "      <td>NaN</td>\n",
       "    </tr>\n",
       "    <tr>\n",
       "      <th>632930</th>\n",
       "      <td>6457538</td>\n",
       "      <td>NaN</td>\n",
       "      <td>NaN</td>\n",
       "      <td>NaN</td>\n",
       "    </tr>\n",
       "    <tr>\n",
       "      <th>632931</th>\n",
       "      <td>6457540</td>\n",
       "      <td>NaN</td>\n",
       "      <td>NaN</td>\n",
       "      <td>NaN</td>\n",
       "    </tr>\n",
       "  </tbody>\n",
       "</table>\n",
       "<p>632932 rows × 4 columns</p>\n",
       "</div>"
      ],
      "text/plain": [
       "             id   latitude  longitude  geoAltitude\n",
       "0            12  51.422478  -0.904694      7947.66\n",
       "1            13  51.422478  -0.904694      7947.66\n",
       "2            18        NaN        NaN          NaN\n",
       "3            20  42.505118   1.419813     12199.62\n",
       "4            24        NaN        NaN          NaN\n",
       "...         ...        ...        ...          ...\n",
       "632927  6457507        NaN        NaN          NaN\n",
       "632928  6457509        NaN        NaN          NaN\n",
       "632929  6457518        NaN        NaN          NaN\n",
       "632930  6457538        NaN        NaN          NaN\n",
       "632931  6457540        NaN        NaN          NaN\n",
       "\n",
       "[632932 rows x 4 columns]"
      ]
     },
     "execution_count": 599,
     "metadata": {},
     "output_type": "execute_result"
    }
   ],
   "source": [
    "pd.read_csv('sub_5.csv')\n",
    "#r.to_csv('sub_4.csv', index=False)"
   ]
  },
  {
   "cell_type": "code",
   "execution_count": 580,
   "metadata": {},
   "outputs": [
    {
     "data": {
      "text/html": [
       "<div>\n",
       "<style scoped>\n",
       "    .dataframe tbody tr th:only-of-type {\n",
       "        vertical-align: middle;\n",
       "    }\n",
       "\n",
       "    .dataframe tbody tr th {\n",
       "        vertical-align: top;\n",
       "    }\n",
       "\n",
       "    .dataframe thead th {\n",
       "        text-align: right;\n",
       "    }\n",
       "</style>\n",
       "<table border=\"1\" class=\"dataframe\">\n",
       "  <thead>\n",
       "    <tr style=\"text-align: right;\">\n",
       "      <th></th>\n",
       "      <th>id</th>\n",
       "      <th>timeAtServer</th>\n",
       "      <th>aircraft</th>\n",
       "      <th>latitude</th>\n",
       "      <th>longitude</th>\n",
       "      <th>baroAltitude</th>\n",
       "      <th>geoAltitude</th>\n",
       "      <th>numMeasurements</th>\n",
       "      <th>measurements</th>\n",
       "      <th>test</th>\n",
       "    </tr>\n",
       "  </thead>\n",
       "  <tbody>\n",
       "    <tr>\n",
       "      <th>11</th>\n",
       "      <td>12</td>\n",
       "      <td>0.003</td>\n",
       "      <td>2007</td>\n",
       "      <td>NaN</td>\n",
       "      <td>NaN</td>\n",
       "      <td>7947.66</td>\n",
       "      <td>NaN</td>\n",
       "      <td>9</td>\n",
       "      <td>[[185,266685578,76],[216,975259156,61],[269,-3...</td>\n",
       "      <td>1</td>\n",
       "    </tr>\n",
       "    <tr>\n",
       "      <th>12</th>\n",
       "      <td>13</td>\n",
       "      <td>0.003</td>\n",
       "      <td>2007</td>\n",
       "      <td>NaN</td>\n",
       "      <td>NaN</td>\n",
       "      <td>7947.66</td>\n",
       "      <td>NaN</td>\n",
       "      <td>9</td>\n",
       "      <td>[[185,266685578,76],[216,975259156,61],[269,-3...</td>\n",
       "      <td>1</td>\n",
       "    </tr>\n",
       "    <tr>\n",
       "      <th>17</th>\n",
       "      <td>18</td>\n",
       "      <td>0.003</td>\n",
       "      <td>863</td>\n",
       "      <td>NaN</td>\n",
       "      <td>NaN</td>\n",
       "      <td>5402.58</td>\n",
       "      <td>NaN</td>\n",
       "      <td>2</td>\n",
       "      <td>[[628,26776133500,194],[552,29075053083.3333,52]]</td>\n",
       "      <td>1</td>\n",
       "    </tr>\n",
       "    <tr>\n",
       "      <th>19</th>\n",
       "      <td>20</td>\n",
       "      <td>0.003</td>\n",
       "      <td>579</td>\n",
       "      <td>NaN</td>\n",
       "      <td>NaN</td>\n",
       "      <td>12199.62</td>\n",
       "      <td>NaN</td>\n",
       "      <td>4</td>\n",
       "      <td>[[628,26800463583.3333,63],[434,3190862666.666...</td>\n",
       "      <td>1</td>\n",
       "    </tr>\n",
       "    <tr>\n",
       "      <th>23</th>\n",
       "      <td>24</td>\n",
       "      <td>0.004</td>\n",
       "      <td>889</td>\n",
       "      <td>NaN</td>\n",
       "      <td>NaN</td>\n",
       "      <td>11269.98</td>\n",
       "      <td>NaN</td>\n",
       "      <td>3</td>\n",
       "      <td>[[169,18476432750,42],[463,44145377500,120],[6...</td>\n",
       "      <td>1</td>\n",
       "    </tr>\n",
       "    <tr>\n",
       "      <th>...</th>\n",
       "      <td>...</td>\n",
       "      <td>...</td>\n",
       "      <td>...</td>\n",
       "      <td>...</td>\n",
       "      <td>...</td>\n",
       "      <td>...</td>\n",
       "      <td>...</td>\n",
       "      <td>...</td>\n",
       "      <td>...</td>\n",
       "      <td>...</td>\n",
       "    </tr>\n",
       "    <tr>\n",
       "      <th>6457506</th>\n",
       "      <td>6457507</td>\n",
       "      <td>3599.951</td>\n",
       "      <td>1776</td>\n",
       "      <td>NaN</td>\n",
       "      <td>NaN</td>\n",
       "      <td>10073.64</td>\n",
       "      <td>NaN</td>\n",
       "      <td>2</td>\n",
       "      <td>[[670,3600934669203,98],[134,3600934662390,77]]</td>\n",
       "      <td>1</td>\n",
       "    </tr>\n",
       "    <tr>\n",
       "      <th>6457508</th>\n",
       "      <td>6457509</td>\n",
       "      <td>3599.951</td>\n",
       "      <td>874</td>\n",
       "      <td>NaN</td>\n",
       "      <td>NaN</td>\n",
       "      <td>8534.40</td>\n",
       "      <td>NaN</td>\n",
       "      <td>4</td>\n",
       "      <td>[[469,3631982078583.33,184],[625,3597950528250...</td>\n",
       "      <td>1</td>\n",
       "    </tr>\n",
       "    <tr>\n",
       "      <th>6457517</th>\n",
       "      <td>6457518</td>\n",
       "      <td>3599.956</td>\n",
       "      <td>712</td>\n",
       "      <td>NaN</td>\n",
       "      <td>NaN</td>\n",
       "      <td>12192.00</td>\n",
       "      <td>NaN</td>\n",
       "      <td>2</td>\n",
       "      <td>[[293,3604192822833.33,49],[425,3662018885666....</td>\n",
       "      <td>1</td>\n",
       "    </tr>\n",
       "    <tr>\n",
       "      <th>6457537</th>\n",
       "      <td>6457538</td>\n",
       "      <td>3599.977</td>\n",
       "      <td>1224</td>\n",
       "      <td>NaN</td>\n",
       "      <td>NaN</td>\n",
       "      <td>10972.80</td>\n",
       "      <td>NaN</td>\n",
       "      <td>4</td>\n",
       "      <td>[[259,3600971711718,51],[257,3600971141078,83]...</td>\n",
       "      <td>1</td>\n",
       "    </tr>\n",
       "    <tr>\n",
       "      <th>6457539</th>\n",
       "      <td>6457540</td>\n",
       "      <td>3599.987</td>\n",
       "      <td>2333</td>\n",
       "      <td>NaN</td>\n",
       "      <td>NaN</td>\n",
       "      <td>7376.16</td>\n",
       "      <td>NaN</td>\n",
       "      <td>2</td>\n",
       "      <td>[[185,3600260210062,40],[288,3607631474916.67,...</td>\n",
       "      <td>1</td>\n",
       "    </tr>\n",
       "  </tbody>\n",
       "</table>\n",
       "<p>632932 rows × 10 columns</p>\n",
       "</div>"
      ],
      "text/plain": [
       "              id  timeAtServer  aircraft  latitude  longitude  baroAltitude  \\\n",
       "11            12         0.003      2007       NaN        NaN       7947.66   \n",
       "12            13         0.003      2007       NaN        NaN       7947.66   \n",
       "17            18         0.003       863       NaN        NaN       5402.58   \n",
       "19            20         0.003       579       NaN        NaN      12199.62   \n",
       "23            24         0.004       889       NaN        NaN      11269.98   \n",
       "...          ...           ...       ...       ...        ...           ...   \n",
       "6457506  6457507      3599.951      1776       NaN        NaN      10073.64   \n",
       "6457508  6457509      3599.951       874       NaN        NaN       8534.40   \n",
       "6457517  6457518      3599.956       712       NaN        NaN      12192.00   \n",
       "6457537  6457538      3599.977      1224       NaN        NaN      10972.80   \n",
       "6457539  6457540      3599.987      2333       NaN        NaN       7376.16   \n",
       "\n",
       "         geoAltitude  numMeasurements  \\\n",
       "11               NaN                9   \n",
       "12               NaN                9   \n",
       "17               NaN                2   \n",
       "19               NaN                4   \n",
       "23               NaN                3   \n",
       "...              ...              ...   \n",
       "6457506          NaN                2   \n",
       "6457508          NaN                4   \n",
       "6457517          NaN                2   \n",
       "6457537          NaN                4   \n",
       "6457539          NaN                2   \n",
       "\n",
       "                                              measurements  test  \n",
       "11       [[185,266685578,76],[216,975259156,61],[269,-3...     1  \n",
       "12       [[185,266685578,76],[216,975259156,61],[269,-3...     1  \n",
       "17       [[628,26776133500,194],[552,29075053083.3333,52]]     1  \n",
       "19       [[628,26800463583.3333,63],[434,3190862666.666...     1  \n",
       "23       [[169,18476432750,42],[463,44145377500,120],[6...     1  \n",
       "...                                                    ...   ...  \n",
       "6457506    [[670,3600934669203,98],[134,3600934662390,77]]     1  \n",
       "6457508  [[469,3631982078583.33,184],[625,3597950528250...     1  \n",
       "6457517  [[293,3604192822833.33,49],[425,3662018885666....     1  \n",
       "6457537  [[259,3600971711718,51],[257,3600971141078,83]...     1  \n",
       "6457539  [[185,3600260210062,40],[288,3607631474916.67,...     1  \n",
       "\n",
       "[632932 rows x 10 columns]"
      ]
     },
     "execution_count": 580,
     "metadata": {},
     "output_type": "execute_result"
    }
   ],
   "source": [
    "df[df.test==1]"
   ]
  },
  {
   "cell_type": "code",
   "execution_count": 582,
   "metadata": {},
   "outputs": [
    {
     "data": {
      "text/html": [
       "<div>\n",
       "<style scoped>\n",
       "    .dataframe tbody tr th:only-of-type {\n",
       "        vertical-align: middle;\n",
       "    }\n",
       "\n",
       "    .dataframe tbody tr th {\n",
       "        vertical-align: top;\n",
       "    }\n",
       "\n",
       "    .dataframe thead th {\n",
       "        text-align: right;\n",
       "    }\n",
       "</style>\n",
       "<table border=\"1\" class=\"dataframe\">\n",
       "  <thead>\n",
       "    <tr style=\"text-align: right;\">\n",
       "      <th></th>\n",
       "      <th>id</th>\n",
       "      <th>latitude</th>\n",
       "      <th>longitude</th>\n",
       "      <th>geoAltitude</th>\n",
       "    </tr>\n",
       "  </thead>\n",
       "  <tbody>\n",
       "    <tr>\n",
       "      <th>0</th>\n",
       "      <td>12</td>\n",
       "      <td>51.422478</td>\n",
       "      <td>-0.904694</td>\n",
       "      <td>7947.66</td>\n",
       "    </tr>\n",
       "    <tr>\n",
       "      <th>1</th>\n",
       "      <td>13</td>\n",
       "      <td>51.422478</td>\n",
       "      <td>-0.904694</td>\n",
       "      <td>7947.66</td>\n",
       "    </tr>\n",
       "    <tr>\n",
       "      <th>444924</th>\n",
       "      <td>18</td>\n",
       "      <td>NaN</td>\n",
       "      <td>NaN</td>\n",
       "      <td>NaN</td>\n",
       "    </tr>\n",
       "    <tr>\n",
       "      <th>1428</th>\n",
       "      <td>20</td>\n",
       "      <td>42.505118</td>\n",
       "      <td>1.419813</td>\n",
       "      <td>12199.62</td>\n",
       "    </tr>\n",
       "    <tr>\n",
       "      <th>444925</th>\n",
       "      <td>24</td>\n",
       "      <td>NaN</td>\n",
       "      <td>NaN</td>\n",
       "      <td>NaN</td>\n",
       "    </tr>\n",
       "    <tr>\n",
       "      <th>...</th>\n",
       "      <td>...</td>\n",
       "      <td>...</td>\n",
       "      <td>...</td>\n",
       "      <td>...</td>\n",
       "    </tr>\n",
       "    <tr>\n",
       "      <th>633048</th>\n",
       "      <td>6457507</td>\n",
       "      <td>NaN</td>\n",
       "      <td>NaN</td>\n",
       "      <td>NaN</td>\n",
       "    </tr>\n",
       "    <tr>\n",
       "      <th>633049</th>\n",
       "      <td>6457509</td>\n",
       "      <td>NaN</td>\n",
       "      <td>NaN</td>\n",
       "      <td>NaN</td>\n",
       "    </tr>\n",
       "    <tr>\n",
       "      <th>633050</th>\n",
       "      <td>6457518</td>\n",
       "      <td>NaN</td>\n",
       "      <td>NaN</td>\n",
       "      <td>NaN</td>\n",
       "    </tr>\n",
       "    <tr>\n",
       "      <th>633051</th>\n",
       "      <td>6457538</td>\n",
       "      <td>NaN</td>\n",
       "      <td>NaN</td>\n",
       "      <td>NaN</td>\n",
       "    </tr>\n",
       "    <tr>\n",
       "      <th>633052</th>\n",
       "      <td>6457540</td>\n",
       "      <td>NaN</td>\n",
       "      <td>NaN</td>\n",
       "      <td>NaN</td>\n",
       "    </tr>\n",
       "  </tbody>\n",
       "</table>\n",
       "<p>632932 rows × 4 columns</p>\n",
       "</div>"
      ],
      "text/plain": [
       "             id   latitude  longitude  geoAltitude\n",
       "0            12  51.422478  -0.904694      7947.66\n",
       "1            13  51.422478  -0.904694      7947.66\n",
       "444924       18        NaN        NaN          NaN\n",
       "1428         20  42.505118   1.419813     12199.62\n",
       "444925       24        NaN        NaN          NaN\n",
       "...         ...        ...        ...          ...\n",
       "633048  6457507        NaN        NaN          NaN\n",
       "633049  6457509        NaN        NaN          NaN\n",
       "633050  6457518        NaN        NaN          NaN\n",
       "633051  6457538        NaN        NaN          NaN\n",
       "633052  6457540        NaN        NaN          NaN\n",
       "\n",
       "[632932 rows x 4 columns]"
      ]
     },
     "execution_count": 582,
     "metadata": {},
     "output_type": "execute_result"
    }
   ],
   "source": [
    "r.sort_values('id')"
   ]
  },
  {
   "cell_type": "code",
   "execution_count": 588,
   "metadata": {},
   "outputs": [],
   "source": [
    "r = (r.loc[:, ['id', 'latitude', 'longitude']]\n",
    " .rename(columns={'latitude':'lat_pred2',\n",
    "                  'longitude':'lon_pred2'})\n",
    " .merge(df[df.test==1], on='id', how='outer')\n",
    ")"
   ]
  },
  {
   "cell_type": "code",
   "execution_count": 595,
   "metadata": {},
   "outputs": [
    {
     "data": {
      "text/plain": [
       "[<matplotlib.lines.Line2D at 0x7fb07595f0a0>]"
      ]
     },
     "execution_count": 595,
     "metadata": {},
     "output_type": "execute_result"
    },
    {
     "data": {
      "image/png": "[encoded data removed]",
      "text/plain": [
       "<Figure size 1080x720 with 1 Axes>"
      ]
     },
     "metadata": {
      "needs_background": "light"
     },
     "output_type": "display_data"
    }
   ],
   "source": [
    "plt.plot(r[r.aircraft == r.aircraft.unique()[6]].lon_pred2,\n",
    "         r[r.aircraft == r.aircraft.unique()[6]].lat_pred2, '.')"
   ]
  },
  {
   "cell_type": "code",
   "execution_count": null,
   "metadata": {},
   "outputs": [],
   "source": []
  }
 ],
 "metadata": {
  "kernelspec": {
   "display_name": "Python 3",
   "language": "python",
   "name": "python3"
  },
  "language_info": {
   "codemirror_mode": {
    "name": "ipython",
    "version": 3
   },
   "file_extension": ".py",
   "mimetype": "text/x-python",
   "name": "python",
   "nbconvert_exporter": "python",
   "pygments_lexer": "ipython3",
   "version": "3.9.0"
  }
 },
 "nbformat": 4,
 "nbformat_minor": 2
}
